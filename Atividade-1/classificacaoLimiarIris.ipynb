{
 "cells": [
  {
   "cell_type": "markdown",
   "id": "e9499a97",
   "metadata": {},
   "source": [
    "# Atividade 01: Desenvolvimento de um Classificador Binário por Limiar\n",
    "Nome: Juan Felipe Da Silva Rangel\n",
    "\n",
    "O objetivo desta atividade é utilizar o dataset 'iris_2class.csv' para o desenvolvimento de um classificador binário por limiar. Este subconjunto contém duas classes/espécies 'virginica' e 'versicolor', e 4 medidas de flores 'sepal length (cm)', 'sepal width (cm)', 'petal length (cm)' e 'petal width (cm)'. Para construção deste classificador foi necessário realizar uma análise nos dados contidos no dataset utilizado, com o objetivo de identificar a característica que melhor separa as classes contidas neste conjunto.\n",
    "As bibliotecas utilizadas durante o desenvolvimento foram:\n",
    "\n",
    "* Pandas: Biblioteca com o propósito de manipular e realizar análise de dados, oferencendo estruturas e operações para manipulação de tabelas numéricas e séries temporais.\n",
    "* Seaborn: Utilizada para visualização de dados, baseada no matplotlib, que também foi utilizado neste atividade, a qual oferece uma interface para criação de gráficos.\n",
    "* Matplotlib: Também é uma biblioteca de visualização de dados e gráficos em geral, o qual oferece um interface semelhante ao MATLAB, porém com a vantagem da flexibilidade da linguagem python.\n",
    "* Numpy: Uma biblioteca que permite trabalhar com dados vetoriais, oferecendo uma maior performance para manipulação deste tipo de estrutura.\n",
    "* Sklearn: É uma biblioteca de aprendizagem de máquina, a qual inclui a implementação de vários algoritmos de classificação, regressão e agrupamento.\n",
    "* Random: Oferece métodos para gerar números aleatórios e realizar operações de embaralhamento em estruturas como uma lista.\n",
    "\n"
   ]
  },
  {
   "cell_type": "code",
   "execution_count": 2,
   "id": "c9a45aa6-b56f-46e9-a298-a312bd2d81ed",
   "metadata": {},
   "outputs": [],
   "source": [
    "import pandas as pd\n",
    "import seaborn as sns\n",
    "import matplotlib.pyplot as plt\n",
    "import numpy as np\n",
    "\n",
    "%matplotlib inline"
   ]
  },
  {
   "cell_type": "markdown",
   "id": "8470aa1e",
   "metadata": {},
   "source": [
    "# Carregando base de dados\n",
    "Na célula abaixo carrego o dataset 'iris_2class.csv', o qual o contém 4 características de plantas, em conjunto com sua classe (espécie), listando por fim as cinco últimas linhas."
   ]
  },
  {
   "cell_type": "code",
   "execution_count": 3,
   "id": "908bda76-eb12-408f-ba72-073fb93900e2",
   "metadata": {},
   "outputs": [
    {
     "data": {
      "text/html": [
       "<div>\n",
       "<style scoped>\n",
       "    .dataframe tbody tr th:only-of-type {\n",
       "        vertical-align: middle;\n",
       "    }\n",
       "\n",
       "    .dataframe tbody tr th {\n",
       "        vertical-align: top;\n",
       "    }\n",
       "\n",
       "    .dataframe thead th {\n",
       "        text-align: right;\n",
       "    }\n",
       "</style>\n",
       "<table border=\"1\" class=\"dataframe\">\n",
       "  <thead>\n",
       "    <tr style=\"text-align: right;\">\n",
       "      <th></th>\n",
       "      <th>sepal length (cm)</th>\n",
       "      <th>sepal width (cm)</th>\n",
       "      <th>petal length (cm)</th>\n",
       "      <th>petal width (cm)</th>\n",
       "      <th>especie</th>\n",
       "    </tr>\n",
       "  </thead>\n",
       "  <tbody>\n",
       "    <tr>\n",
       "      <th>95</th>\n",
       "      <td>6.7</td>\n",
       "      <td>3.0</td>\n",
       "      <td>5.2</td>\n",
       "      <td>2.3</td>\n",
       "      <td>virginica</td>\n",
       "    </tr>\n",
       "    <tr>\n",
       "      <th>96</th>\n",
       "      <td>6.3</td>\n",
       "      <td>2.5</td>\n",
       "      <td>5.0</td>\n",
       "      <td>1.9</td>\n",
       "      <td>virginica</td>\n",
       "    </tr>\n",
       "    <tr>\n",
       "      <th>97</th>\n",
       "      <td>6.5</td>\n",
       "      <td>3.0</td>\n",
       "      <td>5.2</td>\n",
       "      <td>2.0</td>\n",
       "      <td>virginica</td>\n",
       "    </tr>\n",
       "    <tr>\n",
       "      <th>98</th>\n",
       "      <td>6.2</td>\n",
       "      <td>3.4</td>\n",
       "      <td>5.4</td>\n",
       "      <td>2.3</td>\n",
       "      <td>virginica</td>\n",
       "    </tr>\n",
       "    <tr>\n",
       "      <th>99</th>\n",
       "      <td>5.9</td>\n",
       "      <td>3.0</td>\n",
       "      <td>5.1</td>\n",
       "      <td>1.8</td>\n",
       "      <td>virginica</td>\n",
       "    </tr>\n",
       "  </tbody>\n",
       "</table>\n",
       "</div>"
      ],
      "text/plain": [
       "    sepal length (cm)  sepal width (cm)  petal length (cm)  petal width (cm)  \\\n",
       "95                6.7               3.0                5.2               2.3   \n",
       "96                6.3               2.5                5.0               1.9   \n",
       "97                6.5               3.0                5.2               2.0   \n",
       "98                6.2               3.4                5.4               2.3   \n",
       "99                5.9               3.0                5.1               1.8   \n",
       "\n",
       "      especie  \n",
       "95  virginica  \n",
       "96  virginica  \n",
       "97  virginica  \n",
       "98  virginica  \n",
       "99  virginica  "
      ]
     },
     "execution_count": 3,
     "metadata": {},
     "output_type": "execute_result"
    }
   ],
   "source": [
    "df = pd.read_csv('iris_2class.csv')\n",
    "df.tail()"
   ]
  },
  {
   "cell_type": "markdown",
   "id": "0a96a126",
   "metadata": {},
   "source": [
    "# Análise dos Dados\n",
    "\n",
    "Como dito anteriormente, cada um dos dados utilizados para definir uma espécie de característica. Neste caso analisaremos qual das características a seguir: 'sepal length (cm)', 'sepal width (cm)', 'petal length (cm)' e 'petal width (cm)', é a melhor para classificar as duas espécies contido no dataset: 'virginica' e 'versicolor', podendo ser chamadas também de características de saída.\n",
    "Começarei então realizando o cálculo das estatísticas descritivas individualmente para cada característica, agrupando a saída com as classes que gostaria de classificar, sendo neste caso a espécie de planta."
   ]
  },
  {
   "cell_type": "code",
   "execution_count": 32,
   "id": "c05434bf-fcae-443f-8438-873a106546ce",
   "metadata": {},
   "outputs": [
    {
     "data": {
      "text/html": [
       "<div>\n",
       "<style scoped>\n",
       "    .dataframe tbody tr th:only-of-type {\n",
       "        vertical-align: middle;\n",
       "    }\n",
       "\n",
       "    .dataframe tbody tr th {\n",
       "        vertical-align: top;\n",
       "    }\n",
       "\n",
       "    .dataframe thead tr th {\n",
       "        text-align: left;\n",
       "    }\n",
       "\n",
       "    .dataframe thead tr:last-of-type th {\n",
       "        text-align: right;\n",
       "    }\n",
       "</style>\n",
       "<table border=\"1\" class=\"dataframe\">\n",
       "  <thead>\n",
       "    <tr>\n",
       "      <th></th>\n",
       "      <th colspan=\"8\" halign=\"left\">sepal length (cm)</th>\n",
       "      <th colspan=\"8\" halign=\"left\">sepal width (cm)</th>\n",
       "      <th colspan=\"8\" halign=\"left\">petal length (cm)</th>\n",
       "      <th colspan=\"8\" halign=\"left\">petal width (cm)</th>\n",
       "    </tr>\n",
       "    <tr>\n",
       "      <th></th>\n",
       "      <th>count</th>\n",
       "      <th>mean</th>\n",
       "      <th>std</th>\n",
       "      <th>min</th>\n",
       "      <th>25%</th>\n",
       "      <th>50%</th>\n",
       "      <th>75%</th>\n",
       "      <th>max</th>\n",
       "      <th>count</th>\n",
       "      <th>mean</th>\n",
       "      <th>std</th>\n",
       "      <th>min</th>\n",
       "      <th>25%</th>\n",
       "      <th>50%</th>\n",
       "      <th>75%</th>\n",
       "      <th>max</th>\n",
       "      <th>count</th>\n",
       "      <th>mean</th>\n",
       "      <th>std</th>\n",
       "      <th>min</th>\n",
       "      <th>25%</th>\n",
       "      <th>50%</th>\n",
       "      <th>75%</th>\n",
       "      <th>max</th>\n",
       "      <th>count</th>\n",
       "      <th>mean</th>\n",
       "      <th>std</th>\n",
       "      <th>min</th>\n",
       "      <th>25%</th>\n",
       "      <th>50%</th>\n",
       "      <th>75%</th>\n",
       "      <th>max</th>\n",
       "    </tr>\n",
       "    <tr>\n",
       "      <th>especie</th>\n",
       "      <th></th>\n",
       "      <th></th>\n",
       "      <th></th>\n",
       "      <th></th>\n",
       "      <th></th>\n",
       "      <th></th>\n",
       "      <th></th>\n",
       "      <th></th>\n",
       "      <th></th>\n",
       "      <th></th>\n",
       "      <th></th>\n",
       "      <th></th>\n",
       "      <th></th>\n",
       "      <th></th>\n",
       "      <th></th>\n",
       "      <th></th>\n",
       "      <th></th>\n",
       "      <th></th>\n",
       "      <th></th>\n",
       "      <th></th>\n",
       "      <th></th>\n",
       "      <th></th>\n",
       "      <th></th>\n",
       "      <th></th>\n",
       "      <th></th>\n",
       "      <th></th>\n",
       "      <th></th>\n",
       "      <th></th>\n",
       "      <th></th>\n",
       "      <th></th>\n",
       "      <th></th>\n",
       "      <th></th>\n",
       "    </tr>\n",
       "  </thead>\n",
       "  <tbody>\n",
       "    <tr>\n",
       "      <th>versicolor</th>\n",
       "      <td>50.0</td>\n",
       "      <td>5.936</td>\n",
       "      <td>0.516171</td>\n",
       "      <td>4.9</td>\n",
       "      <td>5.600</td>\n",
       "      <td>5.9</td>\n",
       "      <td>6.3</td>\n",
       "      <td>7.0</td>\n",
       "      <td>50.0</td>\n",
       "      <td>2.770</td>\n",
       "      <td>0.313798</td>\n",
       "      <td>2.0</td>\n",
       "      <td>2.525</td>\n",
       "      <td>2.8</td>\n",
       "      <td>3.000</td>\n",
       "      <td>3.4</td>\n",
       "      <td>50.0</td>\n",
       "      <td>4.260</td>\n",
       "      <td>0.469911</td>\n",
       "      <td>3.0</td>\n",
       "      <td>4.0</td>\n",
       "      <td>4.35</td>\n",
       "      <td>4.600</td>\n",
       "      <td>5.1</td>\n",
       "      <td>50.0</td>\n",
       "      <td>1.326</td>\n",
       "      <td>0.197753</td>\n",
       "      <td>1.0</td>\n",
       "      <td>1.2</td>\n",
       "      <td>1.3</td>\n",
       "      <td>1.5</td>\n",
       "      <td>1.8</td>\n",
       "    </tr>\n",
       "    <tr>\n",
       "      <th>virginica</th>\n",
       "      <td>50.0</td>\n",
       "      <td>6.588</td>\n",
       "      <td>0.635880</td>\n",
       "      <td>4.9</td>\n",
       "      <td>6.225</td>\n",
       "      <td>6.5</td>\n",
       "      <td>6.9</td>\n",
       "      <td>7.9</td>\n",
       "      <td>50.0</td>\n",
       "      <td>2.974</td>\n",
       "      <td>0.322497</td>\n",
       "      <td>2.2</td>\n",
       "      <td>2.800</td>\n",
       "      <td>3.0</td>\n",
       "      <td>3.175</td>\n",
       "      <td>3.8</td>\n",
       "      <td>50.0</td>\n",
       "      <td>5.552</td>\n",
       "      <td>0.551895</td>\n",
       "      <td>4.5</td>\n",
       "      <td>5.1</td>\n",
       "      <td>5.55</td>\n",
       "      <td>5.875</td>\n",
       "      <td>6.9</td>\n",
       "      <td>50.0</td>\n",
       "      <td>2.026</td>\n",
       "      <td>0.274650</td>\n",
       "      <td>1.4</td>\n",
       "      <td>1.8</td>\n",
       "      <td>2.0</td>\n",
       "      <td>2.3</td>\n",
       "      <td>2.5</td>\n",
       "    </tr>\n",
       "  </tbody>\n",
       "</table>\n",
       "</div>"
      ],
      "text/plain": [
       "           sepal length (cm)                                              \\\n",
       "                       count   mean       std  min    25%  50%  75%  max   \n",
       "especie                                                                    \n",
       "versicolor              50.0  5.936  0.516171  4.9  5.600  5.9  6.3  7.0   \n",
       "virginica               50.0  6.588  0.635880  4.9  6.225  6.5  6.9  7.9   \n",
       "\n",
       "           sepal width (cm)                                                \\\n",
       "                      count   mean       std  min    25%  50%    75%  max   \n",
       "especie                                                                     \n",
       "versicolor             50.0  2.770  0.313798  2.0  2.525  2.8  3.000  3.4   \n",
       "virginica              50.0  2.974  0.322497  2.2  2.800  3.0  3.175  3.8   \n",
       "\n",
       "           petal length (cm)                                               \\\n",
       "                       count   mean       std  min  25%   50%    75%  max   \n",
       "especie                                                                     \n",
       "versicolor              50.0  4.260  0.469911  3.0  4.0  4.35  4.600  5.1   \n",
       "virginica               50.0  5.552  0.551895  4.5  5.1  5.55  5.875  6.9   \n",
       "\n",
       "           petal width (cm)                                            \n",
       "                      count   mean       std  min  25%  50%  75%  max  \n",
       "especie                                                                \n",
       "versicolor             50.0  1.326  0.197753  1.0  1.2  1.3  1.5  1.8  \n",
       "virginica              50.0  2.026  0.274650  1.4  1.8  2.0  2.3  2.5  "
      ]
     },
     "execution_count": 32,
     "metadata": {},
     "output_type": "execute_result"
    }
   ],
   "source": [
    "pd.set_option('display.max_columns', None)\n",
    "df.groupby('especie').describe(include= 'all')"
   ]
  },
  {
   "cell_type": "markdown",
   "id": "197d681a",
   "metadata": {},
   "source": [
    "Como é possível observar nos histogramas acima os atributos sepal length (cm) e sepal width (cm) se sobrepõem muito, ou seja, isso já um indicativo que esses atributos não seriam muito bons para classificar as duas classes (versicolor e virginica), já os atributos petal length (cm) e petal width (cm) não se sobrepõem muito, então plotarei o scatterplot utilizando ambos atributos, já que parecem mais promissores."
   ]
  },
  {
   "cell_type": "markdown",
   "id": "ef8e76e1",
   "metadata": {},
   "source": [
    "# Histograma de cada característica\n",
    "É possível observar os histogramas de cada característica utilizada para definir uma espécie abaixo. O objetivo de realizar estes plots é analisar como essas características se diferem entre sí, ou seja, desejamos encontrar uma característica que contenha valores diferentes para definição de cada espécie, contendo pouca sobreposição, como o 'petal length (cm)' e o 'petal width (cm)'.\n",
    "Isso significa que estas características são boas candidatas para realizar a classificação por limiar."
   ]
  },
  {
   "cell_type": "code",
   "execution_count": 29,
   "id": "56de32ea-ab20-4d92-833b-e8db88915a53",
   "metadata": {},
   "outputs": [
    {
     "data": {
      "image/png": "[encoded data removed]",
      "text/plain": [
       "<Figure size 1368x504 with 4 Axes>"
      ]
     },
     "metadata": {
      "needs_background": "light"
     },
     "output_type": "display_data"
    }
   ],
   "source": [
    "fig, axes = plt.subplots(nrows=1, ncols=4, figsize=(19,7))\n",
    "\n",
    "fig.suptitle('Histograma para cada característica de uma espécie', fontsize=30)\n",
    "\n",
    "sns.histplot(data=df, bins=10, x='sepal length (cm)', hue='especie', multiple='dodge', shrink=0.8, ax=axes[0])\n",
    "sns.histplot(data=df, bins=10, x='sepal width (cm)', hue='especie', multiple='dodge', shrink=0.8, ax=axes[1])\n",
    "sns.histplot(data=df, bins=10, x='petal length (cm)', hue='especie', multiple='dodge', shrink=0.8, ax=axes[2])\n",
    "sns.histplot(data=df, bins=10, x='petal width (cm)', hue='especie', multiple='dodge', shrink=0.8, ax=axes[3])\n",
    "\n",
    "plt.subplots_adjust(right=1, wspace=0.5)\n",
    "plt.show()"
   ]
  },
  {
   "cell_type": "markdown",
   "id": "9ea34ac9",
   "metadata": {},
   "source": [
    "# Seleção do atributo mais adequado\n",
    "Como foi definido anteriormente que os dois atributos 'petal length (cm)' e 'petal width (cm)' são os mais promissores, é um bom momento para realizar o scatterplot utilizando estas mesma características, com o objetivo de termos uma ideia de separabilidade entre as espécies. Podemos observar a seguir que parece que o atributo petal width parece ser o mais adequado para classificar as classes versicolor e virginica, utilizando o valor por volta de 1.65 como limiar para separação das duas classes."
   ]
  },
  {
   "cell_type": "code",
   "execution_count": 32,
   "id": "d53569c0",
   "metadata": {},
   "outputs": [
    {
     "data": {
      "text/plain": [
       "<AxesSubplot:xlabel='petal length (cm)', ylabel='petal width (cm)'>"
      ]
     },
     "execution_count": 32,
     "metadata": {},
     "output_type": "execute_result"
    },
    {
     "data": {
      "image/png": "[encoded data removed]",
      "text/plain": [
       "<Figure size 432x288 with 1 Axes>"
      ]
     },
     "metadata": {
      "needs_background": "light"
     },
     "output_type": "display_data"
    }
   ],
   "source": [
    "sns.scatterplot(data = df, x= 'petal length (cm)', y= 'petal width (cm)', hue = 'especie') "
   ]
  },
  {
   "cell_type": "markdown",
   "id": "c43ba4a0",
   "metadata": {},
   "source": [
    "A linha vermelha representada no gráfico abaixo representa o limiar de 1.65, que aparentemente parece ser por volta do valor do limiar para separação das duas classes."
   ]
  },
  {
   "cell_type": "code",
   "execution_count": 33,
   "id": "406b92f2",
   "metadata": {},
   "outputs": [
    {
     "data": {
      "text/plain": [
       "<matplotlib.lines.Line2D at 0x23b2a3314b0>"
      ]
     },
     "execution_count": 33,
     "metadata": {},
     "output_type": "execute_result"
    },
    {
     "data": {
      "image/png": "[encoded data removed]",
      "text/plain": [
       "<Figure size 432x288 with 1 Axes>"
      ]
     },
     "metadata": {
      "needs_background": "light"
     },
     "output_type": "display_data"
    }
   ],
   "source": [
    "sns.scatterplot(data = df, x= 'petal length (cm)', y= 'petal width (cm)', hue = 'especie') \n",
    "plt.axhline(1.65, color='red', label='Limiar')"
   ]
  },
  {
   "cell_type": "markdown",
   "id": "97ed60cd",
   "metadata": {},
   "source": [
    "# Implementação da busca exaustiva"
   ]
  },
  {
   "cell_type": "code",
   "execution_count": 37,
   "id": "7f76063a",
   "metadata": {},
   "outputs": [],
   "source": [
    "def busca_exaustiva(limiar, data):\n",
    "    classificacao = []\n",
    "    for idx,d in data.iterrows():\n",
    "        if d[0] < limiar:\n",
    "            classificacao.append('versicolor')\n",
    "        else:\n",
    "            classificacao.append('virginica')\n",
    "    \n",
    "    return pd.DataFrame(classificacao, columns=['especie'])"
   ]
  },
  {
   "cell_type": "code",
   "execution_count": 35,
   "id": "17c3539c",
   "metadata": {},
   "outputs": [],
   "source": [
    "from sklearn.metrics import accuracy_score\n",
    "from sklearn.model_selection import train_test_split"
   ]
  },
  {
   "cell_type": "markdown",
   "id": "291db31f",
   "metadata": {},
   "source": [
    "# Executando a busca exaustiva\n",
    "\n",
    "Abaixo estou executando a busca exaustiva para todo o conjunto de dados, utilizando 100 particionamentos. No fim retorno a melhor acurácia e o melhor limiar encontrado"
   ]
  },
  {
   "cell_type": "code",
   "execution_count": 38,
   "id": "f3ea9a58-307e-4f7c-a610-9491c4b8330f",
   "metadata": {},
   "outputs": [
    {
     "name": "stdout",
     "output_type": "stream",
     "text": [
      "Melhor acurácia: 0.94  Melhor limiar: 1.60\n"
     ]
    }
   ],
   "source": [
    "n_limiares = 100\n",
    "limiares = np.linspace(1.5, 2, n_limiares)\n",
    "\n",
    "dados = df[['petal width (cm)']]\n",
    "lista_acuracia = []\n",
    "maior_acuracia = 0\n",
    "\n",
    "for l in limiares:\n",
    "    classificacao = busca_exaustiva(l, dados)\n",
    "    acuracia = accuracy_score(df['especie'], classificacao['especie'])\n",
    "    lista_acuracia.append(acuracia)\n",
    "\n",
    "    if acuracia > maior_acuracia:\n",
    "        maior_acuracia = acuracia\n",
    "        melhor_limiar = l\n",
    "\n",
    "print(\"Melhor acurácia: %.2f  Melhor limiar: %.2f\" % (maior_acuracia, melhor_limiar))"
   ]
  },
  {
   "cell_type": "markdown",
   "id": "c0dc63d8",
   "metadata": {},
   "source": [
    "# Utilizando um conjunto de treino e teste para busca exaustiva\n",
    "\n",
    "Na célula abaixo executarei a busca exaustiva utilizando 20 particionamentos diferentes, utilizando 80% dos dados para o conjunto de treino e 20% para o conjunto de teste."
   ]
  },
  {
   "cell_type": "code",
   "execution_count": 39,
   "id": "97837918",
   "metadata": {},
   "outputs": [
    {
     "name": "stdout",
     "output_type": "stream",
     "text": [
      "Maior acurácia: 0.96, Menor acurácia: 0.93, Acurácia média: 0.94+-0.01\n"
     ]
    },
    {
     "data": {
      "image/png": "[encoded data removed]",
      "text/plain": [
       "<Figure size 432x288 with 1 Axes>"
      ]
     },
     "metadata": {
      "needs_background": "light"
     },
     "output_type": "display_data"
    }
   ],
   "source": [
    "import random\n",
    "\n",
    "particionamentos = [random.randint(10, 1000) for i in range(20)]\n",
    "acuracias_teste = []\n",
    "lista_classificacao = []\n",
    "melhor_acuracia_teste = 0\n",
    "\n",
    "for particionamento in particionamentos:\n",
    "    x_teste, x_treino, y_teste, y_treino = train_test_split(df[['petal width (cm)']], \n",
    "                                                            df['especie'], \n",
    "                                                            test_size=0.2, \n",
    "                                                            stratify=df['especie'].tolist(), \n",
    "                                                            shuffle=True, \n",
    "                                                            random_state= (particionamento*1000))\n",
    "    \n",
    "    classificacao_teste = busca_exaustiva(melhor_limiar, x_teste)\n",
    "    lista_classificacao.append(classificacao_teste)\n",
    "    acuracia_teste = accuracy_score(y_teste, classificacao_teste)\n",
    "    acuracias_teste.append(acuracia_teste)\n",
    "\n",
    "np_acuracias_teste = np.append(acuracias_teste,[])\n",
    "\n",
    "x_teste, x_treino, y_teste, y_treino = train_test_split(df[['petal width (cm)', 'petal length (cm)']], \n",
    "                                                            df['especie'], \n",
    "                                                            test_size=0.2, \n",
    "                                                            stratify=df['especie'].tolist(), \n",
    "                                                            shuffle=True, \n",
    "                                                            random_state= particionamentos[np_acuracias_teste.argmax()]*1000)\n",
    "\n",
    "\n",
    "\n",
    "dt = x_teste\n",
    "dt['especie'] = y_teste\n",
    "\n",
    "sns.scatterplot(data = dt, x= 'petal length (cm)', y= 'petal width (cm)', hue = 'especie') \n",
    "plt.title('Acurácia (Teste): %.2f' % np_acuracias_teste.max())\n",
    "plt.axhline(melhor_limiar, color='red', label='Limiar')\n",
    "\n",
    "print(\"Maior acurácia: %.2f, Menor acurácia: %.2f, Acurácia média: %.2f+-%.2f\" % (np_acuracias_teste.max(), np_acuracias_teste.min(),np.mean(acuracias_teste), np_acuracias_teste.std()))"
   ]
  }
 ],
 "metadata": {
  "kernelspec": {
   "display_name": "Python 3 (ipykernel)",
   "language": "python",
   "name": "python3"
  },
  "language_info": {
   "codemirror_mode": {
    "name": "ipython",
    "version": 3
   },
   "file_extension": ".py",
   "mimetype": "text/x-python",
   "name": "python",
   "nbconvert_exporter": "python",
   "pygments_lexer": "ipython3",
   "version": "3.10.1"
  }
 },
 "nbformat": 4,
 "nbformat_minor": 5
}
