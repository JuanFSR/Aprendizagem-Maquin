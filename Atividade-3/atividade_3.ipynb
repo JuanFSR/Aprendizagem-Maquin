{
 "cells": [
  {
   "cell_type": "markdown",
   "id": "c0b6d820",
   "metadata": {},
   "source": [
    "# Atividade 3 - Seleção de Modelos com Teste-T\n",
    "\n",
    "Nome: Juan Felipe Da Silva Rangel\n",
    "\n",
    "O objetivo desta atividade é explorar o dataset 'mini_mnist.csv', que representa imagens de dígitos de 0-9 manuscritos (contendo 785 colunas), e analisar o desempenho dos classifcadores SVM e KNN utilizando validação cruzada em um único nível. Como já sabemos, este dataset contém uma grande dimensionalidade, e por esse motivo, o PCA será utilizado para reduzir a dimensionalidade."
   ]
  },
  {
   "cell_type": "code",
   "execution_count": 115,
   "id": "87aa6ba8-490c-40ba-8eb2-69ad7c1c79b8",
   "metadata": {},
   "outputs": [],
   "source": [
    "import pandas as pd\n",
    "import seaborn as sns\n",
    "import matplotlib.pyplot as plt\n",
    "import numpy as np\n",
    "from tqdm.notebook import tqdm\n",
    "from utils import do_cv_knn\n",
    "\n",
    "%matplotlib inline"
   ]
  },
  {
   "cell_type": "code",
   "execution_count": 116,
   "id": "529c23fc-902c-47e5-b7e1-03b617882ca5",
   "metadata": {},
   "outputs": [
    {
     "data": {
      "text/html": [
       "<div>\n",
       "<style scoped>\n",
       "    .dataframe tbody tr th:only-of-type {\n",
       "        vertical-align: middle;\n",
       "    }\n",
       "\n",
       "    .dataframe tbody tr th {\n",
       "        vertical-align: top;\n",
       "    }\n",
       "\n",
       "    .dataframe thead th {\n",
       "        text-align: right;\n",
       "    }\n",
       "</style>\n",
       "<table border=\"1\" class=\"dataframe\">\n",
       "  <thead>\n",
       "    <tr style=\"text-align: right;\">\n",
       "      <th></th>\n",
       "      <th>pixel_0</th>\n",
       "      <th>pixel_1</th>\n",
       "      <th>pixel_2</th>\n",
       "      <th>pixel_3</th>\n",
       "      <th>pixel_4</th>\n",
       "      <th>pixel_5</th>\n",
       "      <th>pixel_6</th>\n",
       "      <th>pixel_7</th>\n",
       "      <th>pixel_8</th>\n",
       "      <th>pixel_9</th>\n",
       "      <th>...</th>\n",
       "      <th>pixel_775</th>\n",
       "      <th>pixel_776</th>\n",
       "      <th>pixel_777</th>\n",
       "      <th>pixel_778</th>\n",
       "      <th>pixel_779</th>\n",
       "      <th>pixel_780</th>\n",
       "      <th>pixel_781</th>\n",
       "      <th>pixel_782</th>\n",
       "      <th>pixel_783</th>\n",
       "      <th>digito</th>\n",
       "    </tr>\n",
       "  </thead>\n",
       "  <tbody>\n",
       "    <tr>\n",
       "      <th>1495</th>\n",
       "      <td>0</td>\n",
       "      <td>0</td>\n",
       "      <td>0</td>\n",
       "      <td>0</td>\n",
       "      <td>0</td>\n",
       "      <td>0</td>\n",
       "      <td>0</td>\n",
       "      <td>0</td>\n",
       "      <td>0</td>\n",
       "      <td>0</td>\n",
       "      <td>...</td>\n",
       "      <td>0</td>\n",
       "      <td>0</td>\n",
       "      <td>0</td>\n",
       "      <td>0</td>\n",
       "      <td>0</td>\n",
       "      <td>0</td>\n",
       "      <td>0</td>\n",
       "      <td>0</td>\n",
       "      <td>0</td>\n",
       "      <td>7</td>\n",
       "    </tr>\n",
       "    <tr>\n",
       "      <th>1496</th>\n",
       "      <td>0</td>\n",
       "      <td>0</td>\n",
       "      <td>0</td>\n",
       "      <td>0</td>\n",
       "      <td>0</td>\n",
       "      <td>0</td>\n",
       "      <td>0</td>\n",
       "      <td>0</td>\n",
       "      <td>0</td>\n",
       "      <td>0</td>\n",
       "      <td>...</td>\n",
       "      <td>0</td>\n",
       "      <td>0</td>\n",
       "      <td>0</td>\n",
       "      <td>0</td>\n",
       "      <td>0</td>\n",
       "      <td>0</td>\n",
       "      <td>0</td>\n",
       "      <td>0</td>\n",
       "      <td>0</td>\n",
       "      <td>6</td>\n",
       "    </tr>\n",
       "    <tr>\n",
       "      <th>1497</th>\n",
       "      <td>0</td>\n",
       "      <td>0</td>\n",
       "      <td>0</td>\n",
       "      <td>0</td>\n",
       "      <td>0</td>\n",
       "      <td>0</td>\n",
       "      <td>0</td>\n",
       "      <td>0</td>\n",
       "      <td>0</td>\n",
       "      <td>0</td>\n",
       "      <td>...</td>\n",
       "      <td>0</td>\n",
       "      <td>0</td>\n",
       "      <td>0</td>\n",
       "      <td>0</td>\n",
       "      <td>0</td>\n",
       "      <td>0</td>\n",
       "      <td>0</td>\n",
       "      <td>0</td>\n",
       "      <td>0</td>\n",
       "      <td>8</td>\n",
       "    </tr>\n",
       "    <tr>\n",
       "      <th>1498</th>\n",
       "      <td>0</td>\n",
       "      <td>0</td>\n",
       "      <td>0</td>\n",
       "      <td>0</td>\n",
       "      <td>0</td>\n",
       "      <td>0</td>\n",
       "      <td>0</td>\n",
       "      <td>0</td>\n",
       "      <td>0</td>\n",
       "      <td>0</td>\n",
       "      <td>...</td>\n",
       "      <td>0</td>\n",
       "      <td>0</td>\n",
       "      <td>0</td>\n",
       "      <td>0</td>\n",
       "      <td>0</td>\n",
       "      <td>0</td>\n",
       "      <td>0</td>\n",
       "      <td>0</td>\n",
       "      <td>0</td>\n",
       "      <td>9</td>\n",
       "    </tr>\n",
       "    <tr>\n",
       "      <th>1499</th>\n",
       "      <td>0</td>\n",
       "      <td>0</td>\n",
       "      <td>0</td>\n",
       "      <td>0</td>\n",
       "      <td>0</td>\n",
       "      <td>0</td>\n",
       "      <td>0</td>\n",
       "      <td>0</td>\n",
       "      <td>0</td>\n",
       "      <td>0</td>\n",
       "      <td>...</td>\n",
       "      <td>0</td>\n",
       "      <td>0</td>\n",
       "      <td>0</td>\n",
       "      <td>0</td>\n",
       "      <td>0</td>\n",
       "      <td>0</td>\n",
       "      <td>0</td>\n",
       "      <td>0</td>\n",
       "      <td>0</td>\n",
       "      <td>6</td>\n",
       "    </tr>\n",
       "  </tbody>\n",
       "</table>\n",
       "<p>5 rows × 785 columns</p>\n",
       "</div>"
      ],
      "text/plain": [
       "      pixel_0  pixel_1  pixel_2  pixel_3  pixel_4  pixel_5  pixel_6  pixel_7  \\\n",
       "1495        0        0        0        0        0        0        0        0   \n",
       "1496        0        0        0        0        0        0        0        0   \n",
       "1497        0        0        0        0        0        0        0        0   \n",
       "1498        0        0        0        0        0        0        0        0   \n",
       "1499        0        0        0        0        0        0        0        0   \n",
       "\n",
       "      pixel_8  pixel_9  ...  pixel_775  pixel_776  pixel_777  pixel_778  \\\n",
       "1495        0        0  ...          0          0          0          0   \n",
       "1496        0        0  ...          0          0          0          0   \n",
       "1497        0        0  ...          0          0          0          0   \n",
       "1498        0        0  ...          0          0          0          0   \n",
       "1499        0        0  ...          0          0          0          0   \n",
       "\n",
       "      pixel_779  pixel_780  pixel_781  pixel_782  pixel_783  digito  \n",
       "1495          0          0          0          0          0       7  \n",
       "1496          0          0          0          0          0       6  \n",
       "1497          0          0          0          0          0       8  \n",
       "1498          0          0          0          0          0       9  \n",
       "1499          0          0          0          0          0       6  \n",
       "\n",
       "[5 rows x 785 columns]"
      ]
     },
     "execution_count": 116,
     "metadata": {},
     "output_type": "execute_result"
    }
   ],
   "source": [
    "# Carrega o dataset\n",
    "df = pd.read_csv('mini_mnist.csv')\n",
    "df.tail()\n",
    "# df.shape"
   ]
  },
  {
   "cell_type": "code",
   "execution_count": 117,
   "id": "49a25cad-0517-446f-b5a4-c4df9609342d",
   "metadata": {},
   "outputs": [],
   "source": [
    "from sklearn.decomposition import PCA\n",
    "from sklearn.preprocessing import StandardScaler\n",
    "from sklearn.model_selection import train_test_split, StratifiedKFold\n",
    "from sklearn.neighbors import KNeighborsClassifier\n",
    "from sklearn.svm import SVC\n",
    "from sklearn.metrics import accuracy_score\n",
    "import itertools"
   ]
  },
  {
   "cell_type": "code",
   "execution_count": 118,
   "id": "0f787069-88b3-44a0-820f-9e19fdd87ff0",
   "metadata": {},
   "outputs": [],
   "source": [
    "# Pego os valores das classes\n",
    "y = df['digito'].values"
   ]
  },
  {
   "cell_type": "markdown",
   "id": "18314b63",
   "metadata": {},
   "source": [
    "# PCA\n",
    "Como foi observado nas células acima, o dataset apresenta 785 colunas, e com o objetivo de diminuir a sua dimensionalidade apenas para duas, será realizado o PCA. Em seguida um scatterplot foi realizado com o objetivo de representar o espaço e verificação de como os diferentes valores da classe de dígitos estão distribuídos."
   ]
  },
  {
   "cell_type": "code",
   "execution_count": 119,
   "id": "ddcc86e4-071f-4aee-8991-8fa1f28df814",
   "metadata": {},
   "outputs": [
    {
     "data": {
      "image/png": "[encoded data removed]",
      "text/plain": [
       "<Figure size 432x288 with 1 Axes>"
      ]
     },
     "metadata": {
      "needs_background": "light"
     },
     "output_type": "display_data"
    }
   ],
   "source": [
    "# Declaro o PCA\n",
    "pca = PCA(n_components=2)\n",
    "X_pca = df.drop('digito', axis=1)\n",
    "\n",
    "# Calculo e diminuo a dimensionalidade\n",
    "pca.fit(X_pca)\n",
    "X_pca = pca.transform(X_pca)\n",
    "\n",
    "# Crio novamente o dataframe baseado nos valores obtidos\n",
    "X_pca = pd.DataFrame(X_pca, columns=['PC 0', 'PC 1'])\n",
    "\n",
    "# Plot de um scatterplot após o PCA\n",
    "sns.scatterplot(data=X_pca, x='PC 0', y='PC 1', hue=df['digito'])\n",
    "X_pca = X_pca.values"
   ]
  },
  {
   "cell_type": "code",
   "execution_count": 120,
   "id": "e4411577",
   "metadata": {},
   "outputs": [],
   "source": [
    "from joblib import Parallel, delayed"
   ]
  },
  {
   "cell_type": "markdown",
   "id": "7077009e",
   "metadata": {},
   "source": [
    "# Validação Cruzada\n",
    "\n",
    "Realizo a validação cruzada de um nível para os classificadores KNN e SVM, fazendo uma busca exaustiva para otimizar os hiperparâmetros de ambos classificadores."
   ]
  },
  {
   "cell_type": "code",
   "execution_count": 121,
   "id": "362e7d9c",
   "metadata": {},
   "outputs": [],
   "source": [
    "def selecionar_melhor_k(ks, X_treino, X_val, y_treino, y_val):\n",
    "    acuracias_val = []\n",
    "\n",
    "    for k in ks:\n",
    "        knn = KNeighborsClassifier(n_neighbors=k)\n",
    "        knn.fit(X_treino, y_treino)\n",
    "        pred = knn.predict(X_val)\n",
    "        acuracias_val.append(accuracy_score(y_val, pred))\n",
    "        \n",
    "    melhor_val = max(acuracias_val)\n",
    "    melhor_k = ks[np.argmax(acuracias_val)]        \n",
    "    knn = KNeighborsClassifier(n_neighbors=melhor_k)\n",
    "    knn.fit(np.vstack((X_treino, X_val)), [*y_treino, *y_val])\n",
    "    \n",
    "    return knn, melhor_k, melhor_val"
   ]
  },
  {
   "cell_type": "code",
   "execution_count": 122,
   "id": "088e24c8",
   "metadata": {},
   "outputs": [],
   "source": [
    "# Realiza o treinamento para cada hiperparâmetro\n",
    "def treina_svm(C, gamma, X_treino, X_val, y_treino, y_val):\n",
    "    svm = SVC(C= C, gamma= gamma)\n",
    "    svm.fit(X_treino, y_treino)\n",
    "    pred = svm.predict(X_val)\n",
    "    return accuracy_score(y_val, pred)\n",
    "\n",
    "def selecionar_melhor_svm(Cs, gamma,X_treino:np.ndarray, X_val:np.ndarray, y_treino:np.ndarray, y_val:np.ndarray, n_jobs=4):\n",
    "    acuracias_val_svm = []\n",
    "    # cria todas as combinações possíveis entre os Cs e os gammas\n",
    "    hiperparametros = list(itertools.product(Cs, gamma))\n",
    "    \n",
    "    # Treina os modelos utilizando todas as combinações possíveis\n",
    "    acuracias_val_svm = Parallel(n_jobs= n_jobs)(delayed(treina_svm)\n",
    "            (c, g, X_treino, X_val, y_treino, y_val) for c, g in hiperparametros)\n",
    "\n",
    "\n",
    "    melhor_acuracia = max(acuracias_val_svm)\n",
    "    melhor_combinacao = hiperparametros[np.argmax(acuracias_val_svm)]\n",
    "    \n",
    "    svm = SVC(C= melhor_combinacao[0], gamma=melhor_combinacao[1])\n",
    "    svm.fit(np.vstack((X_treino, X_val)), [*y_treino, *y_val])\n",
    "\n",
    "\n",
    "    return svm, melhor_combinacao[0], melhor_combinacao[1], melhor_acuracia\n",
    "\n",
    "def treinando_svm_knn():\n",
    "    # realiza validação cruzada em um nível\n",
    "    k_vias = 10\n",
    "    skf = StratifiedKFold(n_splits=k_vias, shuffle=True, random_state=1)\n",
    "    Cs=[1, 10, 100, 1000]\n",
    "    gammas=['scale', 'auto', 2e-2, 2e-3, 2e-4]\n",
    "    i = 0\n",
    "\n",
    "    pgb = tqdm(total=k_vias, desc='Folds avaliados')\n",
    "    print(\"Começando treino em cada fold\")\n",
    "\n",
    "    lista_acuracia_knn = []\n",
    "    lista_acuracia_svm = []\n",
    "\n",
    "    for idx_treino, idx_teste in skf.split(X_pca, y):\n",
    "        print(\"------------\")\n",
    "        print(\"Fold %d\" % i)\n",
    "        print(\"------------\")\n",
    "        # Separando cada fold em treino e teste\n",
    "        X_treino = X_pca[idx_treino]\n",
    "        y_treino = y[idx_treino]\n",
    "\n",
    "        X_teste = X_pca[idx_teste]\n",
    "        y_teste = y[idx_teste]\n",
    "\n",
    "        # Separando o conjunto de treino em validação e treino\n",
    "        X_treino, X_val, y_treino, y_val = train_test_split(X_treino, y_treino, test_size=0.2, stratify= y_treino, random_state=1)\n",
    "\n",
    "        # Normaliza cada partição\n",
    "        ss = StandardScaler()\n",
    "        ss.fit(X_treino)\n",
    "        X_treino = ss.transform(X_treino)\n",
    "        X_val = ss.transform(X_val)\n",
    "        X_teste = ss.transform(X_teste)\n",
    "\n",
    "        # Otimizando hiperparâmetro do knn\n",
    "        knn, _, _ = selecionar_melhor_k(range(1,30,2), X_treino, X_val, y_treino, y_val)\n",
    "        svm, _, _, _ = selecionar_melhor_svm(Cs, gammas,X_treino, X_val, y_treino, y_val)\n",
    "\n",
    "        # Apartir do melhor modelo treinado do knn e do svm realizo a predição\n",
    "        pred_svm = svm.predict(X_teste)\n",
    "        pred_knn = knn.predict(X_teste)\n",
    "\n",
    "        # Utilizo a acurácia como medida para avaliar o classificador\n",
    "        acuracia_knn = accuracy_score(y_teste, pred_knn)\n",
    "        acuracia_svm = accuracy_score(y_teste, pred_svm)\n",
    "\n",
    "        lista_acuracia_knn.append(acuracia_knn)\n",
    "        lista_acuracia_svm.append(acuracia_svm)\n",
    "        print(\"Acurácia SVM para o fold %d: %.2f\" % (i, acuracia_svm))\n",
    "        print(\"Acurácia KNN para o fold %d: %.2f\" % (i, acuracia_knn))\n",
    "\n",
    "        # \n",
    "        pgb.update(1)\n",
    "        i += 1\n",
    "\n",
    "    pgb.close()\n",
    "    print(\"Desvio Padrão KNN: %.2f +- %.2f Acurácia Max KNN: %.2f Acurácia Min KNN: %.2f\" % (np.mean(lista_acuracia_knn), np.std(lista_acuracia_knn), max(lista_acuracia_knn), min(lista_acuracia_knn)))\n",
    "    print(\"Desvio Padrão SVM: %.2f +- %.2f Acurácia Max SVM: %.2f Acurácia Min SVM: %.2f\" % (np.mean(lista_acuracia_svm), np.std(lista_acuracia_svm), max(lista_acuracia_svm), min(lista_acuracia_svm)))\n",
    "    return lista_acuracia_knn, lista_acuracia_svm"
   ]
  },
  {
   "cell_type": "code",
   "execution_count": 123,
   "id": "f24975c8",
   "metadata": {},
   "outputs": [
    {
     "data": {
      "application/vnd.jupyter.widget-view+json": {
       "model_id": "3a07c4cb7c4b4686aea17be133528043",
       "version_major": 2,
       "version_minor": 0
      },
      "text/plain": [
       "Folds avaliados:   0%|          | 0/10 [00:00<?, ?it/s]"
      ]
     },
     "metadata": {},
     "output_type": "display_data"
    },
    {
     "name": "stdout",
     "output_type": "stream",
     "text": [
      "Começando treino em cada fold\n",
      "------------\n",
      "Fold 0\n",
      "------------\n",
      "Acurácia SVM para o fold 0: 0.42\n",
      "Acurácia KNN para o fold 0: 0.41\n",
      "------------\n",
      "Fold 1\n",
      "------------\n",
      "Acurácia SVM para o fold 1: 0.43\n",
      "Acurácia KNN para o fold 1: 0.39\n",
      "------------\n",
      "Fold 2\n",
      "------------\n",
      "Acurácia SVM para o fold 2: 0.45\n",
      "Acurácia KNN para o fold 2: 0.39\n",
      "------------\n",
      "Fold 3\n",
      "------------\n",
      "Acurácia SVM para o fold 3: 0.41\n",
      "Acurácia KNN para o fold 3: 0.36\n",
      "------------\n",
      "Fold 4\n",
      "------------\n",
      "Acurácia SVM para o fold 4: 0.45\n",
      "Acurácia KNN para o fold 4: 0.43\n",
      "------------\n",
      "Fold 5\n",
      "------------\n",
      "Acurácia SVM para o fold 5: 0.41\n",
      "Acurácia KNN para o fold 5: 0.39\n",
      "------------\n",
      "Fold 6\n",
      "------------\n",
      "Acurácia SVM para o fold 6: 0.43\n",
      "Acurácia KNN para o fold 6: 0.43\n",
      "------------\n",
      "Fold 7\n",
      "------------\n",
      "Acurácia SVM para o fold 7: 0.47\n",
      "Acurácia KNN para o fold 7: 0.47\n",
      "------------\n",
      "Fold 8\n",
      "------------\n",
      "Acurácia SVM para o fold 8: 0.39\n",
      "Acurácia KNN para o fold 8: 0.42\n",
      "------------\n",
      "Fold 9\n",
      "------------\n",
      "Acurácia SVM para o fold 9: 0.39\n",
      "Acurácia KNN para o fold 9: 0.37\n",
      "Desvio Padrão KNN: 0.41 +- 0.03 Acurácia Max KNN: 0.47 Acurácia Min KNN: 0.36\n",
      "Desvio Padrão SVM: 0.43 +- 0.02 Acurácia Max SVM: 0.47 Acurácia Min SVM: 0.39\n"
     ]
    }
   ],
   "source": [
    "knn_acuracias, svm_acuracias = treinando_svm_knn()"
   ]
  },
  {
   "cell_type": "markdown",
   "id": "78c32870",
   "metadata": {},
   "source": [
    "# Aplicando Teste-T"
   ]
  },
  {
   "cell_type": "markdown",
   "id": "b45b3b6d",
   "metadata": {},
   "source": [
    "É possível perceber acima que as acurácias médias do KNN e do SVM são diferentes, onde pode se esperar, para dados desconhecidos, uma acurácia média entre 0.81 e 0.87 para o classificador SVM e uma acurácia entre 0.86 e 0.90. Podemos notar que há uma pequena sobreposição entre as acurárias, mas a pergunta que deve ser realmente feita é, embora as acurácias sejam diferentes, elas são significativamente significantes, ou seja, é possível negar a hipótese nula que diz que não há diferença entre as duas distribuições.\n",
    "Será utilizado um alfa de 0.05, que é o valor mínimo que será aceito para rejeitar a hipótese nula, ou seja, será possível dizer com 95% de certeza que a diferença entre as duas distribuições é significativa."
   ]
  },
  {
   "cell_type": "code",
   "execution_count": 124,
   "id": "3651d1aa",
   "metadata": {},
   "outputs": [],
   "source": [
    "# Calcula os valores de p-value\n",
    "from scipy.stats import ttest_ind_from_stats"
   ]
  },
  {
   "cell_type": "code",
   "execution_count": 125,
   "id": "8ffa55a6",
   "metadata": {},
   "outputs": [],
   "source": [
    "def calcula_media_std(acuracia_classificador):\n",
    "    return np.mean(acuracia_classificador), np.std(acuracia_classificador)"
   ]
  },
  {
   "cell_type": "code",
   "execution_count": 126,
   "id": "14e1185b",
   "metadata": {},
   "outputs": [
    {
     "name": "stdout",
     "output_type": "stream",
     "text": [
      "Média KNN: 0.41 Desvio Padrão KNN: 0.03\n",
      "Média KNN: 0.43 Desvio Padrão KNN: 0.02\n"
     ]
    }
   ],
   "source": [
    "media_knn, std_knn = calcula_media_std(knn_acuracias)\n",
    "media_svm, std_svm = calcula_media_std(svm_acuracias)\n",
    "\n",
    "print(\"Média KNN: %.2f Desvio Padrão KNN: %.2f\" % (media_knn, std_knn))\n",
    "print(\"Média KNN: %.2f Desvio Padrão KNN: %.2f\" % (media_svm, std_svm))"
   ]
  },
  {
   "cell_type": "code",
   "execution_count": 127,
   "id": "b150fdd7",
   "metadata": {},
   "outputs": [
    {
     "name": "stdout",
     "output_type": "stream",
     "text": [
      "Não é possível rejeitar a hipótese nula\n",
      "P-Value tem valor igual à: 0.1451\n"
     ]
    }
   ],
   "source": [
    "# Calcula p-value\n",
    "_, pvalor = ttest_ind_from_stats(media_svm, std_svm, len(svm_acuracias), media_knn, std_knn, len(knn_acuracias))\n",
    "\n",
    "if(pvalor<=0.05):\n",
    "    print(\"É possível rejeitar a hipótese nula\")\n",
    "else:\n",
    "    print(\"Não é possível rejeitar a hipótese nula\")\n",
    "\n",
    "print(\"P-Value tem valor igual à: %.4f\" % pvalor)\n"
   ]
  },
  {
   "cell_type": "markdown",
   "id": "45d26d51",
   "metadata": {},
   "source": [
    "Como não foi possível rejeitar a hipótese nula, não podemos afirmar que a diferença nos resultados da média é significativa entre os dois classificadores, já que o valor de p-value foi maior do que 0.05"
   ]
  }
 ],
 "metadata": {
  "interpreter": {
   "hash": "5f8436ca69605a966ff79010098809a12c5976760e976a925ddbd71d745a4499"
  },
  "kernelspec": {
   "display_name": "Python 3.10.1 64-bit",
   "language": "python",
   "name": "python3"
  },
  "language_info": {
   "codemirror_mode": {
    "name": "ipython",
    "version": 3
   },
   "file_extension": ".py",
   "mimetype": "text/x-python",
   "name": "python",
   "nbconvert_exporter": "python",
   "pygments_lexer": "ipython3",
   "version": "3.10.1"
  }
 },
 "nbformat": 4,
 "nbformat_minor": 5
}
