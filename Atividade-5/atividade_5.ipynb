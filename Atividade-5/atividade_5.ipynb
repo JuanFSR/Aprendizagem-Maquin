{
 "cells": [
  {
   "cell_type": "markdown",
   "id": "70c98eed",
   "metadata": {},
   "source": [
    "# Atividade 5 - Métodos de Classificação Baseado em Árvore\n",
    "\n",
    "Nome: Juan Felipe Da Silva Rangel\n",
    "\n",
    "O objetivo desta atividade é explorar o dataset 'Video_game_esrb_rating.csv', que contém várias características presentes ou não em um jogo, contendo também o título deste jogo, assim como a classificação etária.\n",
    " Nesta atividade devemos utilizar classificadores baseados em árvores para dado tais características, prever qual seria a sua classificação etária. Utilizando o PCA para realizar a dimensão de dimensionalidade, foi analisado o desempenho dos seguintes classificadores, utilizando validação cruzada em dois níveis para a otimização de parâmetros, executada para cada um dos seguintes classificadores: DecisionTree, RandomForest, KNN e SVM.\n",
    " Ao fim, o teste de hipótese nula é realizado para verificar se a diferença entre o melhor e o pior resultado obtido para cada classificador é estatisticamente significativa.  "
   ]
  },
  {
   "cell_type": "code",
   "execution_count": 19,
   "id": "8c865c0a",
   "metadata": {},
   "outputs": [],
   "source": [
    "import pandas as pd\n",
    "import numpy as np\n",
    "import functools\n",
    "import seaborn as sns\n",
    "\n",
    "from sklearn.datasets import load_iris\n",
    "from sklearn.model_selection import GridSearchCV, ParameterGrid\n",
    "from sklearn.model_selection import train_test_split, StratifiedKFold\n",
    "from sklearn.metrics import f1_score, confusion_matrix, ConfusionMatrixDisplay\n",
    "from sklearn.tree import DecisionTreeClassifier, plot_tree\n",
    "import matplotlib.pyplot as plt\n",
    "\n",
    "from tqdm.notebook import tqdm\n",
    "from sklearn.metrics import classification_report\n",
    "\n",
    "from sklearn.compose import ColumnTransformer\n",
    "from sklearn.preprocessing import OneHotEncoder, StandardScaler\n",
    "from sklearn.svm import SVC\n",
    "from sklearn.neighbors import KNeighborsClassifier\n",
    "from sklearn.ensemble import RandomForestClassifier\n",
    "from sklearn.decomposition import PCA\n",
    "import functools\n",
    "\n",
    "from utils import calcular_estatisticas, imprimir_estatisticas\n",
    "from scipy.stats import ttest_ind_from_stats\n",
    "\n",
    "from joblib import Parallel, delayed\n"
   ]
  },
  {
   "cell_type": "markdown",
   "id": "c477cfc3",
   "metadata": {},
   "source": [
    "# Carregando Dataset Video_game_esrb_rating.csv"
   ]
  },
  {
   "cell_type": "code",
   "execution_count": 3,
   "id": "0f35fc22",
   "metadata": {},
   "outputs": [
    {
     "data": {
      "text/html": [
       "<div>\n",
       "<style scoped>\n",
       "    .dataframe tbody tr th:only-of-type {\n",
       "        vertical-align: middle;\n",
       "    }\n",
       "\n",
       "    .dataframe tbody tr th {\n",
       "        vertical-align: top;\n",
       "    }\n",
       "\n",
       "    .dataframe thead th {\n",
       "        text-align: right;\n",
       "    }\n",
       "</style>\n",
       "<table border=\"1\" class=\"dataframe\">\n",
       "  <thead>\n",
       "    <tr style=\"text-align: right;\">\n",
       "      <th></th>\n",
       "      <th>title</th>\n",
       "      <th>console</th>\n",
       "      <th>alcohol_reference</th>\n",
       "      <th>animated_blood</th>\n",
       "      <th>blood</th>\n",
       "      <th>blood_and_gore</th>\n",
       "      <th>cartoon_violence</th>\n",
       "      <th>crude_humor</th>\n",
       "      <th>drug_reference</th>\n",
       "      <th>fantasy_violence</th>\n",
       "      <th>...</th>\n",
       "      <th>sexual_content</th>\n",
       "      <th>sexual_themes</th>\n",
       "      <th>simulated_gambling</th>\n",
       "      <th>strong_janguage</th>\n",
       "      <th>strong_sexual_content</th>\n",
       "      <th>suggestive_themes</th>\n",
       "      <th>use_of_alcohol</th>\n",
       "      <th>use_of_drugs_and_alcohol</th>\n",
       "      <th>violence</th>\n",
       "      <th>esrb_rating</th>\n",
       "    </tr>\n",
       "  </thead>\n",
       "  <tbody>\n",
       "    <tr>\n",
       "      <th>0</th>\n",
       "      <td>Monster Jam Steel Titans 2</td>\n",
       "      <td>1</td>\n",
       "      <td>0</td>\n",
       "      <td>0</td>\n",
       "      <td>0</td>\n",
       "      <td>0</td>\n",
       "      <td>0</td>\n",
       "      <td>0</td>\n",
       "      <td>0</td>\n",
       "      <td>0</td>\n",
       "      <td>...</td>\n",
       "      <td>0</td>\n",
       "      <td>0</td>\n",
       "      <td>0</td>\n",
       "      <td>0</td>\n",
       "      <td>0</td>\n",
       "      <td>0</td>\n",
       "      <td>0</td>\n",
       "      <td>0</td>\n",
       "      <td>0</td>\n",
       "      <td>E</td>\n",
       "    </tr>\n",
       "    <tr>\n",
       "      <th>1</th>\n",
       "      <td>Subnautica: Below Zero</td>\n",
       "      <td>1</td>\n",
       "      <td>0</td>\n",
       "      <td>1</td>\n",
       "      <td>0</td>\n",
       "      <td>0</td>\n",
       "      <td>0</td>\n",
       "      <td>0</td>\n",
       "      <td>0</td>\n",
       "      <td>0</td>\n",
       "      <td>...</td>\n",
       "      <td>0</td>\n",
       "      <td>0</td>\n",
       "      <td>0</td>\n",
       "      <td>0</td>\n",
       "      <td>0</td>\n",
       "      <td>0</td>\n",
       "      <td>0</td>\n",
       "      <td>0</td>\n",
       "      <td>0</td>\n",
       "      <td>ET</td>\n",
       "    </tr>\n",
       "    <tr>\n",
       "      <th>2</th>\n",
       "      <td>NIER REPLICANT VER.1.22474487139…</td>\n",
       "      <td>1</td>\n",
       "      <td>0</td>\n",
       "      <td>0</td>\n",
       "      <td>1</td>\n",
       "      <td>0</td>\n",
       "      <td>0</td>\n",
       "      <td>0</td>\n",
       "      <td>0</td>\n",
       "      <td>0</td>\n",
       "      <td>...</td>\n",
       "      <td>0</td>\n",
       "      <td>0</td>\n",
       "      <td>0</td>\n",
       "      <td>1</td>\n",
       "      <td>0</td>\n",
       "      <td>1</td>\n",
       "      <td>0</td>\n",
       "      <td>0</td>\n",
       "      <td>0</td>\n",
       "      <td>M</td>\n",
       "    </tr>\n",
       "    <tr>\n",
       "      <th>3</th>\n",
       "      <td>Jamestown+</td>\n",
       "      <td>0</td>\n",
       "      <td>0</td>\n",
       "      <td>0</td>\n",
       "      <td>0</td>\n",
       "      <td>0</td>\n",
       "      <td>0</td>\n",
       "      <td>0</td>\n",
       "      <td>0</td>\n",
       "      <td>1</td>\n",
       "      <td>...</td>\n",
       "      <td>0</td>\n",
       "      <td>0</td>\n",
       "      <td>0</td>\n",
       "      <td>0</td>\n",
       "      <td>0</td>\n",
       "      <td>0</td>\n",
       "      <td>0</td>\n",
       "      <td>0</td>\n",
       "      <td>0</td>\n",
       "      <td>ET</td>\n",
       "    </tr>\n",
       "    <tr>\n",
       "      <th>4</th>\n",
       "      <td>Neptunia Virtual Stars</td>\n",
       "      <td>0</td>\n",
       "      <td>0</td>\n",
       "      <td>0</td>\n",
       "      <td>0</td>\n",
       "      <td>0</td>\n",
       "      <td>0</td>\n",
       "      <td>0</td>\n",
       "      <td>0</td>\n",
       "      <td>1</td>\n",
       "      <td>...</td>\n",
       "      <td>0</td>\n",
       "      <td>0</td>\n",
       "      <td>0</td>\n",
       "      <td>0</td>\n",
       "      <td>0</td>\n",
       "      <td>1</td>\n",
       "      <td>0</td>\n",
       "      <td>0</td>\n",
       "      <td>0</td>\n",
       "      <td>T</td>\n",
       "    </tr>\n",
       "  </tbody>\n",
       "</table>\n",
       "<p>5 rows × 34 columns</p>\n",
       "</div>"
      ],
      "text/plain": [
       "                               title  console  alcohol_reference  \\\n",
       "0         Monster Jam Steel Titans 2        1                  0   \n",
       "1             Subnautica: Below Zero        1                  0   \n",
       "2  NIER REPLICANT VER.1.22474487139…        1                  0   \n",
       "3                         Jamestown+        0                  0   \n",
       "4             Neptunia Virtual Stars        0                  0   \n",
       "\n",
       "   animated_blood  blood  blood_and_gore  cartoon_violence  crude_humor  \\\n",
       "0               0      0               0                 0            0   \n",
       "1               1      0               0                 0            0   \n",
       "2               0      1               0                 0            0   \n",
       "3               0      0               0                 0            0   \n",
       "4               0      0               0                 0            0   \n",
       "\n",
       "   drug_reference  fantasy_violence  ...  sexual_content  sexual_themes  \\\n",
       "0               0                 0  ...               0              0   \n",
       "1               0                 0  ...               0              0   \n",
       "2               0                 0  ...               0              0   \n",
       "3               0                 1  ...               0              0   \n",
       "4               0                 1  ...               0              0   \n",
       "\n",
       "   simulated_gambling  strong_janguage  strong_sexual_content  \\\n",
       "0                   0                0                      0   \n",
       "1                   0                0                      0   \n",
       "2                   0                1                      0   \n",
       "3                   0                0                      0   \n",
       "4                   0                0                      0   \n",
       "\n",
       "   suggestive_themes  use_of_alcohol  use_of_drugs_and_alcohol  violence  \\\n",
       "0                  0               0                         0         0   \n",
       "1                  0               0                         0         0   \n",
       "2                  1               0                         0         0   \n",
       "3                  0               0                         0         0   \n",
       "4                  1               0                         0         0   \n",
       "\n",
       "   esrb_rating  \n",
       "0            E  \n",
       "1           ET  \n",
       "2            M  \n",
       "3           ET  \n",
       "4            T  \n",
       "\n",
       "[5 rows x 34 columns]"
      ]
     },
     "execution_count": 3,
     "metadata": {},
     "output_type": "execute_result"
    }
   ],
   "source": [
    "df = pd.read_csv('Video_games_esrb_rating.csv')\n",
    "df.head()"
   ]
  },
  {
   "cell_type": "markdown",
   "id": "08381ce1",
   "metadata": {},
   "source": [
    "Abaixo separei as classes e seus atributos para que seja possível então realizar o PCA para essa base de dados."
   ]
  },
  {
   "cell_type": "code",
   "execution_count": 4,
   "id": "1ac99285-ae46-4e09-b7ba-03cb8e888440",
   "metadata": {},
   "outputs": [
    {
     "data": {
      "text/html": [
       "<div>\n",
       "<style scoped>\n",
       "    .dataframe tbody tr th:only-of-type {\n",
       "        vertical-align: middle;\n",
       "    }\n",
       "\n",
       "    .dataframe tbody tr th {\n",
       "        vertical-align: top;\n",
       "    }\n",
       "\n",
       "    .dataframe thead th {\n",
       "        text-align: right;\n",
       "    }\n",
       "</style>\n",
       "<table border=\"1\" class=\"dataframe\">\n",
       "  <thead>\n",
       "    <tr style=\"text-align: right;\">\n",
       "      <th></th>\n",
       "      <th>console</th>\n",
       "      <th>alcohol_reference</th>\n",
       "      <th>animated_blood</th>\n",
       "      <th>blood</th>\n",
       "      <th>blood_and_gore</th>\n",
       "      <th>cartoon_violence</th>\n",
       "      <th>crude_humor</th>\n",
       "      <th>drug_reference</th>\n",
       "      <th>fantasy_violence</th>\n",
       "      <th>intense_violence</th>\n",
       "      <th>...</th>\n",
       "      <th>partial_nudity</th>\n",
       "      <th>sexual_content</th>\n",
       "      <th>sexual_themes</th>\n",
       "      <th>simulated_gambling</th>\n",
       "      <th>strong_janguage</th>\n",
       "      <th>strong_sexual_content</th>\n",
       "      <th>suggestive_themes</th>\n",
       "      <th>use_of_alcohol</th>\n",
       "      <th>use_of_drugs_and_alcohol</th>\n",
       "      <th>violence</th>\n",
       "    </tr>\n",
       "  </thead>\n",
       "  <tbody>\n",
       "    <tr>\n",
       "      <th>0</th>\n",
       "      <td>1</td>\n",
       "      <td>0</td>\n",
       "      <td>0</td>\n",
       "      <td>0</td>\n",
       "      <td>0</td>\n",
       "      <td>0</td>\n",
       "      <td>0</td>\n",
       "      <td>0</td>\n",
       "      <td>0</td>\n",
       "      <td>0</td>\n",
       "      <td>...</td>\n",
       "      <td>0</td>\n",
       "      <td>0</td>\n",
       "      <td>0</td>\n",
       "      <td>0</td>\n",
       "      <td>0</td>\n",
       "      <td>0</td>\n",
       "      <td>0</td>\n",
       "      <td>0</td>\n",
       "      <td>0</td>\n",
       "      <td>0</td>\n",
       "    </tr>\n",
       "    <tr>\n",
       "      <th>1</th>\n",
       "      <td>1</td>\n",
       "      <td>0</td>\n",
       "      <td>1</td>\n",
       "      <td>0</td>\n",
       "      <td>0</td>\n",
       "      <td>0</td>\n",
       "      <td>0</td>\n",
       "      <td>0</td>\n",
       "      <td>0</td>\n",
       "      <td>1</td>\n",
       "      <td>...</td>\n",
       "      <td>0</td>\n",
       "      <td>0</td>\n",
       "      <td>0</td>\n",
       "      <td>0</td>\n",
       "      <td>0</td>\n",
       "      <td>0</td>\n",
       "      <td>0</td>\n",
       "      <td>0</td>\n",
       "      <td>0</td>\n",
       "      <td>0</td>\n",
       "    </tr>\n",
       "    <tr>\n",
       "      <th>2</th>\n",
       "      <td>1</td>\n",
       "      <td>0</td>\n",
       "      <td>0</td>\n",
       "      <td>1</td>\n",
       "      <td>0</td>\n",
       "      <td>0</td>\n",
       "      <td>0</td>\n",
       "      <td>0</td>\n",
       "      <td>0</td>\n",
       "      <td>0</td>\n",
       "      <td>...</td>\n",
       "      <td>0</td>\n",
       "      <td>0</td>\n",
       "      <td>0</td>\n",
       "      <td>0</td>\n",
       "      <td>1</td>\n",
       "      <td>0</td>\n",
       "      <td>1</td>\n",
       "      <td>0</td>\n",
       "      <td>0</td>\n",
       "      <td>0</td>\n",
       "    </tr>\n",
       "    <tr>\n",
       "      <th>3</th>\n",
       "      <td>0</td>\n",
       "      <td>0</td>\n",
       "      <td>0</td>\n",
       "      <td>0</td>\n",
       "      <td>0</td>\n",
       "      <td>0</td>\n",
       "      <td>0</td>\n",
       "      <td>0</td>\n",
       "      <td>1</td>\n",
       "      <td>0</td>\n",
       "      <td>...</td>\n",
       "      <td>0</td>\n",
       "      <td>0</td>\n",
       "      <td>0</td>\n",
       "      <td>0</td>\n",
       "      <td>0</td>\n",
       "      <td>0</td>\n",
       "      <td>0</td>\n",
       "      <td>0</td>\n",
       "      <td>0</td>\n",
       "      <td>0</td>\n",
       "    </tr>\n",
       "    <tr>\n",
       "      <th>4</th>\n",
       "      <td>0</td>\n",
       "      <td>0</td>\n",
       "      <td>0</td>\n",
       "      <td>0</td>\n",
       "      <td>0</td>\n",
       "      <td>0</td>\n",
       "      <td>0</td>\n",
       "      <td>0</td>\n",
       "      <td>1</td>\n",
       "      <td>0</td>\n",
       "      <td>...</td>\n",
       "      <td>0</td>\n",
       "      <td>0</td>\n",
       "      <td>0</td>\n",
       "      <td>0</td>\n",
       "      <td>0</td>\n",
       "      <td>0</td>\n",
       "      <td>1</td>\n",
       "      <td>0</td>\n",
       "      <td>0</td>\n",
       "      <td>0</td>\n",
       "    </tr>\n",
       "  </tbody>\n",
       "</table>\n",
       "<p>5 rows × 32 columns</p>\n",
       "</div>"
      ],
      "text/plain": [
       "   console  alcohol_reference  animated_blood  blood  blood_and_gore  \\\n",
       "0        1                  0               0      0               0   \n",
       "1        1                  0               1      0               0   \n",
       "2        1                  0               0      1               0   \n",
       "3        0                  0               0      0               0   \n",
       "4        0                  0               0      0               0   \n",
       "\n",
       "   cartoon_violence  crude_humor  drug_reference  fantasy_violence  \\\n",
       "0                 0            0               0                 0   \n",
       "1                 0            0               0                 0   \n",
       "2                 0            0               0                 0   \n",
       "3                 0            0               0                 1   \n",
       "4                 0            0               0                 1   \n",
       "\n",
       "   intense_violence  ...  partial_nudity  sexual_content  sexual_themes  \\\n",
       "0                 0  ...               0               0              0   \n",
       "1                 1  ...               0               0              0   \n",
       "2                 0  ...               0               0              0   \n",
       "3                 0  ...               0               0              0   \n",
       "4                 0  ...               0               0              0   \n",
       "\n",
       "   simulated_gambling  strong_janguage  strong_sexual_content  \\\n",
       "0                   0                0                      0   \n",
       "1                   0                0                      0   \n",
       "2                   0                1                      0   \n",
       "3                   0                0                      0   \n",
       "4                   0                0                      0   \n",
       "\n",
       "   suggestive_themes  use_of_alcohol  use_of_drugs_and_alcohol  violence  \n",
       "0                  0               0                         0         0  \n",
       "1                  0               0                         0         0  \n",
       "2                  1               0                         0         0  \n",
       "3                  0               0                         0         0  \n",
       "4                  1               0                         0         0  \n",
       "\n",
       "[5 rows x 32 columns]"
      ]
     },
     "execution_count": 4,
     "metadata": {},
     "output_type": "execute_result"
    }
   ],
   "source": [
    "df = df.drop('title', axis=1)\n",
    "\n",
    "X = df.drop('esrb_rating', axis=1)\n",
    "y = df['esrb_rating'].values\n",
    "\n",
    "X.head()"
   ]
  },
  {
   "cell_type": "markdown",
   "id": "24d7dd60",
   "metadata": {},
   "source": [
    "# Realizando PCA\n",
    "Para diminuição de dimensionalidade foi aplicado o método PCA, utilizando o número de componentes (ou seja, a quantidade de colunas) como 2 (PC0, PC1)."
   ]
  },
  {
   "cell_type": "code",
   "execution_count": 5,
   "id": "0c65dee0-47db-43b3-a63d-15486acd785a",
   "metadata": {},
   "outputs": [
    {
     "data": {
      "text/html": [
       "<div>\n",
       "<style scoped>\n",
       "    .dataframe tbody tr th:only-of-type {\n",
       "        vertical-align: middle;\n",
       "    }\n",
       "\n",
       "    .dataframe tbody tr th {\n",
       "        vertical-align: top;\n",
       "    }\n",
       "\n",
       "    .dataframe thead th {\n",
       "        text-align: right;\n",
       "    }\n",
       "</style>\n",
       "<table border=\"1\" class=\"dataframe\">\n",
       "  <thead>\n",
       "    <tr style=\"text-align: right;\">\n",
       "      <th></th>\n",
       "      <th>PC0</th>\n",
       "      <th>PC1</th>\n",
       "    </tr>\n",
       "  </thead>\n",
       "  <tbody>\n",
       "    <tr>\n",
       "      <th>0</th>\n",
       "      <td>-0.565611</td>\n",
       "      <td>-0.642571</td>\n",
       "    </tr>\n",
       "    <tr>\n",
       "      <th>1</th>\n",
       "      <td>-0.566660</td>\n",
       "      <td>-0.099874</td>\n",
       "    </tr>\n",
       "    <tr>\n",
       "      <th>2</th>\n",
       "      <td>-0.590106</td>\n",
       "      <td>0.903224</td>\n",
       "    </tr>\n",
       "    <tr>\n",
       "      <th>3</th>\n",
       "      <td>0.938777</td>\n",
       "      <td>-0.271936</td>\n",
       "    </tr>\n",
       "    <tr>\n",
       "      <th>4</th>\n",
       "      <td>0.934844</td>\n",
       "      <td>-0.071080</td>\n",
       "    </tr>\n",
       "  </tbody>\n",
       "</table>\n",
       "</div>"
      ],
      "text/plain": [
       "        PC0       PC1\n",
       "0 -0.565611 -0.642571\n",
       "1 -0.566660 -0.099874\n",
       "2 -0.590106  0.903224\n",
       "3  0.938777 -0.271936\n",
       "4  0.934844 -0.071080"
      ]
     },
     "execution_count": 5,
     "metadata": {},
     "output_type": "execute_result"
    }
   ],
   "source": [
    "pca = PCA(n_components=2)\n",
    "\n",
    "pca.fit(X)\n",
    "\n",
    "\n",
    "X_pca = pca.transform(X)\n",
    "\n",
    "X_pca_df = pd.DataFrame(X_pca, columns=['PC0', 'PC1'])\n",
    "\n",
    "X_pca_df.head() \n",
    "# X = X.values"
   ]
  },
  {
   "cell_type": "markdown",
   "id": "77aac91c",
   "metadata": {},
   "source": [
    "# Visualizando espaço formado de características após realizar o PCA"
   ]
  },
  {
   "cell_type": "code",
   "execution_count": 6,
   "id": "ec08e123-7856-42f3-97ef-09d801fc0e2f",
   "metadata": {},
   "outputs": [
    {
     "data": {
      "text/plain": [
       "<AxesSubplot:xlabel='PC0', ylabel='PC1'>"
      ]
     },
     "execution_count": 6,
     "metadata": {},
     "output_type": "execute_result"
    },
    {
     "data": {
      "image/png": "[encoded data removed]",
      "text/plain": [
       "<Figure size 432x288 with 1 Axes>"
      ]
     },
     "metadata": {
      "needs_background": "light"
     },
     "output_type": "display_data"
    }
   ],
   "source": [
    "sns.set_palette('seismic')\n",
    "sns.scatterplot(data=X_pca_df, x='PC0', y='PC1', hue=y, palette='Set1')"
   ]
  },
  {
   "cell_type": "markdown",
   "id": "27c8c298",
   "metadata": {},
   "source": [
    "Como o Test-T será utilizado para comparação estatística entre os melhores e piores resultados de cada classificador, já declarei o método de será utilizado para testar a hipótese nula, com 95% de confiança."
   ]
  },
  {
   "cell_type": "code",
   "execution_count": 7,
   "id": "0fbf9702-2386-4129-9a40-2102995d193a",
   "metadata": {},
   "outputs": [],
   "source": [
    "def rejeitar_hip_nula(media_amostral1, desvio_padrao_amostral1, n1, media_amostral2, desvio_padrao_amostral2, n2, alpha=0.05):\n",
    "    _, pvalor = ttest_ind_from_stats(media_amostral1, desvio_padrao_amostral1, n1, media_amostral2, desvio_padrao_amostral2, n2)\n",
    "    return pvalor <= alpha"
   ]
  },
  {
   "cell_type": "markdown",
   "id": "2b2fab59",
   "metadata": {},
   "source": [
    "# Treina e Seleciona o melhor modelo\n",
    "Em seguida é possível observar as funções que são utilizadas para treinar os classificadores, especificamente para realizar o treinamento no segundo nível, o qual, para esta atividade, foi feito em 5 vias. Também é feito o uso do parâmetro scoring do módulo GridSearchCV para escolher a melhor métrica de desempenho (utilizando o weighted f1-score)."
   ]
  },
  {
   "cell_type": "code",
   "execution_count": 8,
   "id": "36e2d387-cffa-441a-a9fb-3c8790e7f5da",
   "metadata": {},
   "outputs": [],
   "source": [
    "def selecionar_melhor_modelo(classificador, X_treino, X_val, y_treino, \n",
    "                             y_val, n_jobs=4, \n",
    "                             cv_folds=None, params={}):\n",
    "    \n",
    "    def treinar_modelo(X_treino, X_val, y_treino, y_val, params):\n",
    "        clf = classificador(**params)\n",
    "        clf.fit(X_treino, y_treino)\n",
    "        pred = clf.predict(X_val)\n",
    "        \n",
    "        if len(set(y_treino)) > 2:\n",
    "            return f1_score(y_val, pred, average='weighted')\n",
    "        else:\n",
    "            return f1_score(y_val, pred)\n",
    "    \n",
    "    \n",
    "    if cv_folds is not None:\n",
    "        #Se for pra usar validação cruzada, usar GridSearchCV\n",
    "        score_fn = 'f1' if len(set(y_treino)) < 3 else 'f1_weighted'\n",
    "        \n",
    "        clf = GridSearchCV(classificador(), params, cv=cv_folds, n_jobs=n_jobs, scoring=score_fn)\n",
    "        #Passar todos os dados (Treino e Validação) para realizar a seleção dos parâmetros.\n",
    "        clf.fit(np.vstack((X_treino, X_val)), [*y_treino, *y_val])\n",
    "        \n",
    "        melhor_comb = clf.best_params_\n",
    "        melhor_val = clf.best_score_\n",
    "        \n",
    "    else:\n",
    "        param_grid = list(ParameterGrid(params))\n",
    "        \n",
    "        f1s_val = Parallel(n_jobs=n_jobs)(delayed(treinar_modelo)\n",
    "                                         (X_treino, X_val, y_treino, y_val, p) for p in param_grid)\n",
    "\n",
    "        melhor_val = max(f1s_val)\n",
    "        melhor_comb = param_grid[np.argmax(f1s_val)]\n",
    "        \n",
    "        clf = classificador(**melhor_comb)\n",
    "        \n",
    "        clf.fit(np.vstack((X_treino, X_val)), [*y_treino, *y_val])\n",
    "    \n",
    "    return clf, melhor_comb, melhor_val"
   ]
  },
  {
   "cell_type": "markdown",
   "id": "2732ae65",
   "metadata": {},
   "source": [
    "# Função Genérica para realizar Cross-Validation\n",
    "Abaixo foi utilizada uma função genérica para realizar o Cross-Validation, a qual permite passar por parâmetro o classificador que será utilizado, a quantidade de splits e folds, os parâmetros que serão otimizados e se deverá ser realizado ou não a normalização dos splits."
   ]
  },
  {
   "cell_type": "code",
   "execution_count": 11,
   "id": "a2463ce6-f775-4449-8eb8-61e769a51eb8",
   "metadata": {
    "tags": []
   },
   "outputs": [],
   "source": [
    "def do_cv(classificador, X, y, cv_splits, param_cv_folds=None,\n",
    "         n_jobs=2, scale=False, params={}):\n",
    "    \n",
    "    skf = StratifiedKFold(n_splits=cv_splits, shuffle=True, random_state=1)\n",
    "\n",
    "    f1s = []\n",
    "    predictions = []\n",
    "    list_confusion_matrix = []\n",
    "    list_melhor_comb = []\n",
    "    \n",
    "    # pgb = tqdm(total=cv_splits, desc='Folds avaliados')\n",
    "    \n",
    "    for treino_idx, teste_idx in skf.split(X, y):\n",
    "\n",
    "        X_treino = X[treino_idx]\n",
    "        y_treino = y[treino_idx]\n",
    "\n",
    "        X_teste = X[teste_idx]\n",
    "        y_teste = y[teste_idx]\n",
    "\n",
    "        X_treino, X_val, y_treino, y_val = train_test_split(X_treino, y_treino, stratify=y_treino, test_size=0.2, random_state=1)\n",
    "        \n",
    "        if scale:\n",
    "            ss = StandardScaler()\n",
    "            X_treino = ss.fit_transform(X_treino)\n",
    "            X_teste = ss.transform(X_teste)\n",
    "            X_val = ss.transform(X_val)        \n",
    "\n",
    "        modelo, melhor_comb, _ = selecionar_melhor_modelo(classificador, X_treino, X_val, y_treino, y_val, \n",
    "                                                      n_jobs=n_jobs, cv_folds=param_cv_folds, params=params)\n",
    "        pred = modelo.predict(X_teste)\n",
    "        predictions.append(pred)\n",
    "\n",
    "        print(classification_report(y_teste, pred))\n",
    "\n",
    "        print(set(y_treino))\n",
    "        \n",
    "        if len(set(y_treino)) > 2:\n",
    "            f1 = f1_score(y_teste, pred, average='weighted')\n",
    "        else:\n",
    "            f1 = f1_score(y_teste, pred)\n",
    "        f1s.append(f1)\n",
    "        \n",
    "        print(f'{melhor_comb} -- F1-Score: {f1}')\n",
    "        list_melhor_comb.append(melhor_comb)\n",
    "\n",
    "        list_confusion_matrix.append(confusion_matrix(y_teste, pred))\n",
    "        \n",
    "        # pgb.update(1)\n",
    "        \n",
    "    # pgb.close()\n",
    "    \n",
    "    return f1s, list_confusion_matrix, list_melhor_comb"
   ]
  },
  {
   "cell_type": "markdown",
   "id": "98b4c06a",
   "metadata": {},
   "source": [
    "Primeiramente comecei utilizando o treinamento utilizando o classificador DecisionTree, otimizando os seguintes parâmetros: O número mínimo de nós folhas, o número mínimos de split realizados na árvore e a máxima profundidade da árvore gerada. Como saída podemos observar a matriz de confusão de cada fold, seguido da melhor combinação de parâmetros encontrados e o valor do f1-score."
   ]
  },
  {
   "cell_type": "code",
   "execution_count": 12,
   "id": "39c2fcbe-233c-4c4c-8a0a-8a5cac34d8ed",
   "metadata": {},
   "outputs": [
    {
     "name": "stdout",
     "output_type": "stream",
     "text": [
      "              precision    recall  f1-score   support\n",
      "\n",
      "           E       0.94      0.69      0.79        42\n",
      "          ET       0.50      0.62      0.56        40\n",
      "           M       0.65      0.62      0.63        39\n",
      "           T       0.61      0.64      0.62        69\n",
      "\n",
      "    accuracy                           0.64       190\n",
      "   macro avg       0.67      0.64      0.65       190\n",
      "weighted avg       0.67      0.64      0.65       190\n",
      "\n",
      "{'M', 'E', 'ET', 'T'}\n",
      "{'max_depth': 5, 'min_samples_leaf': 3, 'min_samples_split': 5} -- F1-Score: 0.6488815472132806\n",
      "              precision    recall  f1-score   support\n",
      "\n",
      "           E       0.77      0.98      0.86        42\n",
      "          ET       0.81      0.75      0.78        40\n",
      "           M       0.78      0.54      0.64        39\n",
      "           T       0.70      0.74      0.72        69\n",
      "\n",
      "    accuracy                           0.75       190\n",
      "   macro avg       0.77      0.75      0.75       190\n",
      "weighted avg       0.76      0.75      0.75       190\n",
      "\n",
      "{'M', 'E', 'ET', 'T'}\n",
      "{'max_depth': 5, 'min_samples_leaf': 3, 'min_samples_split': 5} -- F1-Score: 0.7463317097244764\n",
      "              precision    recall  f1-score   support\n",
      "\n",
      "           E       0.90      0.86      0.88        42\n",
      "          ET       0.66      0.62      0.64        40\n",
      "           M       0.71      0.44      0.54        39\n",
      "           T       0.62      0.80      0.70        69\n",
      "\n",
      "    accuracy                           0.70       190\n",
      "   macro avg       0.72      0.68      0.69       190\n",
      "weighted avg       0.71      0.70      0.69       190\n",
      "\n",
      "{'M', 'E', 'ET', 'T'}\n",
      "{'max_depth': 5, 'min_samples_leaf': 5, 'min_samples_split': 15} -- F1-Score: 0.6942665395458867\n",
      "              precision    recall  f1-score   support\n",
      "\n",
      "           E       0.92      0.79      0.85        42\n",
      "          ET       0.62      0.60      0.61        40\n",
      "           M       0.68      0.64      0.66        39\n",
      "           T       0.62      0.70      0.65        69\n",
      "\n",
      "    accuracy                           0.68       190\n",
      "   macro avg       0.71      0.68      0.69       190\n",
      "weighted avg       0.69      0.68      0.69       190\n",
      "\n",
      "{'M', 'E', 'ET', 'T'}\n",
      "{'max_depth': 5, 'min_samples_leaf': 3, 'min_samples_split': 5} -- F1-Score: 0.6871651485971262\n",
      "              precision    recall  f1-score   support\n",
      "\n",
      "           E       0.95      0.88      0.91        42\n",
      "          ET       0.52      0.60      0.56        40\n",
      "           M       0.68      0.67      0.68        39\n",
      "           T       0.60      0.58      0.59        69\n",
      "\n",
      "    accuracy                           0.67       190\n",
      "   macro avg       0.69      0.68      0.68       190\n",
      "weighted avg       0.68      0.67      0.67       190\n",
      "\n",
      "{'M', 'E', 'ET', 'T'}\n",
      "{'max_depth': 5, 'min_samples_leaf': 5, 'min_samples_split': 15} -- F1-Score: 0.6716939441973641\n",
      "              precision    recall  f1-score   support\n",
      "\n",
      "           E       0.94      0.74      0.83        42\n",
      "          ET       0.62      0.72      0.67        40\n",
      "           M       0.91      0.51      0.66        39\n",
      "           T       0.67      0.85      0.75        68\n",
      "\n",
      "    accuracy                           0.73       189\n",
      "   macro avg       0.78      0.71      0.72       189\n",
      "weighted avg       0.77      0.73      0.73       189\n",
      "\n",
      "{'M', 'E', 'ET', 'T'}\n",
      "{'max_depth': 5, 'min_samples_leaf': 3, 'min_samples_split': 3} -- F1-Score: 0.7293690991487572\n",
      "              precision    recall  f1-score   support\n",
      "\n",
      "           E       0.89      0.76      0.82        41\n",
      "          ET       0.52      0.66      0.58        41\n",
      "           M       0.74      0.66      0.69        38\n",
      "           T       0.69      0.68      0.69        69\n",
      "\n",
      "    accuracy                           0.69       189\n",
      "   macro avg       0.71      0.69      0.69       189\n",
      "weighted avg       0.70      0.69      0.69       189\n",
      "\n",
      "{'M', 'E', 'ET', 'T'}\n",
      "{'max_depth': 5, 'min_samples_leaf': 3, 'min_samples_split': 5} -- F1-Score: 0.6930464265411397\n",
      "              precision    recall  f1-score   support\n",
      "\n",
      "           E       0.78      0.76      0.77        41\n",
      "          ET       0.62      0.76      0.68        41\n",
      "           M       0.70      0.74      0.72        38\n",
      "           T       0.75      0.64      0.69        69\n",
      "\n",
      "    accuracy                           0.71       189\n",
      "   macro avg       0.71      0.72      0.71       189\n",
      "weighted avg       0.72      0.71      0.71       189\n",
      "\n",
      "{'M', 'E', 'ET', 'T'}\n",
      "{'max_depth': 5, 'min_samples_leaf': 3, 'min_samples_split': 5} -- F1-Score: 0.7091869484947086\n",
      "              precision    recall  f1-score   support\n",
      "\n",
      "           E       0.87      0.80      0.84        41\n",
      "          ET       0.71      0.85      0.78        41\n",
      "           M       0.67      0.53      0.59        38\n",
      "           T       0.69      0.72      0.71        69\n",
      "\n",
      "    accuracy                           0.73       189\n",
      "   macro avg       0.74      0.73      0.73       189\n",
      "weighted avg       0.73      0.73      0.73       189\n",
      "\n",
      "{'M', 'E', 'ET', 'T'}\n",
      "{'max_depth': 5, 'min_samples_leaf': 30, 'min_samples_split': 3} -- F1-Score: 0.7271490202914682\n",
      "              precision    recall  f1-score   support\n",
      "\n",
      "           E       0.87      0.83      0.85        41\n",
      "          ET       0.60      0.68      0.64        40\n",
      "           M       0.72      0.79      0.76        39\n",
      "           T       0.71      0.64      0.67        69\n",
      "\n",
      "    accuracy                           0.72       189\n",
      "   macro avg       0.73      0.73      0.73       189\n",
      "weighted avg       0.72      0.72      0.72       189\n",
      "\n",
      "{'M', 'E', 'ET', 'T'}\n",
      "{'max_depth': 5, 'min_samples_leaf': 3, 'min_samples_split': 3} -- F1-Score: 0.7201096011751273\n"
     ]
    }
   ],
   "source": [
    "arvore_decisao, list_confusion_matrix, list_melhor_comb = do_cv(DecisionTreeClassifier, X_pca_df.values, y, 10, 5, 2, False,  {'min_samples_leaf' : [3, 5, 10, 15, 20, 30],\n",
    "                    'min_samples_split' : [3, 5, 10, 15, 20, 30],\n",
    "                    'max_depth' : [2, 3, 4, 5]})"
   ]
  },
  {
   "cell_type": "code",
   "execution_count": 13,
   "id": "1f891141-9dbd-442b-b11e-30e98b59e8ed",
   "metadata": {},
   "outputs": [
    {
     "name": "stdout",
     "output_type": "stream",
     "text": [
      "Resultados: 0.70 +- 0.03, min: 0.65, max: 0.75\n"
     ]
    }
   ],
   "source": [
    "imprimir_estatisticas(arvore_decisao)\n",
    "\n",
    "mediaArvDecisaotMelhor = np.mean(arvore_decisao[np.argmax(arvore_decisao)])\n",
    "desvioArvDecisaoMelhor = np.std(arvore_decisao[np.argmax(arvore_decisao)])\n",
    "\n",
    "mediaArvDecisaoPior = np.mean(arvore_decisao[np.argmin(arvore_decisao)])\n",
    "desvioArvDecisaoPior = np.std(arvore_decisao[np.argmin(arvore_decisao)])\n"
   ]
  },
  {
   "cell_type": "markdown",
   "id": "ed46f473",
   "metadata": {},
   "source": [
    "# Teste-T\n",
    "Utilizando os melhores e piores resultados encontrados utilizando a Decision Tree, foi aplicado o teste-T, com o objetivo de verificar se a diferença entre esses resultados é estatísticamente significativa, e como podemos observar na célula abaixo, o resultado obtido foi 'True', ou seja, isso significa que o valor de p-value foi menor do que 0.05, concluindo então que a diferença entre os desempenhos é realmente significativa (o melhor resultado realmente é estatisticamente melhor do que o pior resultado)."
   ]
  },
  {
   "cell_type": "code",
   "execution_count": 14,
   "id": "192c9301",
   "metadata": {},
   "outputs": [
    {
     "data": {
      "text/plain": [
       "True"
      ]
     },
     "execution_count": 14,
     "metadata": {},
     "output_type": "execute_result"
    }
   ],
   "source": [
    "# Aplica teste T entre os melhores e piores resultados obtidos\n",
    "rejeitar_hip_nula(mediaArvDecisaotMelhor, desvioArvDecisaoMelhor, len(arvore_decisao), mediaArvDecisaoPior, desvioArvDecisaoPior, len(arvore_decisao))"
   ]
  },
  {
   "cell_type": "markdown",
   "id": "d57ad0bc",
   "metadata": {},
   "source": [
    "Utilizando todas as matrizes de confusão de cada fold, somei todas elas, utilizando o método reduce do módulo 'functools', resultando então na visualização abaixo, a qual representa todas as classes que cada instância pertence e as classes obtidas pelo classificador."
   ]
  },
  {
   "cell_type": "code",
   "execution_count": 15,
   "id": "14de1f6e-b7d3-4ac4-8b2b-0650b57f1877",
   "metadata": {},
   "outputs": [
    {
     "data": {
      "text/plain": [
       "<sklearn.metrics._plot.confusion_matrix.ConfusionMatrixDisplay at 0x7f6888f615e0>"
      ]
     },
     "execution_count": 15,
     "metadata": {},
     "output_type": "execute_result"
    },
    {
     "data": {
      "image/png": "[encoded data removed]",
      "text/plain": [
       "<Figure size 432x288 with 2 Axes>"
      ]
     },
     "metadata": {
      "needs_background": "light"
     },
     "output_type": "display_data"
    }
   ],
   "source": [
    "reduceMatrix = functools.reduce(lambda x,y :  x + y, list_confusion_matrix)\n",
    "\n",
    "disp = ConfusionMatrixDisplay(confusion_matrix=reduceMatrix)\n",
    "disp.plot()"
   ]
  },
  {
   "cell_type": "markdown",
   "id": "c36c4d29",
   "metadata": {},
   "source": [
    "Utilizando o f1 score obtido em cada fold, foi escolhido aquela com o melhor desempenho, pegando então a combinação de hiperparâmetros utilizados."
   ]
  },
  {
   "cell_type": "code",
   "execution_count": 17,
   "id": "d1898da9-54d3-4225-8c68-03f714fc1271",
   "metadata": {},
   "outputs": [
    {
     "name": "stdout",
     "output_type": "stream",
     "text": [
      "Melhor combinação de hiperparâmetros: {'max_depth': 5, 'min_samples_leaf': 3, 'min_samples_split': 5}\n"
     ]
    }
   ],
   "source": [
    "melhor_comb = list_melhor_comb[np.argmax(arvore_decisao)]\n",
    "print(f'Melhor combinação de hiperparâmetros: {list_melhor_comb[np.argmax(arvore_decisao)]}')"
   ]
  },
  {
   "cell_type": "code",
   "execution_count": 18,
   "id": "d71fa21f-a38e-45c5-91cb-ebdc9006aee2",
   "metadata": {},
   "outputs": [
    {
     "data": {
      "text/plain": [
       "5"
      ]
     },
     "execution_count": 18,
     "metadata": {},
     "output_type": "execute_result"
    }
   ],
   "source": [
    "melhor_comb['min_samples_split']"
   ]
  },
  {
   "cell_type": "code",
   "execution_count": 20,
   "id": "fcd1640e-8431-4800-a763-1182d0329d38",
   "metadata": {},
   "outputs": [],
   "source": [
    "from sklearn.tree import plot_tree"
   ]
  },
  {
   "cell_type": "markdown",
   "id": "b21cf1ec",
   "metadata": {},
   "source": [
    "# Treinando utilizando todos os dados do dataset\n",
    "Após obter a melhor combinação de hiperparâmetros, treinei o modelo com o classificador DecisionTreeClassifier utilizando todos os dados do dataset, mostrando em seguida a árvore gerada."
   ]
  },
  {
   "cell_type": "code",
   "execution_count": 21,
   "id": "c66ca327-21a3-4bb3-bfbd-9d67b6545db6",
   "metadata": {},
   "outputs": [
    {
     "data": {
      "text/plain": [
       "DecisionTreeClassifier(max_depth=5, min_samples_leaf=3, min_samples_split=5)"
      ]
     },
     "execution_count": 21,
     "metadata": {},
     "output_type": "execute_result"
    }
   ],
   "source": [
    "ad = DecisionTreeClassifier(**melhor_comb)\n",
    "\n",
    "ad.fit(X, y)"
   ]
  },
  {
   "cell_type": "code",
   "execution_count": 22,
   "id": "413b36e1-1761-4544-9565-02a2ce3d3803",
   "metadata": {},
   "outputs": [
    {
     "data": {
      "image/png": "[encoded data removed]",
      "text/plain": [
       "<Figure size 576x576 with 1 Axes>"
      ]
     },
     "metadata": {
      "needs_background": "light"
     },
     "output_type": "display_data"
    }
   ],
   "source": [
    "plt.figure(figsize=(8,8))\n",
    "plot_tree(ad, class_names=ad.classes_, feature_names=X.columns, node_ids=True)\n",
    "plt.savefig('Arvore.svg')\n",
    "plt.show()"
   ]
  },
  {
   "cell_type": "markdown",
   "id": "195d63f7",
   "metadata": {},
   "source": [
    "# Estrutura de regras de decisão induzidas\n",
    "Na célula abaixo foi implementado a estrutura de regras de decisão induzidas utilizando uma estrutura de if's aninhados."
   ]
  },
  {
   "cell_type": "code",
   "execution_count": 24,
   "id": "d98ec565",
   "metadata": {},
   "outputs": [],
   "source": [
    "predClass = []\n",
    "\n",
    "for linha in X.index:\n",
    "    if X['strong_janguage'][linha] <= 0.5:\n",
    "\n",
    "        if (X['no_descriptors'][linha] <= 0.5):\n",
    "        \n",
    "            if (X['fantasy_violence'][linha] <= 0.5):\n",
    "        \n",
    "                if (X['fantasy_violence'][linha] <= 0.5):\n",
    "                    if (X['blood_and_gore'][linha] <= 0.5):\n",
    "                        predClass.append('T')\n",
    "                    else:\n",
    "                        predClass.append('M')\n",
    "                        \n",
    "                else:\n",
    "                    if(X['crude_humor'][linha] < 0.5):\n",
    "                        predClass.append('E')\n",
    "                    else:\n",
    "                        predClass.append('ET')\n",
    "\n",
    "            else:\n",
    "                if (X['suggestive_themes'][linha] < 0.5): \n",
    "                    if (X['blood'][linha] < 0.5):\n",
    "                        predClass.append('ET')\n",
    "                    else:\n",
    "                        predClass.append('T')\n",
    "\n",
    "                else:\n",
    "                    if (X['mild_suggestive_themes'][linha] < 0.5):\n",
    "                        predClass.append('T')\n",
    "                    else:\n",
    "                        predClass.append('ET')\n",
    "\n",
    "        else:\n",
    "            if (X['blood'][linha] < 0.5):\n",
    "                if (X['language'][linha] < 0.5):\n",
    "                    if (X['mild_blood'][linha] < 0.5):\n",
    "                        predClass.append('E')\n",
    "                    else:\n",
    "                        predClass.append('T')\n",
    "                    \n",
    "                else:\n",
    "                    if (X['mild_blood'][linha] < 0.5):\n",
    "                        predClass.append('T')\n",
    "                    else:\n",
    "                        predClass.append('T')\n",
    "\n",
    "            else:\n",
    "                predClass.append('T')\n",
    "    else:\n",
    "        if (X['crude_humor'][linha] < 0.5):\n",
    "            if (X['mild_blood'][linha] < 0.5):\n",
    "                if (X['drug_reference'][linha] < 0.5):\n",
    "                    predClass.append('T')\n",
    "                else:\n",
    "                    if (X['blood'][linha] < 0.5):\n",
    "                        predClass.append('M')\n",
    "                    else:\n",
    "                        predClass.append('M')\n",
    "\n",
    "            else:\n",
    "                if (X['blood_and_gore'][linha] < 0.5):\n",
    "                    predClass.append('T')\n",
    "                else:\n",
    "                    predClass.append('M')\n",
    "            \n",
    "        else:\n",
    "            predClass.append('ET')\n",
    "        \n"
   ]
  },
  {
   "cell_type": "markdown",
   "id": "bfee658c",
   "metadata": {},
   "source": [
    "Em seguida calculei o weighted f1-score obtido a partir da estrutura de if's aninhados."
   ]
  },
  {
   "cell_type": "code",
   "execution_count": 25,
   "id": "69759c35",
   "metadata": {},
   "outputs": [
    {
     "data": {
      "text/plain": [
       "0.6298527781654958"
      ]
     },
     "execution_count": 25,
     "metadata": {},
     "output_type": "execute_result"
    }
   ],
   "source": [
    "# F1 score da árvore de decisão induzida pelo algoritmo acima\n",
    "f1 = f1_score(y, predClass, average='weighted')\n",
    "f1"
   ]
  },
  {
   "cell_type": "code",
   "execution_count": 26,
   "id": "0ebf5617",
   "metadata": {},
   "outputs": [],
   "source": [
    "from sklearn.svm import SVC\n",
    "from sklearn.neighbors import KNeighborsClassifier\n",
    "from sklearn.ensemble import RandomForestClassifier"
   ]
  },
  {
   "cell_type": "markdown",
   "id": "4121a6b0",
   "metadata": {},
   "source": [
    "# Avaliando o desempenho do classificador Random Forest"
   ]
  },
  {
   "cell_type": "code",
   "execution_count": 61,
   "id": "bed66bf5",
   "metadata": {},
   "outputs": [
    {
     "name": "stdout",
     "output_type": "stream",
     "text": [
      "              precision    recall  f1-score   support\n",
      "\n",
      "           E       0.97      0.90      0.94        42\n",
      "          ET       0.77      0.82      0.80        40\n",
      "           M       0.80      0.85      0.83        39\n",
      "           T       0.79      0.77      0.78        69\n",
      "\n",
      "    accuracy                           0.83       190\n",
      "   macro avg       0.83      0.84      0.83       190\n",
      "weighted avg       0.83      0.83      0.83       190\n",
      "\n",
      "{'M', 'T', 'ET', 'E'}\n",
      "{'n_estimators': 100} -- 0.8272055162514523\n",
      "              precision    recall  f1-score   support\n",
      "\n",
      "           E       0.95      0.95      0.95        42\n",
      "          ET       0.82      0.80      0.81        40\n",
      "           M       0.89      0.82      0.85        39\n",
      "           T       0.81      0.86      0.83        69\n",
      "\n",
      "    accuracy                           0.86       190\n",
      "   macro avg       0.87      0.86      0.86       190\n",
      "weighted avg       0.86      0.86      0.86       190\n",
      "\n",
      "{'M', 'T', 'ET', 'E'}\n",
      "{'n_estimators': 500} -- 0.8580162708429124\n",
      "              precision    recall  f1-score   support\n",
      "\n",
      "           E       0.95      1.00      0.98        42\n",
      "          ET       0.88      0.75      0.81        40\n",
      "           M       0.77      0.87      0.82        39\n",
      "           T       0.81      0.80      0.80        69\n",
      "\n",
      "    accuracy                           0.85       190\n",
      "   macro avg       0.85      0.85      0.85       190\n",
      "weighted avg       0.85      0.85      0.85       190\n",
      "\n",
      "{'M', 'T', 'ET', 'E'}\n",
      "{'n_estimators': 100} -- 0.8463629227858747\n",
      "              precision    recall  f1-score   support\n",
      "\n",
      "           E       0.95      0.95      0.95        42\n",
      "          ET       0.75      0.68      0.71        40\n",
      "           M       0.81      0.77      0.79        39\n",
      "           T       0.73      0.80      0.76        69\n",
      "\n",
      "    accuracy                           0.80       190\n",
      "   macro avg       0.81      0.80      0.80       190\n",
      "weighted avg       0.80      0.80      0.80       190\n",
      "\n",
      "{'M', 'T', 'ET', 'E'}\n",
      "{'n_estimators': 250} -- 0.7995729455216989\n",
      "              precision    recall  f1-score   support\n",
      "\n",
      "           E       0.95      0.98      0.96        42\n",
      "          ET       0.70      0.65      0.68        40\n",
      "           M       0.86      0.77      0.81        39\n",
      "           T       0.71      0.77      0.74        69\n",
      "\n",
      "    accuracy                           0.79       190\n",
      "   macro avg       0.81      0.79      0.80       190\n",
      "weighted avg       0.79      0.79      0.79       190\n",
      "\n",
      "{'M', 'T', 'ET', 'E'}\n",
      "{'n_estimators': 700} -- 0.7891785387373622\n",
      "              precision    recall  f1-score   support\n",
      "\n",
      "           E       1.00      0.98      0.99        42\n",
      "          ET       0.78      0.88      0.82        40\n",
      "           M       0.84      0.95      0.89        39\n",
      "           T       0.88      0.76      0.82        68\n",
      "\n",
      "    accuracy                           0.87       189\n",
      "   macro avg       0.88      0.89      0.88       189\n",
      "weighted avg       0.88      0.87      0.87       189\n",
      "\n",
      "{'M', 'T', 'ET', 'E'}\n",
      "{'n_estimators': 100} -- 0.872440614188523\n",
      "              precision    recall  f1-score   support\n",
      "\n",
      "           E       0.91      0.95      0.93        41\n",
      "          ET       0.63      0.66      0.64        41\n",
      "           M       0.80      0.84      0.82        38\n",
      "           T       0.76      0.70      0.73        69\n",
      "\n",
      "    accuracy                           0.77       189\n",
      "   macro avg       0.77      0.79      0.78       189\n",
      "weighted avg       0.77      0.77      0.77       189\n",
      "\n",
      "{'M', 'T', 'ET', 'E'}\n",
      "{'n_estimators': 500} -- 0.7713750094702475\n",
      "              precision    recall  f1-score   support\n",
      "\n",
      "           E       0.93      0.98      0.95        41\n",
      "          ET       0.69      0.85      0.76        41\n",
      "           M       0.86      0.82      0.84        38\n",
      "           T       0.81      0.70      0.75        69\n",
      "\n",
      "    accuracy                           0.81       189\n",
      "   macro avg       0.82      0.84      0.83       189\n",
      "weighted avg       0.82      0.81      0.81       189\n",
      "\n",
      "{'M', 'T', 'ET', 'E'}\n",
      "{'n_estimators': 100} -- 0.8139212119543383\n",
      "              precision    recall  f1-score   support\n",
      "\n",
      "           E       0.98      0.98      0.98        41\n",
      "          ET       0.88      0.85      0.86        41\n",
      "           M       0.91      0.82      0.86        38\n",
      "           T       0.82      0.88      0.85        69\n",
      "\n",
      "    accuracy                           0.88       189\n",
      "   macro avg       0.90      0.88      0.89       189\n",
      "weighted avg       0.89      0.88      0.88       189\n",
      "\n",
      "{'M', 'T', 'ET', 'E'}\n",
      "{'n_estimators': 100} -- 0.883711396057075\n",
      "              precision    recall  f1-score   support\n",
      "\n",
      "           E       0.93      1.00      0.96        41\n",
      "          ET       0.73      0.75      0.74        40\n",
      "           M       0.79      0.87      0.83        39\n",
      "           T       0.82      0.72      0.77        69\n",
      "\n",
      "    accuracy                           0.82       189\n",
      "   macro avg       0.82      0.84      0.83       189\n",
      "weighted avg       0.82      0.82      0.82       189\n",
      "\n",
      "{'M', 'T', 'ET', 'E'}\n",
      "{'n_estimators': 100} -- 0.8179944830563886\n"
     ]
    }
   ],
   "source": [
    "# Avaliando o desempenho do Random Forest\n",
    "randomForest, list_confusion_matrix, list_melhor_comb = do_cv(RandomForestClassifier, X_pca_df.values, y, 10, 5, 2, False, {'n_estimators' : [100, 250, 500, 700]})"
   ]
  },
  {
   "cell_type": "code",
   "execution_count": 90,
   "id": "9bd05196",
   "metadata": {},
   "outputs": [
    {
     "name": "stdout",
     "output_type": "stream",
     "text": [
      "Resultados: 0.83 +- 0.03, min: 0.77, max: 0.88\n"
     ]
    }
   ],
   "source": [
    "imprimir_estatisticas(randomForest)\n",
    "mediaRandomForestMelhor = np.mean(randomForest[np.argmax(randomForest)])\n",
    "desvioRandomForestMelhor = np.std(randomForest[np.argmax(randomForest)])\n",
    "\n",
    "mediaRandomForestPior = np.mean(randomForest[np.argmin(randomForest)])\n",
    "desvioRandomForestPior = np.std(randomForest[np.argmin(randomForest)])"
   ]
  },
  {
   "cell_type": "code",
   "execution_count": 91,
   "id": "1f57c951",
   "metadata": {},
   "outputs": [
    {
     "data": {
      "text/plain": [
       "True"
      ]
     },
     "execution_count": 91,
     "metadata": {},
     "output_type": "execute_result"
    }
   ],
   "source": [
    "# Aplica teste T entre os melhores e piores resultados obtidos\n",
    "rejeitar_hip_nula(mediaRandomForestMelhor, desvioRandomForestMelhor, len(randomForest), mediaRandomForestPior, desvioRandomForestPior, len(randomForest))"
   ]
  },
  {
   "cell_type": "markdown",
   "id": "eff7c732",
   "metadata": {},
   "source": [
    "# Analisando o desempenho do classificador SVM"
   ]
  },
  {
   "cell_type": "code",
   "execution_count": 63,
   "id": "017c6f51",
   "metadata": {},
   "outputs": [
    {
     "name": "stdout",
     "output_type": "stream",
     "text": [
      "              precision    recall  f1-score   support\n",
      "\n",
      "           E       0.79      0.98      0.87        42\n",
      "          ET       0.74      0.57      0.65        40\n",
      "           M       0.83      0.64      0.72        39\n",
      "           T       0.66      0.74      0.70        69\n",
      "\n",
      "    accuracy                           0.74       190\n",
      "   macro avg       0.76      0.73      0.74       190\n",
      "weighted avg       0.74      0.74      0.73       190\n",
      "\n",
      "{'M', 'T', 'ET', 'E'}\n",
      "{'C': 1000, 'gamma': 'scale', 'kernel': 'rbf'} -- 0.7316849465650478\n",
      "              precision    recall  f1-score   support\n",
      "\n",
      "           E       0.82      1.00      0.90        42\n",
      "          ET       0.82      0.70      0.76        40\n",
      "           M       0.90      0.72      0.80        39\n",
      "           T       0.76      0.81      0.78        69\n",
      "\n",
      "    accuracy                           0.81       190\n",
      "   macro avg       0.83      0.81      0.81       190\n",
      "weighted avg       0.82      0.81      0.81       190\n",
      "\n",
      "{'M', 'T', 'ET', 'E'}\n",
      "{'C': 1000, 'gamma': 'scale', 'kernel': 'rbf'} -- 0.807619537806295\n",
      "              precision    recall  f1-score   support\n",
      "\n",
      "           E       0.75      1.00      0.86        42\n",
      "          ET       0.87      0.50      0.63        40\n",
      "           M       0.75      0.69      0.72        39\n",
      "           T       0.69      0.75      0.72        69\n",
      "\n",
      "    accuracy                           0.74       190\n",
      "   macro avg       0.77      0.74      0.73       190\n",
      "weighted avg       0.75      0.74      0.73       190\n",
      "\n",
      "{'M', 'T', 'ET', 'E'}\n",
      "{'C': 1000, 'gamma': 'scale', 'kernel': 'rbf'} -- 0.7332113617376774\n",
      "              precision    recall  f1-score   support\n",
      "\n",
      "           E       0.84      1.00      0.91        42\n",
      "          ET       0.76      0.55      0.64        40\n",
      "           M       0.84      0.69      0.76        39\n",
      "           T       0.70      0.80      0.74        69\n",
      "\n",
      "    accuracy                           0.77       190\n",
      "   macro avg       0.78      0.76      0.76       190\n",
      "weighted avg       0.77      0.77      0.76       190\n",
      "\n",
      "{'M', 'T', 'ET', 'E'}\n",
      "{'C': 1000, 'gamma': 'scale', 'kernel': 'rbf'} -- 0.7621096214659885\n",
      "              precision    recall  f1-score   support\n",
      "\n",
      "           E       0.75      1.00      0.86        42\n",
      "          ET       0.68      0.47      0.56        40\n",
      "           M       0.82      0.69      0.75        39\n",
      "           T       0.63      0.67      0.65        69\n",
      "\n",
      "    accuracy                           0.71       190\n",
      "   macro avg       0.72      0.71      0.70       190\n",
      "weighted avg       0.71      0.71      0.70       190\n",
      "\n",
      "{'M', 'T', 'ET', 'E'}\n",
      "{'C': 1000, 'gamma': 'scale', 'kernel': 'rbf'} -- 0.6963535080451752\n",
      "              precision    recall  f1-score   support\n",
      "\n",
      "           E       0.75      1.00      0.86        42\n",
      "          ET       0.90      0.65      0.75        40\n",
      "           M       0.89      0.79      0.84        39\n",
      "           T       0.80      0.81      0.80        68\n",
      "\n",
      "    accuracy                           0.81       189\n",
      "   macro avg       0.83      0.81      0.81       189\n",
      "weighted avg       0.83      0.81      0.81       189\n",
      "\n",
      "{'M', 'T', 'ET', 'E'}\n",
      "{'C': 1000, 'gamma': 'scale', 'kernel': 'rbf'} -- 0.811741499248111\n",
      "              precision    recall  f1-score   support\n",
      "\n",
      "           E       0.77      1.00      0.87        41\n",
      "          ET       0.58      0.51      0.55        41\n",
      "           M       0.86      0.66      0.75        38\n",
      "           T       0.70      0.72      0.71        69\n",
      "\n",
      "    accuracy                           0.72       189\n",
      "   macro avg       0.73      0.72      0.72       189\n",
      "weighted avg       0.72      0.72      0.72       189\n",
      "\n",
      "{'M', 'T', 'ET', 'E'}\n",
      "{'C': 1000, 'gamma': 'scale', 'kernel': 'rbf'} -- 0.7183783970972647\n",
      "              precision    recall  f1-score   support\n",
      "\n",
      "           E       0.69      0.98      0.81        41\n",
      "          ET       0.68      0.61      0.64        41\n",
      "           M       0.89      0.63      0.74        38\n",
      "           T       0.73      0.71      0.72        69\n",
      "\n",
      "    accuracy                           0.73       189\n",
      "   macro avg       0.75      0.73      0.73       189\n",
      "weighted avg       0.74      0.73      0.73       189\n",
      "\n",
      "{'M', 'T', 'ET', 'E'}\n",
      "{'C': 1000, 'gamma': 'scale', 'kernel': 'rbf'} -- 0.7259020693661217\n",
      "              precision    recall  f1-score   support\n",
      "\n",
      "           E       0.79      1.00      0.88        41\n",
      "          ET       0.79      0.66      0.72        41\n",
      "           M       0.75      0.71      0.73        38\n",
      "           T       0.78      0.75      0.76        69\n",
      "\n",
      "    accuracy                           0.78       189\n",
      "   macro avg       0.78      0.78      0.77       189\n",
      "weighted avg       0.78      0.78      0.77       189\n",
      "\n",
      "{'M', 'T', 'ET', 'E'}\n",
      "{'C': 1000, 'gamma': 'scale', 'kernel': 'rbf'} -- 0.773359646806832\n",
      "              precision    recall  f1-score   support\n",
      "\n",
      "           E       0.80      1.00      0.89        41\n",
      "          ET       0.83      0.60      0.70        40\n",
      "           M       0.79      0.85      0.81        39\n",
      "           T       0.79      0.77      0.78        69\n",
      "\n",
      "    accuracy                           0.80       189\n",
      "   macro avg       0.80      0.80      0.80       189\n",
      "weighted avg       0.80      0.80      0.79       189\n",
      "\n",
      "{'M', 'T', 'ET', 'E'}\n",
      "{'C': 1000, 'gamma': 'scale', 'kernel': 'rbf'} -- 0.7932632526977511\n"
     ]
    }
   ],
   "source": [
    "# Avaliando o desempenho do KNN\n",
    "svm, list_confusion_matrix, list_melhor_comb = do_cv(SVC, X_pca_df.values, y, 10, 5, 2, False, {'gamma' : ['auto', 'scale', 2e-2, 2e-3, 2e-4],\n",
    "                'C' : [1, 10, 100, 1000], 'kernel': ['rbf']})"
   ]
  },
  {
   "cell_type": "code",
   "execution_count": 81,
   "id": "59d3060f",
   "metadata": {},
   "outputs": [
    {
     "name": "stdout",
     "output_type": "stream",
     "text": [
      "Resultados: 0.76 +- 0.04, min: 0.70, max: 0.81\n"
     ]
    }
   ],
   "source": [
    "imprimir_estatisticas(svm)\n",
    "\n",
    "mediaSVMMelhor = np.mean(svm[np.argmax(svm)])\n",
    "desvioSVMMelhor = np.std(svm[np.argmax(svm)])\n",
    "\n",
    "mediaSVMPior = np.mean(svm[np.argmin(svm)])\n",
    "desvioSVMPior = np.std(svm[np.argmin(svm)])"
   ]
  },
  {
   "cell_type": "code",
   "execution_count": 84,
   "id": "0b2662c2",
   "metadata": {},
   "outputs": [
    {
     "data": {
      "text/plain": [
       "True"
      ]
     },
     "execution_count": 84,
     "metadata": {},
     "output_type": "execute_result"
    }
   ],
   "source": [
    "# Aplica teste T entre os melhores e piores resultados obtidos\n",
    "rejeitar_hip_nula(mediaSVMMelhor, desvioSVMMelhor, len(svm), mediaSVMPior, desvioSVMPior, len(svm))"
   ]
  },
  {
   "cell_type": "code",
   "execution_count": 65,
   "id": "3b93822e",
   "metadata": {},
   "outputs": [
    {
     "data": {
      "text/plain": [
       "{'algorithm': 'auto',\n",
       " 'leaf_size': 30,\n",
       " 'metric': 'minkowski',\n",
       " 'metric_params': None,\n",
       " 'n_jobs': None,\n",
       " 'n_neighbors': 5,\n",
       " 'p': 2,\n",
       " 'weights': 'uniform'}"
      ]
     },
     "execution_count": 65,
     "metadata": {},
     "output_type": "execute_result"
    }
   ],
   "source": [
    "# estimator.get_params().keys()\n",
    "KNeighborsClassifier().get_params()"
   ]
  },
  {
   "cell_type": "markdown",
   "id": "1bdd75cf",
   "metadata": {},
   "source": [
    "# Analisando o desempenho do classificador KNN"
   ]
  },
  {
   "cell_type": "code",
   "execution_count": 66,
   "id": "97620033",
   "metadata": {},
   "outputs": [
    {
     "name": "stdout",
     "output_type": "stream",
     "text": [
      "              precision    recall  f1-score   support\n",
      "\n",
      "           E       1.00      0.90      0.95        42\n",
      "          ET       0.68      0.75      0.71        40\n",
      "           M       0.82      0.79      0.81        39\n",
      "           T       0.71      0.72      0.72        69\n",
      "\n",
      "    accuracy                           0.78       190\n",
      "   macro avg       0.80      0.79      0.80       190\n",
      "weighted avg       0.79      0.78      0.79       190\n",
      "\n",
      "{'M', 'T', 'ET', 'E'}\n",
      "{'n_neighbors': 1} -- 0.7869174407568956\n",
      "              precision    recall  f1-score   support\n",
      "\n",
      "           E       0.95      0.98      0.96        42\n",
      "          ET       0.78      0.88      0.82        40\n",
      "           M       0.79      0.79      0.79        39\n",
      "           T       0.81      0.74      0.77        69\n",
      "\n",
      "    accuracy                           0.83       190\n",
      "   macro avg       0.83      0.85      0.84       190\n",
      "weighted avg       0.83      0.83      0.83       190\n",
      "\n",
      "{'M', 'T', 'ET', 'E'}\n",
      "{'n_neighbors': 1} -- 0.8304052913031241\n",
      "              precision    recall  f1-score   support\n",
      "\n",
      "           E       0.84      1.00      0.91        42\n",
      "          ET       0.87      0.68      0.76        40\n",
      "           M       0.76      0.82      0.79        39\n",
      "           T       0.76      0.74      0.75        69\n",
      "\n",
      "    accuracy                           0.80       190\n",
      "   macro avg       0.81      0.81      0.80       190\n",
      "weighted avg       0.80      0.80      0.80       190\n",
      "\n",
      "{'M', 'T', 'ET', 'E'}\n",
      "{'n_neighbors': 9} -- 0.7965009269107312\n",
      "              precision    recall  f1-score   support\n",
      "\n",
      "           E       0.93      0.95      0.94        42\n",
      "          ET       0.67      0.78      0.72        40\n",
      "           M       0.85      0.72      0.78        39\n",
      "           T       0.78      0.77      0.77        69\n",
      "\n",
      "    accuracy                           0.80       190\n",
      "   macro avg       0.81      0.80      0.80       190\n",
      "weighted avg       0.80      0.80      0.80       190\n",
      "\n",
      "{'M', 'T', 'ET', 'E'}\n",
      "{'n_neighbors': 3} -- 0.8004569248117548\n",
      "              precision    recall  f1-score   support\n",
      "\n",
      "           E       0.84      0.98      0.90        42\n",
      "          ET       0.68      0.62      0.65        40\n",
      "           M       0.82      0.79      0.81        39\n",
      "           T       0.70      0.67      0.68        69\n",
      "\n",
      "    accuracy                           0.75       190\n",
      "   macro avg       0.76      0.77      0.76       190\n",
      "weighted avg       0.75      0.75      0.75       190\n",
      "\n",
      "{'M', 'T', 'ET', 'E'}\n",
      "{'n_neighbors': 5} -- 0.7486578918157866\n",
      "              precision    recall  f1-score   support\n",
      "\n",
      "           E       0.95      1.00      0.98        42\n",
      "          ET       0.78      0.88      0.82        40\n",
      "           M       0.82      0.79      0.81        39\n",
      "           T       0.82      0.75      0.78        68\n",
      "\n",
      "    accuracy                           0.84       189\n",
      "   macro avg       0.84      0.85      0.85       189\n",
      "weighted avg       0.84      0.84      0.84       189\n",
      "\n",
      "{'M', 'T', 'ET', 'E'}\n",
      "{'n_neighbors': 3} -- 0.839792993867647\n",
      "              precision    recall  f1-score   support\n",
      "\n",
      "           E       0.89      0.95      0.92        41\n",
      "          ET       0.56      0.66      0.61        41\n",
      "           M       0.84      0.71      0.77        38\n",
      "           T       0.71      0.67      0.69        69\n",
      "\n",
      "    accuracy                           0.74       189\n",
      "   macro avg       0.75      0.75      0.75       189\n",
      "weighted avg       0.74      0.74      0.74       189\n",
      "\n",
      "{'M', 'T', 'ET', 'E'}\n",
      "{'n_neighbors': 3} -- 0.7364410261840775\n",
      "              precision    recall  f1-score   support\n",
      "\n",
      "           E       0.93      0.93      0.93        41\n",
      "          ET       0.70      0.85      0.77        41\n",
      "           M       0.71      0.89      0.79        38\n",
      "           T       0.84      0.61      0.71        69\n",
      "\n",
      "    accuracy                           0.79       189\n",
      "   macro avg       0.79      0.82      0.80       189\n",
      "weighted avg       0.80      0.79      0.78       189\n",
      "\n",
      "{'M', 'T', 'ET', 'E'}\n",
      "{'n_neighbors': 1} -- 0.7846077011603688\n",
      "              precision    recall  f1-score   support\n",
      "\n",
      "           E       0.91      0.98      0.94        41\n",
      "          ET       0.79      0.66      0.72        41\n",
      "           M       0.79      0.87      0.82        38\n",
      "           T       0.74      0.74      0.74        69\n",
      "\n",
      "    accuracy                           0.80       189\n",
      "   macro avg       0.81      0.81      0.81       189\n",
      "weighted avg       0.80      0.80      0.80       189\n",
      "\n",
      "{'M', 'T', 'ET', 'E'}\n",
      "{'n_neighbors': 1} -- 0.7960753190164954\n",
      "              precision    recall  f1-score   support\n",
      "\n",
      "           E       0.91      1.00      0.95        41\n",
      "          ET       0.59      0.60      0.59        40\n",
      "           M       0.83      0.90      0.86        39\n",
      "           T       0.75      0.67      0.71        69\n",
      "\n",
      "    accuracy                           0.77       189\n",
      "   macro avg       0.77      0.79      0.78       189\n",
      "weighted avg       0.77      0.77      0.77       189\n",
      "\n",
      "{'M', 'T', 'ET', 'E'}\n",
      "{'n_neighbors': 1} -- 0.7689481475872517\n"
     ]
    }
   ],
   "source": [
    "# Avaliando o desempenho do KNN\n",
    "ks = list(range(1,30,2))\n",
    "knn, list_confusion_matrix, list_melhor_comb = do_cv(KNeighborsClassifier, X_pca_df.values, y, 10, 5, 2, False, {'n_neighbors' : ks})"
   ]
  },
  {
   "cell_type": "code",
   "execution_count": 86,
   "id": "f74b056a",
   "metadata": {},
   "outputs": [
    {
     "name": "stdout",
     "output_type": "stream",
     "text": [
      "Resultados: 0.79 +- 0.03, min: 0.74, max: 0.84\n"
     ]
    }
   ],
   "source": [
    "imprimir_estatisticas(knn)\n",
    "mediaKnnMelhor = np.mean(knn[np.argmax(knn)])\n",
    "desvioKnnMelhor = np.std(knn[np.argmax(knn)])\n",
    "\n",
    "mediaKnnPior = np.mean(knn[np.argmin(knn)])\n",
    "desvioKnnPior = np.std(knn[np.argmin(knn)])"
   ]
  },
  {
   "cell_type": "code",
   "execution_count": 87,
   "id": "ae5182a4",
   "metadata": {},
   "outputs": [
    {
     "data": {
      "text/plain": [
       "True"
      ]
     },
     "execution_count": 87,
     "metadata": {},
     "output_type": "execute_result"
    }
   ],
   "source": [
    "# Aplica teste T entre os melhores e piores resultados obtidos\n",
    "rejeitar_hip_nula(mediaKnnMelhor, desvioKnnMelhor, len(knn), mediaKnnPior, desvioKnnPior, len(svm))"
   ]
  }
 ],
 "metadata": {
  "kernelspec": {
   "display_name": "Python 3.8.10 64-bit",
   "language": "python",
   "name": "python3"
  },
  "language_info": {
   "codemirror_mode": {
    "name": "ipython",
    "version": 3
   },
   "file_extension": ".py",
   "mimetype": "text/x-python",
   "name": "python",
   "nbconvert_exporter": "python",
   "pygments_lexer": "ipython3",
   "version": "3.8.10"
  },
  "vscode": {
   "interpreter": {
    "hash": "916dbcbb3f70747c44a77c7bcd40155683ae19c65e1c03b4aa3499c5328201f1"
   }
  }
 },
 "nbformat": 4,
 "nbformat_minor": 5
}
