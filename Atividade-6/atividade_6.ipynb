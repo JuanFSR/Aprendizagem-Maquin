{
 "cells": [
  {
   "cell_type": "markdown",
   "id": "70c98eed",
   "metadata": {},
   "source": [
    "# Atividade 6 - Redução de Dimensionalidade para Classificação via PCA\n",
    "\n",
    "Nome: Juan Felipe Da Silva Rangel\n",
    "\n",
    "O objetivo desta atividade é explorar o dataset 'dota2DatasetTrain_header_01.csv', que contém 9264 partidas de Dota 2, nas quais os heróis que participaram de um time são atribuídos os valores 1, e os do time contrário, o valor -1, além também do resultado da partida.\n",
    " Nesta atividade devemos utilizar classificadores SVM, KNN e RandomForest para predizer qual dos dois times seria o vencedor. Como a maioria dos dados são zeros, dizemos que esse é um dataset esparço. Será necessário então testar os classificadores acimas, otimizando os hiperparâmetros que já foram vistos, sem realizar a diminuição de dimensionalidade e realizando o PCA, comparando em seguida os resultados obtidos."
   ]
  },
  {
   "cell_type": "code",
   "execution_count": 38,
   "id": "8c865c0a",
   "metadata": {},
   "outputs": [],
   "source": [
    "import pandas as pd\n",
    "import numpy as np\n",
    "import functools\n",
    "import seaborn as sns\n",
    "\n",
    "import utils\n",
    "from sklearn.model_selection import GridSearchCV, ParameterGrid\n",
    "from sklearn.model_selection import train_test_split, StratifiedKFold\n",
    "from sklearn.metrics import f1_score, confusion_matrix, ConfusionMatrixDisplay\n",
    "\n",
    "from tqdm.notebook import tqdm\n",
    "\n",
    "from sklearn.preprocessing import StandardScaler\n",
    "from sklearn.svm import SVC\n",
    "from sklearn.neighbors import KNeighborsClassifier\n",
    "from sklearn.ensemble import RandomForestClassifier\n",
    "from sklearn.decomposition import PCA\n",
    "import functools\n",
    "\n",
    "from joblib import Parallel, delayed\n"
   ]
  },
  {
   "cell_type": "markdown",
   "id": "c477cfc3",
   "metadata": {},
   "source": [
    "# Carregando Dataset Video_game_esrb_rating.csv"
   ]
  },
  {
   "cell_type": "code",
   "execution_count": 39,
   "id": "0f35fc22",
   "metadata": {},
   "outputs": [
    {
     "data": {
      "text/html": [
       "<div>\n",
       "<style scoped>\n",
       "    .dataframe tbody tr th:only-of-type {\n",
       "        vertical-align: middle;\n",
       "    }\n",
       "\n",
       "    .dataframe tbody tr th {\n",
       "        vertical-align: top;\n",
       "    }\n",
       "\n",
       "    .dataframe thead th {\n",
       "        text-align: right;\n",
       "    }\n",
       "</style>\n",
       "<table border=\"1\" class=\"dataframe\">\n",
       "  <thead>\n",
       "    <tr style=\"text-align: right;\">\n",
       "      <th></th>\n",
       "      <th>cluster_id</th>\n",
       "      <th>game_mode</th>\n",
       "      <th>game_type</th>\n",
       "      <th>hero_0</th>\n",
       "      <th>hero_1</th>\n",
       "      <th>hero_2</th>\n",
       "      <th>hero_3</th>\n",
       "      <th>hero_4</th>\n",
       "      <th>hero_5</th>\n",
       "      <th>hero_6</th>\n",
       "      <th>...</th>\n",
       "      <th>hero_104</th>\n",
       "      <th>hero_105</th>\n",
       "      <th>hero_106</th>\n",
       "      <th>hero_107</th>\n",
       "      <th>hero_108</th>\n",
       "      <th>hero_109</th>\n",
       "      <th>hero_110</th>\n",
       "      <th>hero_111</th>\n",
       "      <th>hero_112</th>\n",
       "      <th>winning_team</th>\n",
       "    </tr>\n",
       "  </thead>\n",
       "  <tbody>\n",
       "    <tr>\n",
       "      <th>9259</th>\n",
       "      <td>223</td>\n",
       "      <td>2</td>\n",
       "      <td>2</td>\n",
       "      <td>0</td>\n",
       "      <td>0</td>\n",
       "      <td>0</td>\n",
       "      <td>0</td>\n",
       "      <td>1</td>\n",
       "      <td>0</td>\n",
       "      <td>0</td>\n",
       "      <td>...</td>\n",
       "      <td>0</td>\n",
       "      <td>0</td>\n",
       "      <td>0</td>\n",
       "      <td>0</td>\n",
       "      <td>0</td>\n",
       "      <td>0</td>\n",
       "      <td>0</td>\n",
       "      <td>1</td>\n",
       "      <td>0</td>\n",
       "      <td>-1</td>\n",
       "    </tr>\n",
       "    <tr>\n",
       "      <th>9260</th>\n",
       "      <td>225</td>\n",
       "      <td>2</td>\n",
       "      <td>2</td>\n",
       "      <td>0</td>\n",
       "      <td>0</td>\n",
       "      <td>0</td>\n",
       "      <td>0</td>\n",
       "      <td>0</td>\n",
       "      <td>-1</td>\n",
       "      <td>0</td>\n",
       "      <td>...</td>\n",
       "      <td>0</td>\n",
       "      <td>0</td>\n",
       "      <td>-1</td>\n",
       "      <td>0</td>\n",
       "      <td>0</td>\n",
       "      <td>0</td>\n",
       "      <td>0</td>\n",
       "      <td>0</td>\n",
       "      <td>0</td>\n",
       "      <td>1</td>\n",
       "    </tr>\n",
       "    <tr>\n",
       "      <th>9261</th>\n",
       "      <td>227</td>\n",
       "      <td>2</td>\n",
       "      <td>2</td>\n",
       "      <td>0</td>\n",
       "      <td>0</td>\n",
       "      <td>0</td>\n",
       "      <td>0</td>\n",
       "      <td>0</td>\n",
       "      <td>1</td>\n",
       "      <td>-1</td>\n",
       "      <td>...</td>\n",
       "      <td>0</td>\n",
       "      <td>0</td>\n",
       "      <td>0</td>\n",
       "      <td>0</td>\n",
       "      <td>0</td>\n",
       "      <td>1</td>\n",
       "      <td>0</td>\n",
       "      <td>0</td>\n",
       "      <td>0</td>\n",
       "      <td>1</td>\n",
       "    </tr>\n",
       "    <tr>\n",
       "      <th>9262</th>\n",
       "      <td>156</td>\n",
       "      <td>2</td>\n",
       "      <td>3</td>\n",
       "      <td>-1</td>\n",
       "      <td>-1</td>\n",
       "      <td>0</td>\n",
       "      <td>0</td>\n",
       "      <td>0</td>\n",
       "      <td>1</td>\n",
       "      <td>0</td>\n",
       "      <td>...</td>\n",
       "      <td>0</td>\n",
       "      <td>0</td>\n",
       "      <td>0</td>\n",
       "      <td>0</td>\n",
       "      <td>0</td>\n",
       "      <td>0</td>\n",
       "      <td>0</td>\n",
       "      <td>0</td>\n",
       "      <td>0</td>\n",
       "      <td>1</td>\n",
       "    </tr>\n",
       "    <tr>\n",
       "      <th>9263</th>\n",
       "      <td>138</td>\n",
       "      <td>2</td>\n",
       "      <td>3</td>\n",
       "      <td>0</td>\n",
       "      <td>0</td>\n",
       "      <td>0</td>\n",
       "      <td>0</td>\n",
       "      <td>0</td>\n",
       "      <td>0</td>\n",
       "      <td>0</td>\n",
       "      <td>...</td>\n",
       "      <td>0</td>\n",
       "      <td>0</td>\n",
       "      <td>0</td>\n",
       "      <td>0</td>\n",
       "      <td>0</td>\n",
       "      <td>0</td>\n",
       "      <td>0</td>\n",
       "      <td>0</td>\n",
       "      <td>0</td>\n",
       "      <td>1</td>\n",
       "    </tr>\n",
       "  </tbody>\n",
       "</table>\n",
       "<p>5 rows × 117 columns</p>\n",
       "</div>"
      ],
      "text/plain": [
       "      cluster_id  game_mode  game_type  hero_0  hero_1  hero_2  hero_3  \\\n",
       "9259         223          2          2       0       0       0       0   \n",
       "9260         225          2          2       0       0       0       0   \n",
       "9261         227          2          2       0       0       0       0   \n",
       "9262         156          2          3      -1      -1       0       0   \n",
       "9263         138          2          3       0       0       0       0   \n",
       "\n",
       "      hero_4  hero_5  hero_6  ...  hero_104  hero_105  hero_106  hero_107  \\\n",
       "9259       1       0       0  ...         0         0         0         0   \n",
       "9260       0      -1       0  ...         0         0        -1         0   \n",
       "9261       0       1      -1  ...         0         0         0         0   \n",
       "9262       0       1       0  ...         0         0         0         0   \n",
       "9263       0       0       0  ...         0         0         0         0   \n",
       "\n",
       "      hero_108  hero_109  hero_110  hero_111  hero_112  winning_team  \n",
       "9259         0         0         0         1         0            -1  \n",
       "9260         0         0         0         0         0             1  \n",
       "9261         0         1         0         0         0             1  \n",
       "9262         0         0         0         0         0             1  \n",
       "9263         0         0         0         0         0             1  \n",
       "\n",
       "[5 rows x 117 columns]"
      ]
     },
     "execution_count": 39,
     "metadata": {},
     "output_type": "execute_result"
    }
   ],
   "source": [
    "df = pd.read_csv('dota2DatasetTrain_header_01.csv')\n",
    "df.tail()"
   ]
  },
  {
   "cell_type": "markdown",
   "id": "08381ce1",
   "metadata": {},
   "source": [
    "Abaixo separei as classes e seus atributos para que seja possível então realizar o PCA para essa base de dados."
   ]
  },
  {
   "cell_type": "code",
   "execution_count": 40,
   "id": "1ac99285-ae46-4e09-b7ba-03cb8e888440",
   "metadata": {},
   "outputs": [
    {
     "data": {
      "text/html": [
       "<div>\n",
       "<style scoped>\n",
       "    .dataframe tbody tr th:only-of-type {\n",
       "        vertical-align: middle;\n",
       "    }\n",
       "\n",
       "    .dataframe tbody tr th {\n",
       "        vertical-align: top;\n",
       "    }\n",
       "\n",
       "    .dataframe thead th {\n",
       "        text-align: right;\n",
       "    }\n",
       "</style>\n",
       "<table border=\"1\" class=\"dataframe\">\n",
       "  <thead>\n",
       "    <tr style=\"text-align: right;\">\n",
       "      <th></th>\n",
       "      <th>cluster_id</th>\n",
       "      <th>game_mode</th>\n",
       "      <th>game_type</th>\n",
       "      <th>hero_0</th>\n",
       "      <th>hero_1</th>\n",
       "      <th>hero_2</th>\n",
       "      <th>hero_3</th>\n",
       "      <th>hero_4</th>\n",
       "      <th>hero_5</th>\n",
       "      <th>hero_6</th>\n",
       "      <th>...</th>\n",
       "      <th>hero_103</th>\n",
       "      <th>hero_104</th>\n",
       "      <th>hero_105</th>\n",
       "      <th>hero_106</th>\n",
       "      <th>hero_107</th>\n",
       "      <th>hero_108</th>\n",
       "      <th>hero_109</th>\n",
       "      <th>hero_110</th>\n",
       "      <th>hero_111</th>\n",
       "      <th>hero_112</th>\n",
       "    </tr>\n",
       "  </thead>\n",
       "  <tbody>\n",
       "    <tr>\n",
       "      <th>0</th>\n",
       "      <td>156</td>\n",
       "      <td>2</td>\n",
       "      <td>2</td>\n",
       "      <td>0</td>\n",
       "      <td>0</td>\n",
       "      <td>0</td>\n",
       "      <td>-1</td>\n",
       "      <td>0</td>\n",
       "      <td>0</td>\n",
       "      <td>0</td>\n",
       "      <td>...</td>\n",
       "      <td>1</td>\n",
       "      <td>1</td>\n",
       "      <td>0</td>\n",
       "      <td>0</td>\n",
       "      <td>0</td>\n",
       "      <td>0</td>\n",
       "      <td>0</td>\n",
       "      <td>0</td>\n",
       "      <td>0</td>\n",
       "      <td>0</td>\n",
       "    </tr>\n",
       "    <tr>\n",
       "      <th>1</th>\n",
       "      <td>204</td>\n",
       "      <td>2</td>\n",
       "      <td>2</td>\n",
       "      <td>0</td>\n",
       "      <td>0</td>\n",
       "      <td>0</td>\n",
       "      <td>0</td>\n",
       "      <td>1</td>\n",
       "      <td>0</td>\n",
       "      <td>0</td>\n",
       "      <td>...</td>\n",
       "      <td>0</td>\n",
       "      <td>0</td>\n",
       "      <td>0</td>\n",
       "      <td>0</td>\n",
       "      <td>0</td>\n",
       "      <td>0</td>\n",
       "      <td>-1</td>\n",
       "      <td>0</td>\n",
       "      <td>0</td>\n",
       "      <td>0</td>\n",
       "    </tr>\n",
       "    <tr>\n",
       "      <th>2</th>\n",
       "      <td>227</td>\n",
       "      <td>8</td>\n",
       "      <td>3</td>\n",
       "      <td>0</td>\n",
       "      <td>0</td>\n",
       "      <td>0</td>\n",
       "      <td>0</td>\n",
       "      <td>0</td>\n",
       "      <td>0</td>\n",
       "      <td>0</td>\n",
       "      <td>...</td>\n",
       "      <td>1</td>\n",
       "      <td>0</td>\n",
       "      <td>0</td>\n",
       "      <td>0</td>\n",
       "      <td>0</td>\n",
       "      <td>0</td>\n",
       "      <td>0</td>\n",
       "      <td>0</td>\n",
       "      <td>0</td>\n",
       "      <td>0</td>\n",
       "    </tr>\n",
       "    <tr>\n",
       "      <th>3</th>\n",
       "      <td>153</td>\n",
       "      <td>2</td>\n",
       "      <td>3</td>\n",
       "      <td>0</td>\n",
       "      <td>0</td>\n",
       "      <td>0</td>\n",
       "      <td>0</td>\n",
       "      <td>0</td>\n",
       "      <td>0</td>\n",
       "      <td>0</td>\n",
       "      <td>...</td>\n",
       "      <td>1</td>\n",
       "      <td>0</td>\n",
       "      <td>0</td>\n",
       "      <td>0</td>\n",
       "      <td>0</td>\n",
       "      <td>0</td>\n",
       "      <td>0</td>\n",
       "      <td>0</td>\n",
       "      <td>0</td>\n",
       "      <td>0</td>\n",
       "    </tr>\n",
       "    <tr>\n",
       "      <th>4</th>\n",
       "      <td>153</td>\n",
       "      <td>2</td>\n",
       "      <td>3</td>\n",
       "      <td>0</td>\n",
       "      <td>0</td>\n",
       "      <td>0</td>\n",
       "      <td>0</td>\n",
       "      <td>0</td>\n",
       "      <td>0</td>\n",
       "      <td>0</td>\n",
       "      <td>...</td>\n",
       "      <td>0</td>\n",
       "      <td>0</td>\n",
       "      <td>0</td>\n",
       "      <td>0</td>\n",
       "      <td>0</td>\n",
       "      <td>0</td>\n",
       "      <td>0</td>\n",
       "      <td>0</td>\n",
       "      <td>0</td>\n",
       "      <td>0</td>\n",
       "    </tr>\n",
       "  </tbody>\n",
       "</table>\n",
       "<p>5 rows × 116 columns</p>\n",
       "</div>"
      ],
      "text/plain": [
       "   cluster_id  game_mode  game_type  hero_0  hero_1  hero_2  hero_3  hero_4  \\\n",
       "0         156          2          2       0       0       0      -1       0   \n",
       "1         204          2          2       0       0       0       0       1   \n",
       "2         227          8          3       0       0       0       0       0   \n",
       "3         153          2          3       0       0       0       0       0   \n",
       "4         153          2          3       0       0       0       0       0   \n",
       "\n",
       "   hero_5  hero_6  ...  hero_103  hero_104  hero_105  hero_106  hero_107  \\\n",
       "0       0       0  ...         1         1         0         0         0   \n",
       "1       0       0  ...         0         0         0         0         0   \n",
       "2       0       0  ...         1         0         0         0         0   \n",
       "3       0       0  ...         1         0         0         0         0   \n",
       "4       0       0  ...         0         0         0         0         0   \n",
       "\n",
       "   hero_108  hero_109  hero_110  hero_111  hero_112  \n",
       "0         0         0         0         0         0  \n",
       "1         0        -1         0         0         0  \n",
       "2         0         0         0         0         0  \n",
       "3         0         0         0         0         0  \n",
       "4         0         0         0         0         0  \n",
       "\n",
       "[5 rows x 116 columns]"
      ]
     },
     "execution_count": 40,
     "metadata": {},
     "output_type": "execute_result"
    }
   ],
   "source": [
    "# derrubo a coluna com os times vencedores e atribuo para y\n",
    "X = df.drop('winning_team', axis=1)\n",
    "y = df['winning_team'].values\n",
    "\n",
    "X.head()"
   ]
  },
  {
   "cell_type": "markdown",
   "id": "24d7dd60",
   "metadata": {},
   "source": [
    "# Realizando PCA\n",
    "Para diminuição de dimensionalidade foi aplicado o método PCA, utilizando o número de componentes (ou seja, a quantidade de colunas) como 2 (PC0, PC1)."
   ]
  },
  {
   "cell_type": "code",
   "execution_count": 41,
   "id": "0c65dee0-47db-43b3-a63d-15486acd785a",
   "metadata": {},
   "outputs": [
    {
     "data": {
      "text/html": [
       "<div>\n",
       "<style scoped>\n",
       "    .dataframe tbody tr th:only-of-type {\n",
       "        vertical-align: middle;\n",
       "    }\n",
       "\n",
       "    .dataframe tbody tr th {\n",
       "        vertical-align: top;\n",
       "    }\n",
       "\n",
       "    .dataframe thead th {\n",
       "        text-align: right;\n",
       "    }\n",
       "</style>\n",
       "<table border=\"1\" class=\"dataframe\">\n",
       "  <thead>\n",
       "    <tr style=\"text-align: right;\">\n",
       "      <th></th>\n",
       "      <th>PC0</th>\n",
       "      <th>PC1</th>\n",
       "    </tr>\n",
       "  </thead>\n",
       "  <tbody>\n",
       "    <tr>\n",
       "      <th>0</th>\n",
       "      <td>-20.229013</td>\n",
       "      <td>-1.061209</td>\n",
       "    </tr>\n",
       "    <tr>\n",
       "      <th>1</th>\n",
       "      <td>27.766559</td>\n",
       "      <td>-1.698290</td>\n",
       "    </tr>\n",
       "    <tr>\n",
       "      <th>2</th>\n",
       "      <td>50.844586</td>\n",
       "      <td>3.970736</td>\n",
       "    </tr>\n",
       "    <tr>\n",
       "      <th>3</th>\n",
       "      <td>-23.228815</td>\n",
       "      <td>-1.041301</td>\n",
       "    </tr>\n",
       "    <tr>\n",
       "      <th>4</th>\n",
       "      <td>-23.228674</td>\n",
       "      <td>-1.040402</td>\n",
       "    </tr>\n",
       "  </tbody>\n",
       "</table>\n",
       "</div>"
      ],
      "text/plain": [
       "         PC0       PC1\n",
       "0 -20.229013 -1.061209\n",
       "1  27.766559 -1.698290\n",
       "2  50.844586  3.970736\n",
       "3 -23.228815 -1.041301\n",
       "4 -23.228674 -1.040402"
      ]
     },
     "execution_count": 41,
     "metadata": {},
     "output_type": "execute_result"
    }
   ],
   "source": [
    "pca = PCA(n_components=2)\n",
    "\n",
    "pca.fit(X)\n",
    "\n",
    "\n",
    "X_pca = pca.transform(X)\n",
    "\n",
    "X_pca_df = pd.DataFrame(X_pca, columns=['PC0', 'PC1'])\n",
    "\n",
    "X_pca_df.head() "
   ]
  },
  {
   "cell_type": "markdown",
   "id": "77aac91c",
   "metadata": {},
   "source": [
    "# Visualizando espaço formado de características após realizar o PCA com duas dimensões"
   ]
  },
  {
   "cell_type": "code",
   "execution_count": 42,
   "id": "ec08e123-7856-42f3-97ef-09d801fc0e2f",
   "metadata": {},
   "outputs": [
    {
     "data": {
      "text/plain": [
       "<AxesSubplot:xlabel='PC0', ylabel='PC1'>"
      ]
     },
     "execution_count": 42,
     "metadata": {},
     "output_type": "execute_result"
    },
    {
     "data": {
      "image/png": "[encoded data removed]",
      "text/plain": [
       "<Figure size 432x288 with 1 Axes>"
      ]
     },
     "metadata": {
      "needs_background": "light"
     },
     "output_type": "display_data"
    }
   ],
   "source": [
    "sns.set_palette('seismic')\n",
    "sns.scatterplot(data=X_pca_df, x='PC0', y='PC1', hue=y, palette='Set1')"
   ]
  },
  {
   "cell_type": "markdown",
   "id": "2b2fab59",
   "metadata": {},
   "source": [
    "# Treina e Seleciona o melhor modelo\n",
    "Em seguida é possível observar as funções que são utilizadas para treinar os classificadores, especificamente para realizar o treinamento no segundo nível, o qual, para esta atividade, foi feito em 5 vias. Também é feito o uso do parâmetro scoring do módulo GridSearchCV para escolher a melhor métrica de desempenho (utilizando o weighted f1-score)."
   ]
  },
  {
   "cell_type": "code",
   "execution_count": 58,
   "id": "36e2d387-cffa-441a-a9fb-3c8790e7f5da",
   "metadata": {},
   "outputs": [],
   "source": [
    "def selecionar_melhor_modelo(classificador, X_treino, X_val, y_treino, \n",
    "                             y_val, n_jobs=4, \n",
    "                             cv_folds=None, params={}):\n",
    "    \n",
    "    def treinar_modelo(X_treino, X_val, y_treino, y_val, params):\n",
    "        clf = classificador(**params)\n",
    "        clf.fit(X_treino, y_treino)\n",
    "        pred = clf.predict(X_val)\n",
    "        \n",
    "        if len(set(y_treino)) > 2:\n",
    "            return f1_score(y_val, pred, average='weighted')\n",
    "        else:\n",
    "            return f1_score(y_val, pred)\n",
    "    \n",
    "    \n",
    "    if cv_folds is not None:\n",
    "        #Se for pra usar validação cruzada, usar GridSearchCV\n",
    "        score_fn = 'f1' if len(set(y_treino)) < 3 else 'f1_weighted'\n",
    "        \n",
    "        clf = GridSearchCV(classificador(), params, cv=cv_folds, n_jobs=n_jobs, scoring=score_fn)\n",
    "        #Passar todos os dados (Treino e Validação) para realizar a seleção dos parâmetros.\n",
    "        clf.fit(np.vstack((X_treino, X_val)), [*y_treino, *y_val])\n",
    "        \n",
    "        melhor_comb = clf.best_params_\n",
    "        melhor_val = clf.best_score_\n",
    "        \n",
    "    else:\n",
    "        param_grid = list(ParameterGrid(params))\n",
    "        \n",
    "        f1s_val = Parallel(n_jobs=n_jobs)(delayed(treinar_modelo)\n",
    "                                         (X_treino, X_val, y_treino, y_val, p) for p in param_grid)\n",
    "\n",
    "        melhor_val = max(f1s_val)\n",
    "        melhor_comb = param_grid[np.argmax(f1s_val)]\n",
    "        \n",
    "        clf = classificador(**melhor_comb)\n",
    "        \n",
    "        clf.fit(np.vstack((X_treino, X_val)), [*y_treino, *y_val])\n",
    "    \n",
    "    return clf, melhor_comb, melhor_val"
   ]
  },
  {
   "cell_type": "markdown",
   "id": "2732ae65",
   "metadata": {},
   "source": [
    "# Função Genérica para realizar Cross-Validation\n",
    "Abaixo foi utilizada uma função genérica para realizar o Cross-Validation, a qual permite passar por parâmetro o classificador que será utilizado, a quantidade de splits e folds, os parâmetros que serão otimizados e se deverá ser realizado ou não a normalização dos splits."
   ]
  },
  {
   "cell_type": "code",
   "execution_count": 44,
   "id": "81052a8e",
   "metadata": {},
   "outputs": [],
   "source": [
    "def do_cv(classificador, X, y, cv_splits, param_cv_folds=None, n_jobs=8, scale=False, imputer=None, dim_red=None, params={}):\n",
    "\n",
    "    skf = StratifiedKFold(n_splits=cv_splits, shuffle=True, random_state=1)\n",
    "\n",
    "    f1s = []\n",
    "    list_confusion_matrix = []\n",
    "    list_melhor_comb = []\n",
    "    \n",
    "    pgb = tqdm(total=cv_splits, desc='Folds avaliados')\n",
    "    \n",
    "    for treino_idx, teste_idx in skf.split(X, y):\n",
    "\n",
    "        if isinstance(X, pd.DataFrame):\n",
    "            X_treino = X.iloc[treino_idx]\n",
    "            X_teste = X.iloc[teste_idx]\n",
    "            \n",
    "            if imputer is not None:\n",
    "                X_treino = imputer.fit_transform(X_treino)\n",
    "                X_teste = imputer.transform(X_teste)\n",
    "            else:\n",
    "                X_treino = X_treino.values\n",
    "                X_teste = X_teste.values   \n",
    "            \n",
    "        else:\n",
    "            X_treino = X[treino_idx]\n",
    "            X_teste = X[teste_idx]\n",
    "            \n",
    "        y_treino = y[treino_idx]\n",
    "        y_teste = y[teste_idx]        \n",
    "\n",
    "        X_treino, X_val, y_treino, y_val = train_test_split(X_treino, y_treino, stratify=y_treino, test_size=0.2, random_state=1)\n",
    "        \n",
    "        if imputer is not None:\n",
    "            X_val = imputer.transform(pd.DataFrame(X_val, columns=X.columns))\n",
    "        \n",
    "        if scale:\n",
    "            ss = StandardScaler()\n",
    "            X_treino = ss.fit_transform(X_treino)\n",
    "            X_teste = ss.transform(X_teste)\n",
    "            X_val = ss.transform(X_val)\n",
    "            \n",
    "        if dim_red is not None:\n",
    "            X_treino = dim_red.fit_transform(X_treino)\n",
    "            X_teste = dim_red.transform(X_teste)\n",
    "            X_val = dim_red.transform(X_val)\n",
    "            \n",
    "        ad, melhor_comb, _ = selecionar_melhor_modelo(classificador, X_treino, X_val, y_treino, y_val, \n",
    "                                                      n_jobs=n_jobs, cv_folds=param_cv_folds, params=params)\n",
    "        pred = ad.predict(X_teste)\n",
    "\n",
    "        if len(set(y_treino)) > 2:\n",
    "            f1 = f1_score(y_teste, pred, average='weighted')\n",
    "        else:\n",
    "            f1 = f1_score(y_teste, pred)\n",
    "        f1s.append(f1)\n",
    "\n",
    "        print(f'{melhor_comb} -- F1-Score: {f1}')\n",
    "        list_melhor_comb.append(melhor_comb)\n",
    "\n",
    "        list_confusion_matrix.append(confusion_matrix(y_teste, pred))\n",
    "        \n",
    "        pgb.update(1)\n",
    "        \n",
    "    pgb.close()\n",
    "    \n",
    "    return f1s, list_confusion_matrix, list_melhor_comb"
   ]
  },
  {
   "cell_type": "markdown",
   "id": "74dd23c7",
   "metadata": {},
   "source": [
    "# KNN"
   ]
  },
  {
   "cell_type": "code",
   "execution_count": 45,
   "id": "fcfc633d",
   "metadata": {},
   "outputs": [
    {
     "data": {
      "application/vnd.jupyter.widget-view+json": {
       "model_id": "a4abeb460e7c4f60bdeefeaab44e8acf",
       "version_major": 2,
       "version_minor": 0
      },
      "text/plain": [
       "Folds avaliados:   0%|          | 0/10 [00:00<?, ?it/s]"
      ]
     },
     "metadata": {},
     "output_type": "display_data"
    },
    {
     "name": "stdout",
     "output_type": "stream",
     "text": [
      "{'n_neighbors': 25} -- F1-Score: 0.585603112840467\n",
      "{'n_neighbors': 29} -- F1-Score: 0.5791505791505791\n",
      "{'n_neighbors': 29} -- F1-Score: 0.6013071895424837\n",
      "{'n_neighbors': 29} -- F1-Score: 0.598690364826941\n",
      "{'n_neighbors': 29} -- F1-Score: 0.5736738703339882\n",
      "{'n_neighbors': 27} -- F1-Score: 0.5764362220058423\n",
      "{'n_neighbors': 25} -- F1-Score: 0.6101694915254237\n",
      "{'n_neighbors': 25} -- F1-Score: 0.5874524714828897\n",
      "{'n_neighbors': 27} -- F1-Score: 0.6065727699530518\n",
      "{'n_neighbors': 29} -- F1-Score: 0.5939629990262901\n"
     ]
    }
   ],
   "source": [
    "# Avaliando o desempenho do KNN\n",
    "result_classifiers ={}\n",
    "\n",
    "ks = list(range(1,30,2))\n",
    "# knn, list_confusion_matrix_knn, list_melhor_comb = do_cv(KNeighborsClassifier,X.values, y, 10, 5, 2, True, {'n_neighbors' : range(1,30,2)})\n",
    "knn, list_confusion_matrix_knn, list_melhor_comb = do_cv(KNeighborsClassifier, X, y, 10, 5, 8, False, None, None, {'n_neighbors' : ks})\n",
    "# (classificador, X, y, cv_splits, param_cv_folds=None, n_jobs=8, scale=False, imputer=None, dim_red=None, params={})\n",
    "\n",
    "result_classifiers['knn'] = knn"
   ]
  },
  {
   "cell_type": "markdown",
   "id": "0e20a543",
   "metadata": {},
   "source": [
    "# result_classifiers do KNN"
   ]
  },
  {
   "cell_type": "code",
   "execution_count": 46,
   "id": "011ce8f7",
   "metadata": {},
   "outputs": [
    {
     "name": "stdout",
     "output_type": "stream",
     "text": [
      "Resultados: 0.59 +- 0.01, min: 0.57, max: 0.61\n"
     ]
    }
   ],
   "source": [
    "utils.imprimir_estatisticas(knn)"
   ]
  },
  {
   "cell_type": "markdown",
   "id": "fe39822d",
   "metadata": {},
   "source": [
    "Realizo a visualização das somas das matrizes de confusão obtidas ao executar o KNN."
   ]
  },
  {
   "cell_type": "code",
   "execution_count": 47,
   "id": "cf1062c3",
   "metadata": {},
   "outputs": [
    {
     "data": {
      "text/plain": [
       "<sklearn.metrics._plot.confusion_matrix.ConfusionMatrixDisplay at 0x7fb67f509940>"
      ]
     },
     "execution_count": 47,
     "metadata": {},
     "output_type": "execute_result"
    },
    {
     "data": {
      "image/png": "[encoded data removed]",
      "text/plain": [
       "<Figure size 432x288 with 2 Axes>"
      ]
     },
     "metadata": {
      "needs_background": "light"
     },
     "output_type": "display_data"
    }
   ],
   "source": [
    "reduceMatrix = functools.reduce(lambda x,y :  x + y, list_confusion_matrix_knn)\n",
    "\n",
    "disp = ConfusionMatrixDisplay(confusion_matrix=reduceMatrix)\n",
    "disp.plot()"
   ]
  },
  {
   "cell_type": "markdown",
   "id": "e6e0e9e4",
   "metadata": {},
   "source": [
    "# SVM"
   ]
  },
  {
   "cell_type": "code",
   "execution_count": 48,
   "id": "4255bc09",
   "metadata": {},
   "outputs": [
    {
     "data": {
      "application/vnd.jupyter.widget-view+json": {
       "model_id": "76cea23757fa416bbca799b43a9de5c0",
       "version_major": 2,
       "version_minor": 0
      },
      "text/plain": [
       "Folds avaliados:   0%|          | 0/10 [00:00<?, ?it/s]"
      ]
     },
     "metadata": {},
     "output_type": "display_data"
    },
    {
     "name": "stdout",
     "output_type": "stream",
     "text": [
      "{'C': 1, 'gamma': 'scale', 'kernel': 'rbf'} -- F1-Score: 0.6897526501766785\n",
      "{'C': 1, 'gamma': 'scale', 'kernel': 'rbf'} -- F1-Score: 0.6897526501766785\n",
      "{'C': 1, 'gamma': 'scale', 'kernel': 'rbf'} -- F1-Score: 0.6897526501766785\n",
      "{'C': 1, 'gamma': 'scale', 'kernel': 'rbf'} -- F1-Score: 0.6897526501766785\n",
      "{'C': 1, 'gamma': 'scale', 'kernel': 'rbf'} -- F1-Score: 0.6902404526166902\n",
      "{'C': 1, 'gamma': 'scale', 'kernel': 'rbf'} -- F1-Score: 0.6902404526166902\n",
      "{'C': 1, 'gamma': 'scale', 'kernel': 'rbf'} -- F1-Score: 0.6902404526166902\n",
      "{'C': 1, 'gamma': 'scale', 'kernel': 'rbf'} -- F1-Score: 0.6902404526166902\n",
      "{'C': 1, 'gamma': 'scale', 'kernel': 'rbf'} -- F1-Score: 0.689313517338995\n",
      "{'C': 1, 'gamma': 'scale', 'kernel': 'rbf'} -- F1-Score: 0.689313517338995\n"
     ]
    }
   ],
   "source": [
    "# Avaliando o desempenho do SVM\n",
    "svm, list_confusion_matrix_svm, list_melhor_comb = do_cv(SVC,  X, y, 10, 5, 2, False, None, None, {'gamma' : ['auto', 'scale'],\n",
    "                'C' : [1, 10, 100, 1000], 'kernel': ['rbf']})\n",
    "\n",
    "result_classifiers['svm'] = svm"
   ]
  },
  {
   "cell_type": "markdown",
   "id": "27313044",
   "metadata": {},
   "source": [
    "# result_classifiers SVM"
   ]
  },
  {
   "cell_type": "code",
   "execution_count": 49,
   "id": "4e9f302d",
   "metadata": {},
   "outputs": [
    {
     "name": "stdout",
     "output_type": "stream",
     "text": [
      "Resultados: 0.69 +- 0.00, min: 0.69, max: 0.69\n"
     ]
    }
   ],
   "source": [
    "utils.imprimir_estatisticas(svm)"
   ]
  },
  {
   "cell_type": "markdown",
   "id": "0c3cb14f",
   "metadata": {},
   "source": [
    "Realizo a visualização das somas das matrizes de confusão obtidas ao executar o SVM."
   ]
  },
  {
   "cell_type": "code",
   "execution_count": 50,
   "id": "0c29c9a8",
   "metadata": {},
   "outputs": [
    {
     "data": {
      "text/plain": [
       "<sklearn.metrics._plot.confusion_matrix.ConfusionMatrixDisplay at 0x7fb67f58db50>"
      ]
     },
     "execution_count": 50,
     "metadata": {},
     "output_type": "execute_result"
    },
    {
     "data": {
      "image/png": "[encoded data removed]",
      "text/plain": [
       "<Figure size 432x288 with 2 Axes>"
      ]
     },
     "metadata": {
      "needs_background": "light"
     },
     "output_type": "display_data"
    }
   ],
   "source": [
    "reduce_matrix_svm = functools.reduce(lambda x,y :  x + y, list_confusion_matrix_svm)\n",
    "\n",
    "disp_svm = ConfusionMatrixDisplay(confusion_matrix=reduce_matrix_svm)\n",
    "disp_svm.plot()"
   ]
  },
  {
   "cell_type": "markdown",
   "id": "60cf8fde",
   "metadata": {},
   "source": [
    "# Random Forest"
   ]
  },
  {
   "cell_type": "code",
   "execution_count": 51,
   "id": "0696df23",
   "metadata": {},
   "outputs": [
    {
     "data": {
      "application/vnd.jupyter.widget-view+json": {
       "model_id": "c84e71cb92fa46b19ab2f7ccd80411f4",
       "version_major": 2,
       "version_minor": 0
      },
      "text/plain": [
       "Folds avaliados:   0%|          | 0/10 [00:00<?, ?it/s]"
      ]
     },
     "metadata": {},
     "output_type": "display_data"
    },
    {
     "name": "stdout",
     "output_type": "stream",
     "text": [
      "{'criterion': 'entropy', 'random_state': 1} -- F1-Score: 0.5994065281899109\n",
      "{'criterion': 'entropy', 'random_state': 1} -- F1-Score: 0.5703048180924287\n",
      "{'criterion': 'gini', 'random_state': 1} -- F1-Score: 0.6280373831775701\n",
      "{'criterion': 'entropy', 'random_state': 1} -- F1-Score: 0.5938104448742746\n",
      "{'criterion': 'gini', 'random_state': 1} -- F1-Score: 0.5984405458089669\n",
      "{'criterion': 'entropy', 'random_state': 1} -- F1-Score: 0.5688622754491018\n",
      "{'criterion': 'gini', 'random_state': 1} -- F1-Score: 0.5880077369439072\n",
      "{'criterion': 'entropy', 'random_state': 1} -- F1-Score: 0.6048780487804878\n",
      "{'criterion': 'gini', 'random_state': 1} -- F1-Score: 0.6165703275529866\n",
      "{'criterion': 'entropy', 'random_state': 1} -- F1-Score: 0.5824493731918997\n"
     ]
    }
   ],
   "source": [
    "# Avaliando o desempenho do Random Forest\n",
    "random_forest, list_confusion_matrix_rf, list_melhor_comb = do_cv(RandomForestClassifier, X, y, 10, 5, 2, False, None, None, {'criterion' : ['gini', 'entropy'], 'random_state' : [1]})\n",
    "result_classifiers['randomFor'] = random_forest"
   ]
  },
  {
   "cell_type": "code",
   "execution_count": 52,
   "id": "c25241b3",
   "metadata": {},
   "outputs": [
    {
     "name": "stdout",
     "output_type": "stream",
     "text": [
      "Resultados: 0.60 +- 0.02, min: 0.57, max: 0.63\n"
     ]
    }
   ],
   "source": [
    "utils.imprimir_estatisticas(random_forest)"
   ]
  },
  {
   "cell_type": "markdown",
   "id": "ad781beb",
   "metadata": {},
   "source": [
    "Realizo a visualização das somas das matrizes de confusão obtidas ao executar o Random Forest."
   ]
  },
  {
   "cell_type": "code",
   "execution_count": 53,
   "id": "3c396190",
   "metadata": {},
   "outputs": [
    {
     "data": {
      "text/plain": [
       "<sklearn.metrics._plot.confusion_matrix.ConfusionMatrixDisplay at 0x7fb67f5da460>"
      ]
     },
     "execution_count": 53,
     "metadata": {},
     "output_type": "execute_result"
    },
    {
     "data": {
      "image/png": "[encoded data removed]",
      "text/plain": [
       "<Figure size 432x288 with 2 Axes>"
      ]
     },
     "metadata": {
      "needs_background": "light"
     },
     "output_type": "display_data"
    }
   ],
   "source": [
    "reduce_matrix_rf = functools.reduce(lambda x,y :  x + y, list_confusion_matrix_rf)\n",
    "\n",
    "disp_rf = ConfusionMatrixDisplay(confusion_matrix=reduce_matrix_rf)\n",
    "disp_rf.plot()"
   ]
  },
  {
   "cell_type": "markdown",
   "id": "5dddef83",
   "metadata": {},
   "source": [
    "# Testando KNN, SVM e Random Forest com PCA (2, 8, 16, 32 e 64 dimensões)"
   ]
  },
  {
   "cell_type": "markdown",
   "id": "e4dc41d4",
   "metadata": {},
   "source": [
    "Testa para todos os classificador utilizando diferentes valores para o tamanho da dimensão no PCA. Neste caso serão testados 5 valores de dimensões diferentes, sendo eles: 2 dimensões, 8, 16, 32 e 64 dimensões."
   ]
  },
  {
   "cell_type": "code",
   "execution_count": 57,
   "id": "e65adc21",
   "metadata": {},
   "outputs": [
    {
     "name": "stdout",
     "output_type": "stream",
     "text": [
      "2\n"
     ]
    },
    {
     "data": {
      "application/vnd.jupyter.widget-view+json": {
       "model_id": "2794e65ab20c4b2fbd8bb3c36cabb1b4",
       "version_major": 2,
       "version_minor": 0
      },
      "text/plain": [
       "Folds avaliados:   0%|          | 0/10 [00:00<?, ?it/s]"
      ]
     },
     "metadata": {},
     "output_type": "display_data"
    },
    {
     "ename": "ValueError",
     "evalue": "Shape of passed values is (1668, 2), indices imply (1668, 116)",
     "output_type": "error",
     "traceback": [
      "\u001b[0;31m---------------------------------------------------------------------------\u001b[0m",
      "\u001b[0;31mValueError\u001b[0m                                Traceback (most recent call last)",
      "\u001b[1;32m/home/juan_rangel/Documentos/MachineLearning/Atividade-6/atividade_6.ipynb Cell 36'\u001b[0m in \u001b[0;36m<cell line: 11>\u001b[0;34m()\u001b[0m\n\u001b[1;32m     <a href='vscode-notebook-cell://wsl%2Bubuntu/home/juan_rangel/Documentos/MachineLearning/Atividade-6/atividade_6.ipynb#ch0000033vscode-remote?line=12'>13</a>\u001b[0m \u001b[39mprint\u001b[39m(dimension)\n\u001b[1;32m     <a href='vscode-notebook-cell://wsl%2Bubuntu/home/juan_rangel/Documentos/MachineLearning/Atividade-6/atividade_6.ipynb#ch0000033vscode-remote?line=13'>14</a>\u001b[0m \u001b[39mfor\u001b[39;00m name_classifier, classifier_class, scale, params \u001b[39min\u001b[39;00m classifiers:\n\u001b[1;32m     <a href='vscode-notebook-cell://wsl%2Bubuntu/home/juan_rangel/Documentos/MachineLearning/Atividade-6/atividade_6.ipynb#ch0000033vscode-remote?line=14'>15</a>\u001b[0m     \u001b[39m# X.values, y, 10, 5, 2, False, None, None, \u001b[39;00m\n\u001b[0;32m---> <a href='vscode-notebook-cell://wsl%2Bubuntu/home/juan_rangel/Documentos/MachineLearning/Atividade-6/atividade_6.ipynb#ch0000033vscode-remote?line=15'>16</a>\u001b[0m     result \u001b[39m=\u001b[39m do_cv(classifier_class, X, y, \u001b[39m10\u001b[39;49m, \u001b[39m5\u001b[39;49m, \u001b[39m2\u001b[39;49m, scale, pca, params)\n\u001b[1;32m     <a href='vscode-notebook-cell://wsl%2Bubuntu/home/juan_rangel/Documentos/MachineLearning/Atividade-6/atividade_6.ipynb#ch0000033vscode-remote?line=16'>17</a>\u001b[0m     result_classifiers[name_classifier \u001b[39m+\u001b[39m \u001b[39m'\u001b[39m\u001b[39m_\u001b[39m\u001b[39m'\u001b[39m \u001b[39m+\u001b[39m \u001b[39mstr\u001b[39m(dimension)] \u001b[39m=\u001b[39m result\n",
      "\u001b[1;32m/home/juan_rangel/Documentos/MachineLearning/Atividade-6/atividade_6.ipynb Cell 15'\u001b[0m in \u001b[0;36mdo_cv\u001b[0;34m(classificador, X, y, cv_splits, param_cv_folds, n_jobs, scale, imputer, dim_red, params)\u001b[0m\n\u001b[1;32m     <a href='vscode-notebook-cell://wsl%2Bubuntu/home/juan_rangel/Documentos/MachineLearning/Atividade-6/atividade_6.ipynb#ch0000013vscode-remote?line=30'>31</a>\u001b[0m X_treino, X_val, y_treino, y_val \u001b[39m=\u001b[39m train_test_split(X_treino, y_treino, stratify\u001b[39m=\u001b[39my_treino, test_size\u001b[39m=\u001b[39m\u001b[39m0.2\u001b[39m, random_state\u001b[39m=\u001b[39m\u001b[39m1\u001b[39m)\n\u001b[1;32m     <a href='vscode-notebook-cell://wsl%2Bubuntu/home/juan_rangel/Documentos/MachineLearning/Atividade-6/atividade_6.ipynb#ch0000013vscode-remote?line=32'>33</a>\u001b[0m \u001b[39mif\u001b[39;00m imputer \u001b[39mis\u001b[39;00m \u001b[39mnot\u001b[39;00m \u001b[39mNone\u001b[39;00m:\n\u001b[0;32m---> <a href='vscode-notebook-cell://wsl%2Bubuntu/home/juan_rangel/Documentos/MachineLearning/Atividade-6/atividade_6.ipynb#ch0000013vscode-remote?line=33'>34</a>\u001b[0m     X_val \u001b[39m=\u001b[39m imputer\u001b[39m.\u001b[39mtransform(pd\u001b[39m.\u001b[39;49mDataFrame(X_val, columns\u001b[39m=\u001b[39;49mX\u001b[39m.\u001b[39;49mcolumns))\n\u001b[1;32m     <a href='vscode-notebook-cell://wsl%2Bubuntu/home/juan_rangel/Documentos/MachineLearning/Atividade-6/atividade_6.ipynb#ch0000013vscode-remote?line=35'>36</a>\u001b[0m \u001b[39mif\u001b[39;00m scale:\n\u001b[1;32m     <a href='vscode-notebook-cell://wsl%2Bubuntu/home/juan_rangel/Documentos/MachineLearning/Atividade-6/atividade_6.ipynb#ch0000013vscode-remote?line=36'>37</a>\u001b[0m     ss \u001b[39m=\u001b[39m StandardScaler()\n",
      "File \u001b[0;32m~/.local/lib/python3.8/site-packages/pandas/core/frame.py:694\u001b[0m, in \u001b[0;36mDataFrame.__init__\u001b[0;34m(self, data, index, columns, dtype, copy)\u001b[0m\n\u001b[1;32m    684\u001b[0m         mgr \u001b[39m=\u001b[39m dict_to_mgr(\n\u001b[1;32m    685\u001b[0m             \u001b[39m# error: Item \"ndarray\" of \"Union[ndarray, Series, Index]\" has no\u001b[39;00m\n\u001b[1;32m    686\u001b[0m             \u001b[39m# attribute \"name\"\u001b[39;00m\n\u001b[0;32m   (...)\u001b[0m\n\u001b[1;32m    691\u001b[0m             typ\u001b[39m=\u001b[39mmanager,\n\u001b[1;32m    692\u001b[0m         )\n\u001b[1;32m    693\u001b[0m     \u001b[39melse\u001b[39;00m:\n\u001b[0;32m--> 694\u001b[0m         mgr \u001b[39m=\u001b[39m ndarray_to_mgr(\n\u001b[1;32m    695\u001b[0m             data,\n\u001b[1;32m    696\u001b[0m             index,\n\u001b[1;32m    697\u001b[0m             columns,\n\u001b[1;32m    698\u001b[0m             dtype\u001b[39m=\u001b[39;49mdtype,\n\u001b[1;32m    699\u001b[0m             copy\u001b[39m=\u001b[39;49mcopy,\n\u001b[1;32m    700\u001b[0m             typ\u001b[39m=\u001b[39;49mmanager,\n\u001b[1;32m    701\u001b[0m         )\n\u001b[1;32m    703\u001b[0m \u001b[39m# For data is list-like, or Iterable (will consume into list)\u001b[39;00m\n\u001b[1;32m    704\u001b[0m \u001b[39melif\u001b[39;00m is_list_like(data):\n",
      "File \u001b[0;32m~/.local/lib/python3.8/site-packages/pandas/core/internals/construction.py:351\u001b[0m, in \u001b[0;36mndarray_to_mgr\u001b[0;34m(values, index, columns, dtype, copy, typ)\u001b[0m\n\u001b[1;32m    346\u001b[0m \u001b[39m# _prep_ndarray ensures that values.ndim == 2 at this point\u001b[39;00m\n\u001b[1;32m    347\u001b[0m index, columns \u001b[39m=\u001b[39m _get_axes(\n\u001b[1;32m    348\u001b[0m     values\u001b[39m.\u001b[39mshape[\u001b[39m0\u001b[39m], values\u001b[39m.\u001b[39mshape[\u001b[39m1\u001b[39m], index\u001b[39m=\u001b[39mindex, columns\u001b[39m=\u001b[39mcolumns\n\u001b[1;32m    349\u001b[0m )\n\u001b[0;32m--> 351\u001b[0m _check_values_indices_shape_match(values, index, columns)\n\u001b[1;32m    353\u001b[0m \u001b[39mif\u001b[39;00m typ \u001b[39m==\u001b[39m \u001b[39m\"\u001b[39m\u001b[39marray\u001b[39m\u001b[39m\"\u001b[39m:\n\u001b[1;32m    355\u001b[0m     \u001b[39mif\u001b[39;00m \u001b[39missubclass\u001b[39m(values\u001b[39m.\u001b[39mdtype\u001b[39m.\u001b[39mtype, \u001b[39mstr\u001b[39m):\n",
      "File \u001b[0;32m~/.local/lib/python3.8/site-packages/pandas/core/internals/construction.py:422\u001b[0m, in \u001b[0;36m_check_values_indices_shape_match\u001b[0;34m(values, index, columns)\u001b[0m\n\u001b[1;32m    420\u001b[0m passed \u001b[39m=\u001b[39m values\u001b[39m.\u001b[39mshape\n\u001b[1;32m    421\u001b[0m implied \u001b[39m=\u001b[39m (\u001b[39mlen\u001b[39m(index), \u001b[39mlen\u001b[39m(columns))\n\u001b[0;32m--> 422\u001b[0m \u001b[39mraise\u001b[39;00m \u001b[39mValueError\u001b[39;00m(\u001b[39mf\u001b[39m\u001b[39m\"\u001b[39m\u001b[39mShape of passed values is \u001b[39m\u001b[39m{\u001b[39;00mpassed\u001b[39m}\u001b[39;00m\u001b[39m, indices imply \u001b[39m\u001b[39m{\u001b[39;00mimplied\u001b[39m}\u001b[39;00m\u001b[39m\"\u001b[39m)\n",
      "\u001b[0;31mValueError\u001b[0m: Shape of passed values is (1668, 2), indices imply (1668, 116)"
     ]
    }
   ],
   "source": [
    "qtd_dimensions_pca = [2,8,16,32,64]\n",
    "\n",
    "knn_classifier = ('knn', KNeighborsClassifier, True, {'n_neighbors' : range(1,30,2)})\n",
    "\n",
    "svm_classifier = ('svm', SVC, True, {'C' : [1, 10, 100, 1000], 'gamma' : ['auto', 'scale']})\n",
    "\n",
    "random_forest = ('rf', RandomForestClassifier, False, {'criterion' : ['gini', 'entropy'], 'random_state' : [1]})\n",
    "\n",
    "classifiers = [knn_classifier, svm_classifier, random_forest]\n",
    "\n",
    "for dimension in qtd_dimensions_pca:\n",
    "    pca = PCA(n_components=dimension)\n",
    "    print(dimension)\n",
    "    for name_classifier, classifier_class, scale, params in classifiers:\n",
    "        # X.values, y, 10, 5, 2, False, None, None, \n",
    "        result = do_cv(classifier_class, X, y, 10, 5, 2, scale, None, pca, params)\n",
    "        result_classifiers[name_classifier + '_' + str(dimension)] = result\n"
   ]
  },
  {
   "cell_type": "markdown",
   "id": "4312431b",
   "metadata": {},
   "source": [
    "# Resultados de todos os testes\n",
    "Imprime os resultados de todos os testes realizados."
   ]
  },
  {
   "cell_type": "code",
   "execution_count": null,
   "id": "9a0e0691",
   "metadata": {},
   "outputs": [],
   "source": [
    "for result in sorted(result_classifiers):\n",
    "    print(result.rjust(10, end= ' - '))\n",
    "    utils.imprimir_estatisticas(result_classifiers[result])"
   ]
  },
  {
   "cell_type": "markdown",
   "id": "efe0c98d",
   "metadata": {},
   "source": [
    "# Teste-T\n",
    "Realiza o teste-t entre todos os resultados obtidos com e sem redução de dimensionalidade."
   ]
  },
  {
   "cell_type": "code",
   "execution_count": null,
   "id": "d9ebd637",
   "metadata": {},
   "outputs": [],
   "source": [
    "utils.print_t_tests(result_classifiers, cols=['knn', 'rf', 'svm'])"
   ]
  },
  {
   "cell_type": "markdown",
   "id": "294ea503",
   "metadata": {},
   "source": [
    "# Discussão dos result_classifiers"
   ]
  },
  {
   "cell_type": "markdown",
   "id": "18acbf4a",
   "metadata": {},
   "source": [
    "OBS: Resultados ainda serão adicionados"
   ]
  }
 ],
 "metadata": {
  "kernelspec": {
   "display_name": "Python 3.8.10 64-bit",
   "language": "python",
   "name": "python3"
  },
  "language_info": {
   "codemirror_mode": {
    "name": "ipython",
    "version": 3
   },
   "file_extension": ".py",
   "mimetype": "text/x-python",
   "name": "python",
   "nbconvert_exporter": "python",
   "pygments_lexer": "ipython3",
   "version": "3.8.10"
  },
  "vscode": {
   "interpreter": {
    "hash": "916dbcbb3f70747c44a77c7bcd40155683ae19c65e1c03b4aa3499c5328201f1"
   }
  }
 },
 "nbformat": 4,
 "nbformat_minor": 5
}
