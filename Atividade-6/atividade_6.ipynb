{
 "cells": [
  {
   "cell_type": "markdown",
   "id": "70c98eed",
   "metadata": {},
   "source": [
    "# Atividade 6 - Redução de Dimensionalidade para Classificação via PCA\n",
    "\n",
    "Nome: Juan Felipe Da Silva Rangel\n",
    "\n",
    "O objetivo desta atividade é explorar o dataset 'dota2DatasetTrain_header_01.csv', que contém 9264 partidas de Dota 2, nas quais os heróis que participaram de um time são atribuídos os valores 1, e os do time contrário, o valor -1, além também do resultado da partida.\n",
    " Nesta atividade devemos utilizar classificadores SVM, KNN e RandomForest para predizer qual dos dois times seria o vencedor. Como a maioria dos dados são zeros, dizemos que esse é um dataset esparço. Será necessário então testar os classificadores acimas, otimizando os hiperparâmetros que já foram vistos, sem realizar a diminuição de dimensionalidade e realizando o PCA, comparando em seguida os resultados obtidos."
   ]
  },
  {
   "cell_type": "code",
   "execution_count": 46,
   "id": "8c865c0a",
   "metadata": {},
   "outputs": [],
   "source": [
    "import pandas as pd\n",
    "import numpy as np\n",
    "import functools\n",
    "import seaborn as sns\n",
    "\n",
    "import utils\n",
    "from sklearn.model_selection import GridSearchCV, ParameterGrid\n",
    "from sklearn.model_selection import train_test_split, StratifiedKFold\n",
    "from sklearn.metrics import f1_score, confusion_matrix, ConfusionMatrixDisplay\n",
    "\n",
    "from tqdm.notebook import tqdm\n",
    "\n",
    "from sklearn.preprocessing import StandardScaler\n",
    "from sklearn.svm import SVC\n",
    "from sklearn.neighbors import KNeighborsClassifier\n",
    "from sklearn.ensemble import RandomForestClassifier\n",
    "from sklearn.decomposition import PCA\n",
    "import functools\n",
    "\n",
    "from joblib import Parallel, delayed\n"
   ]
  },
  {
   "cell_type": "markdown",
   "id": "c477cfc3",
   "metadata": {},
   "source": [
    "# Carregando Dataset Video_game_esrb_rating.csv"
   ]
  },
  {
   "cell_type": "code",
   "execution_count": 3,
   "id": "0f35fc22",
   "metadata": {},
   "outputs": [
    {
     "data": {
      "text/html": [
       "<div>\n",
       "<style scoped>\n",
       "    .dataframe tbody tr th:only-of-type {\n",
       "        vertical-align: middle;\n",
       "    }\n",
       "\n",
       "    .dataframe tbody tr th {\n",
       "        vertical-align: top;\n",
       "    }\n",
       "\n",
       "    .dataframe thead th {\n",
       "        text-align: right;\n",
       "    }\n",
       "</style>\n",
       "<table border=\"1\" class=\"dataframe\">\n",
       "  <thead>\n",
       "    <tr style=\"text-align: right;\">\n",
       "      <th></th>\n",
       "      <th>cluster_id</th>\n",
       "      <th>game_mode</th>\n",
       "      <th>game_type</th>\n",
       "      <th>hero_0</th>\n",
       "      <th>hero_1</th>\n",
       "      <th>hero_2</th>\n",
       "      <th>hero_3</th>\n",
       "      <th>hero_4</th>\n",
       "      <th>hero_5</th>\n",
       "      <th>hero_6</th>\n",
       "      <th>...</th>\n",
       "      <th>hero_104</th>\n",
       "      <th>hero_105</th>\n",
       "      <th>hero_106</th>\n",
       "      <th>hero_107</th>\n",
       "      <th>hero_108</th>\n",
       "      <th>hero_109</th>\n",
       "      <th>hero_110</th>\n",
       "      <th>hero_111</th>\n",
       "      <th>hero_112</th>\n",
       "      <th>winning_team</th>\n",
       "    </tr>\n",
       "  </thead>\n",
       "  <tbody>\n",
       "    <tr>\n",
       "      <th>9259</th>\n",
       "      <td>223</td>\n",
       "      <td>2</td>\n",
       "      <td>2</td>\n",
       "      <td>0</td>\n",
       "      <td>0</td>\n",
       "      <td>0</td>\n",
       "      <td>0</td>\n",
       "      <td>1</td>\n",
       "      <td>0</td>\n",
       "      <td>0</td>\n",
       "      <td>...</td>\n",
       "      <td>0</td>\n",
       "      <td>0</td>\n",
       "      <td>0</td>\n",
       "      <td>0</td>\n",
       "      <td>0</td>\n",
       "      <td>0</td>\n",
       "      <td>0</td>\n",
       "      <td>1</td>\n",
       "      <td>0</td>\n",
       "      <td>-1</td>\n",
       "    </tr>\n",
       "    <tr>\n",
       "      <th>9260</th>\n",
       "      <td>225</td>\n",
       "      <td>2</td>\n",
       "      <td>2</td>\n",
       "      <td>0</td>\n",
       "      <td>0</td>\n",
       "      <td>0</td>\n",
       "      <td>0</td>\n",
       "      <td>0</td>\n",
       "      <td>-1</td>\n",
       "      <td>0</td>\n",
       "      <td>...</td>\n",
       "      <td>0</td>\n",
       "      <td>0</td>\n",
       "      <td>-1</td>\n",
       "      <td>0</td>\n",
       "      <td>0</td>\n",
       "      <td>0</td>\n",
       "      <td>0</td>\n",
       "      <td>0</td>\n",
       "      <td>0</td>\n",
       "      <td>1</td>\n",
       "    </tr>\n",
       "    <tr>\n",
       "      <th>9261</th>\n",
       "      <td>227</td>\n",
       "      <td>2</td>\n",
       "      <td>2</td>\n",
       "      <td>0</td>\n",
       "      <td>0</td>\n",
       "      <td>0</td>\n",
       "      <td>0</td>\n",
       "      <td>0</td>\n",
       "      <td>1</td>\n",
       "      <td>-1</td>\n",
       "      <td>...</td>\n",
       "      <td>0</td>\n",
       "      <td>0</td>\n",
       "      <td>0</td>\n",
       "      <td>0</td>\n",
       "      <td>0</td>\n",
       "      <td>1</td>\n",
       "      <td>0</td>\n",
       "      <td>0</td>\n",
       "      <td>0</td>\n",
       "      <td>1</td>\n",
       "    </tr>\n",
       "    <tr>\n",
       "      <th>9262</th>\n",
       "      <td>156</td>\n",
       "      <td>2</td>\n",
       "      <td>3</td>\n",
       "      <td>-1</td>\n",
       "      <td>-1</td>\n",
       "      <td>0</td>\n",
       "      <td>0</td>\n",
       "      <td>0</td>\n",
       "      <td>1</td>\n",
       "      <td>0</td>\n",
       "      <td>...</td>\n",
       "      <td>0</td>\n",
       "      <td>0</td>\n",
       "      <td>0</td>\n",
       "      <td>0</td>\n",
       "      <td>0</td>\n",
       "      <td>0</td>\n",
       "      <td>0</td>\n",
       "      <td>0</td>\n",
       "      <td>0</td>\n",
       "      <td>1</td>\n",
       "    </tr>\n",
       "    <tr>\n",
       "      <th>9263</th>\n",
       "      <td>138</td>\n",
       "      <td>2</td>\n",
       "      <td>3</td>\n",
       "      <td>0</td>\n",
       "      <td>0</td>\n",
       "      <td>0</td>\n",
       "      <td>0</td>\n",
       "      <td>0</td>\n",
       "      <td>0</td>\n",
       "      <td>0</td>\n",
       "      <td>...</td>\n",
       "      <td>0</td>\n",
       "      <td>0</td>\n",
       "      <td>0</td>\n",
       "      <td>0</td>\n",
       "      <td>0</td>\n",
       "      <td>0</td>\n",
       "      <td>0</td>\n",
       "      <td>0</td>\n",
       "      <td>0</td>\n",
       "      <td>1</td>\n",
       "    </tr>\n",
       "  </tbody>\n",
       "</table>\n",
       "<p>5 rows × 117 columns</p>\n",
       "</div>"
      ],
      "text/plain": [
       "      cluster_id  game_mode  game_type  hero_0  hero_1  hero_2  hero_3  \\\n",
       "9259         223          2          2       0       0       0       0   \n",
       "9260         225          2          2       0       0       0       0   \n",
       "9261         227          2          2       0       0       0       0   \n",
       "9262         156          2          3      -1      -1       0       0   \n",
       "9263         138          2          3       0       0       0       0   \n",
       "\n",
       "      hero_4  hero_5  hero_6  ...  hero_104  hero_105  hero_106  hero_107  \\\n",
       "9259       1       0       0  ...         0         0         0         0   \n",
       "9260       0      -1       0  ...         0         0        -1         0   \n",
       "9261       0       1      -1  ...         0         0         0         0   \n",
       "9262       0       1       0  ...         0         0         0         0   \n",
       "9263       0       0       0  ...         0         0         0         0   \n",
       "\n",
       "      hero_108  hero_109  hero_110  hero_111  hero_112  winning_team  \n",
       "9259         0         0         0         1         0            -1  \n",
       "9260         0         0         0         0         0             1  \n",
       "9261         0         1         0         0         0             1  \n",
       "9262         0         0         0         0         0             1  \n",
       "9263         0         0         0         0         0             1  \n",
       "\n",
       "[5 rows x 117 columns]"
      ]
     },
     "execution_count": 3,
     "metadata": {},
     "output_type": "execute_result"
    }
   ],
   "source": [
    "df = pd.read_csv('dota2DatasetTrain_header_01.csv')\n",
    "df.tail()"
   ]
  },
  {
   "cell_type": "markdown",
   "id": "08381ce1",
   "metadata": {},
   "source": [
    "Abaixo separei as classes e seus atributos para que seja possível então realizar o PCA para essa base de dados."
   ]
  },
  {
   "cell_type": "code",
   "execution_count": 4,
   "id": "1ac99285-ae46-4e09-b7ba-03cb8e888440",
   "metadata": {},
   "outputs": [
    {
     "data": {
      "text/html": [
       "<div>\n",
       "<style scoped>\n",
       "    .dataframe tbody tr th:only-of-type {\n",
       "        vertical-align: middle;\n",
       "    }\n",
       "\n",
       "    .dataframe tbody tr th {\n",
       "        vertical-align: top;\n",
       "    }\n",
       "\n",
       "    .dataframe thead th {\n",
       "        text-align: right;\n",
       "    }\n",
       "</style>\n",
       "<table border=\"1\" class=\"dataframe\">\n",
       "  <thead>\n",
       "    <tr style=\"text-align: right;\">\n",
       "      <th></th>\n",
       "      <th>cluster_id</th>\n",
       "      <th>game_mode</th>\n",
       "      <th>game_type</th>\n",
       "      <th>hero_0</th>\n",
       "      <th>hero_1</th>\n",
       "      <th>hero_2</th>\n",
       "      <th>hero_3</th>\n",
       "      <th>hero_4</th>\n",
       "      <th>hero_5</th>\n",
       "      <th>hero_6</th>\n",
       "      <th>...</th>\n",
       "      <th>hero_103</th>\n",
       "      <th>hero_104</th>\n",
       "      <th>hero_105</th>\n",
       "      <th>hero_106</th>\n",
       "      <th>hero_107</th>\n",
       "      <th>hero_108</th>\n",
       "      <th>hero_109</th>\n",
       "      <th>hero_110</th>\n",
       "      <th>hero_111</th>\n",
       "      <th>hero_112</th>\n",
       "    </tr>\n",
       "  </thead>\n",
       "  <tbody>\n",
       "    <tr>\n",
       "      <th>0</th>\n",
       "      <td>156</td>\n",
       "      <td>2</td>\n",
       "      <td>2</td>\n",
       "      <td>0</td>\n",
       "      <td>0</td>\n",
       "      <td>0</td>\n",
       "      <td>-1</td>\n",
       "      <td>0</td>\n",
       "      <td>0</td>\n",
       "      <td>0</td>\n",
       "      <td>...</td>\n",
       "      <td>1</td>\n",
       "      <td>1</td>\n",
       "      <td>0</td>\n",
       "      <td>0</td>\n",
       "      <td>0</td>\n",
       "      <td>0</td>\n",
       "      <td>0</td>\n",
       "      <td>0</td>\n",
       "      <td>0</td>\n",
       "      <td>0</td>\n",
       "    </tr>\n",
       "    <tr>\n",
       "      <th>1</th>\n",
       "      <td>204</td>\n",
       "      <td>2</td>\n",
       "      <td>2</td>\n",
       "      <td>0</td>\n",
       "      <td>0</td>\n",
       "      <td>0</td>\n",
       "      <td>0</td>\n",
       "      <td>1</td>\n",
       "      <td>0</td>\n",
       "      <td>0</td>\n",
       "      <td>...</td>\n",
       "      <td>0</td>\n",
       "      <td>0</td>\n",
       "      <td>0</td>\n",
       "      <td>0</td>\n",
       "      <td>0</td>\n",
       "      <td>0</td>\n",
       "      <td>-1</td>\n",
       "      <td>0</td>\n",
       "      <td>0</td>\n",
       "      <td>0</td>\n",
       "    </tr>\n",
       "    <tr>\n",
       "      <th>2</th>\n",
       "      <td>227</td>\n",
       "      <td>8</td>\n",
       "      <td>3</td>\n",
       "      <td>0</td>\n",
       "      <td>0</td>\n",
       "      <td>0</td>\n",
       "      <td>0</td>\n",
       "      <td>0</td>\n",
       "      <td>0</td>\n",
       "      <td>0</td>\n",
       "      <td>...</td>\n",
       "      <td>1</td>\n",
       "      <td>0</td>\n",
       "      <td>0</td>\n",
       "      <td>0</td>\n",
       "      <td>0</td>\n",
       "      <td>0</td>\n",
       "      <td>0</td>\n",
       "      <td>0</td>\n",
       "      <td>0</td>\n",
       "      <td>0</td>\n",
       "    </tr>\n",
       "    <tr>\n",
       "      <th>3</th>\n",
       "      <td>153</td>\n",
       "      <td>2</td>\n",
       "      <td>3</td>\n",
       "      <td>0</td>\n",
       "      <td>0</td>\n",
       "      <td>0</td>\n",
       "      <td>0</td>\n",
       "      <td>0</td>\n",
       "      <td>0</td>\n",
       "      <td>0</td>\n",
       "      <td>...</td>\n",
       "      <td>1</td>\n",
       "      <td>0</td>\n",
       "      <td>0</td>\n",
       "      <td>0</td>\n",
       "      <td>0</td>\n",
       "      <td>0</td>\n",
       "      <td>0</td>\n",
       "      <td>0</td>\n",
       "      <td>0</td>\n",
       "      <td>0</td>\n",
       "    </tr>\n",
       "    <tr>\n",
       "      <th>4</th>\n",
       "      <td>153</td>\n",
       "      <td>2</td>\n",
       "      <td>3</td>\n",
       "      <td>0</td>\n",
       "      <td>0</td>\n",
       "      <td>0</td>\n",
       "      <td>0</td>\n",
       "      <td>0</td>\n",
       "      <td>0</td>\n",
       "      <td>0</td>\n",
       "      <td>...</td>\n",
       "      <td>0</td>\n",
       "      <td>0</td>\n",
       "      <td>0</td>\n",
       "      <td>0</td>\n",
       "      <td>0</td>\n",
       "      <td>0</td>\n",
       "      <td>0</td>\n",
       "      <td>0</td>\n",
       "      <td>0</td>\n",
       "      <td>0</td>\n",
       "    </tr>\n",
       "  </tbody>\n",
       "</table>\n",
       "<p>5 rows × 116 columns</p>\n",
       "</div>"
      ],
      "text/plain": [
       "   cluster_id  game_mode  game_type  hero_0  hero_1  hero_2  hero_3  hero_4  \\\n",
       "0         156          2          2       0       0       0      -1       0   \n",
       "1         204          2          2       0       0       0       0       1   \n",
       "2         227          8          3       0       0       0       0       0   \n",
       "3         153          2          3       0       0       0       0       0   \n",
       "4         153          2          3       0       0       0       0       0   \n",
       "\n",
       "   hero_5  hero_6  ...  hero_103  hero_104  hero_105  hero_106  hero_107  \\\n",
       "0       0       0  ...         1         1         0         0         0   \n",
       "1       0       0  ...         0         0         0         0         0   \n",
       "2       0       0  ...         1         0         0         0         0   \n",
       "3       0       0  ...         1         0         0         0         0   \n",
       "4       0       0  ...         0         0         0         0         0   \n",
       "\n",
       "   hero_108  hero_109  hero_110  hero_111  hero_112  \n",
       "0         0         0         0         0         0  \n",
       "1         0        -1         0         0         0  \n",
       "2         0         0         0         0         0  \n",
       "3         0         0         0         0         0  \n",
       "4         0         0         0         0         0  \n",
       "\n",
       "[5 rows x 116 columns]"
      ]
     },
     "execution_count": 4,
     "metadata": {},
     "output_type": "execute_result"
    }
   ],
   "source": [
    "# derrubo a coluna com os times vencedores e atribuo para y\n",
    "X = df.drop('winning_team', axis=1)\n",
    "y = df['winning_team'].values\n",
    "\n",
    "X.head()"
   ]
  },
  {
   "cell_type": "markdown",
   "id": "24d7dd60",
   "metadata": {},
   "source": [
    "# Realizando PCA\n",
    "Para diminuição de dimensionalidade foi aplicado o método PCA, utilizando o número de componentes (ou seja, a quantidade de colunas) como 2 (PC0, PC1)."
   ]
  },
  {
   "cell_type": "code",
   "execution_count": 5,
   "id": "0c65dee0-47db-43b3-a63d-15486acd785a",
   "metadata": {},
   "outputs": [
    {
     "data": {
      "text/html": [
       "<div>\n",
       "<style scoped>\n",
       "    .dataframe tbody tr th:only-of-type {\n",
       "        vertical-align: middle;\n",
       "    }\n",
       "\n",
       "    .dataframe tbody tr th {\n",
       "        vertical-align: top;\n",
       "    }\n",
       "\n",
       "    .dataframe thead th {\n",
       "        text-align: right;\n",
       "    }\n",
       "</style>\n",
       "<table border=\"1\" class=\"dataframe\">\n",
       "  <thead>\n",
       "    <tr style=\"text-align: right;\">\n",
       "      <th></th>\n",
       "      <th>PC0</th>\n",
       "      <th>PC1</th>\n",
       "    </tr>\n",
       "  </thead>\n",
       "  <tbody>\n",
       "    <tr>\n",
       "      <th>0</th>\n",
       "      <td>-20.229013</td>\n",
       "      <td>-1.061209</td>\n",
       "    </tr>\n",
       "    <tr>\n",
       "      <th>1</th>\n",
       "      <td>27.766559</td>\n",
       "      <td>-1.698290</td>\n",
       "    </tr>\n",
       "    <tr>\n",
       "      <th>2</th>\n",
       "      <td>50.844586</td>\n",
       "      <td>3.970736</td>\n",
       "    </tr>\n",
       "    <tr>\n",
       "      <th>3</th>\n",
       "      <td>-23.228815</td>\n",
       "      <td>-1.041301</td>\n",
       "    </tr>\n",
       "    <tr>\n",
       "      <th>4</th>\n",
       "      <td>-23.228674</td>\n",
       "      <td>-1.040402</td>\n",
       "    </tr>\n",
       "  </tbody>\n",
       "</table>\n",
       "</div>"
      ],
      "text/plain": [
       "         PC0       PC1\n",
       "0 -20.229013 -1.061209\n",
       "1  27.766559 -1.698290\n",
       "2  50.844586  3.970736\n",
       "3 -23.228815 -1.041301\n",
       "4 -23.228674 -1.040402"
      ]
     },
     "execution_count": 5,
     "metadata": {},
     "output_type": "execute_result"
    }
   ],
   "source": [
    "pca = PCA(n_components=2)\n",
    "\n",
    "pca.fit(X)\n",
    "\n",
    "\n",
    "X_pca = pca.transform(X)\n",
    "\n",
    "X_pca_df = pd.DataFrame(X_pca, columns=['PC0', 'PC1'])\n",
    "\n",
    "X_pca_df.head() "
   ]
  },
  {
   "cell_type": "markdown",
   "id": "77aac91c",
   "metadata": {},
   "source": [
    "# Visualizando espaço formado de características após realizar o PCA com duas dimensões"
   ]
  },
  {
   "cell_type": "code",
   "execution_count": 6,
   "id": "ec08e123-7856-42f3-97ef-09d801fc0e2f",
   "metadata": {},
   "outputs": [
    {
     "data": {
      "text/plain": [
       "<AxesSubplot:xlabel='PC0', ylabel='PC1'>"
      ]
     },
     "execution_count": 6,
     "metadata": {},
     "output_type": "execute_result"
    },
    {
     "data": {
      "image/png": "[encoded data removed]",
      "text/plain": [
       "<Figure size 432x288 with 1 Axes>"
      ]
     },
     "metadata": {
      "needs_background": "light"
     },
     "output_type": "display_data"
    }
   ],
   "source": [
    "sns.set_palette('seismic')\n",
    "sns.scatterplot(data=X_pca_df, x='PC0', y='PC1', hue=y, palette='Set1')"
   ]
  },
  {
   "cell_type": "markdown",
   "id": "2b2fab59",
   "metadata": {},
   "source": [
    "# Treina e Seleciona o melhor modelo\n",
    "Em seguida é possível observar as funções que são utilizadas para treinar os classificadores, especificamente para realizar o treinamento no segundo nível, o qual, para esta atividade, foi feito em 5 vias. Também é feito o uso do parâmetro scoring do módulo GridSearchCV para escolher a melhor métrica de desempenho (utilizando o weighted f1-score)."
   ]
  },
  {
   "cell_type": "code",
   "execution_count": 7,
   "id": "36e2d387-cffa-441a-a9fb-3c8790e7f5da",
   "metadata": {},
   "outputs": [],
   "source": [
    "def selecionar_melhor_modelo(classificador, X_treino, X_val, y_treino, \n",
    "                             y_val, n_jobs=4, \n",
    "                             cv_folds=None, params={}):\n",
    "    \n",
    "    def treinar_modelo(X_treino, X_val, y_treino, y_val, params):\n",
    "        clf = classificador(**params)\n",
    "        clf.fit(X_treino, y_treino)\n",
    "        pred = clf.predict(X_val)\n",
    "        \n",
    "        if len(set(y_treino)) > 2:\n",
    "            return f1_score(y_val, pred, average='weighted')\n",
    "        else:\n",
    "            return f1_score(y_val, pred)\n",
    "    \n",
    "    \n",
    "    if cv_folds is not None:\n",
    "        #Se for pra usar validação cruzada, usar GridSearchCV\n",
    "        score_fn = 'f1' if len(set(y_treino)) < 3 else 'f1_weighted'\n",
    "        \n",
    "        clf = GridSearchCV(classificador(), params, cv=cv_folds, n_jobs=n_jobs, scoring=score_fn)\n",
    "        #Passar todos os dados (Treino e Validação) para realizar a seleção dos parâmetros.\n",
    "        clf.fit(np.vstack((X_treino, X_val)), [*y_treino, *y_val])\n",
    "        \n",
    "        melhor_comb = clf.best_params_\n",
    "        melhor_val = clf.best_score_\n",
    "        \n",
    "    else:\n",
    "        param_grid = list(ParameterGrid(params))\n",
    "        \n",
    "        f1s_val = Parallel(n_jobs=n_jobs)(delayed(treinar_modelo)\n",
    "                                         (X_treino, X_val, y_treino, y_val, p) for p in param_grid)\n",
    "\n",
    "        melhor_val = max(f1s_val)\n",
    "        melhor_comb = param_grid[np.argmax(f1s_val)]\n",
    "        \n",
    "        clf = classificador(**melhor_comb)\n",
    "        \n",
    "        clf.fit(np.vstack((X_treino, X_val)), [*y_treino, *y_val])\n",
    "    \n",
    "    return clf, melhor_comb, melhor_val"
   ]
  },
  {
   "cell_type": "markdown",
   "id": "2732ae65",
   "metadata": {},
   "source": [
    "# Função Genérica para realizar Cross-Validation\n",
    "Abaixo foi utilizada uma função genérica para realizar o Cross-Validation, a qual permite passar por parâmetro o classificador que será utilizado, a quantidade de splits e folds, os parâmetros que serão otimizados e se deverá ser realizado ou não a normalização dos splits."
   ]
  },
  {
   "cell_type": "code",
   "execution_count": null,
   "id": "81052a8e",
   "metadata": {},
   "outputs": [],
   "source": [
    "def do_cv(classificador, X, y, cv_splits, param_cv_folds=None, n_jobs=8, scale=False, imputer=None, dim_red=None, params={}):\n",
    "\n",
    "    skf = StratifiedKFold(n_splits=cv_splits, shuffle=True, random_state=1)\n",
    "\n",
    "    f1s = []\n",
    "    list_confusion_matrix = []\n",
    "    \n",
    "    pgb = tqdm(total=cv_splits, desc='Folds avaliados')\n",
    "    \n",
    "    for treino_idx, teste_idx in skf.split(X, y):\n",
    "\n",
    "        if isinstance(X, pd.DataFrame):\n",
    "            X_treino = X.iloc[treino_idx]\n",
    "            X_teste = X.iloc[teste_idx]\n",
    "            \n",
    "            if imputer is not None:\n",
    "                X_treino = imputer.fit_transform(X_treino)\n",
    "                X_teste = imputer.transform(X_teste)\n",
    "            else:\n",
    "                X_treino = X_treino.values\n",
    "                X_teste = X_teste.values   \n",
    "            \n",
    "        else:\n",
    "            X_treino = X[treino_idx]\n",
    "            X_teste = X[teste_idx]\n",
    "            \n",
    "        y_treino = y[treino_idx]\n",
    "        y_teste = y[teste_idx]        \n",
    "\n",
    "        X_treino, X_val, y_treino, y_val = train_test_split(X_treino, y_treino, stratify=y_treino, test_size=0.2, random_state=1)\n",
    "        \n",
    "        if imputer is not None:\n",
    "            X_val = imputer.transform(pd.DataFrame(X_val, columns=X.columns))\n",
    "        \n",
    "        if scale:\n",
    "            ss = StandardScaler()\n",
    "            X_treino = ss.fit_transform(X_treino)\n",
    "            X_teste = ss.transform(X_teste)\n",
    "            X_val = ss.transform(X_val)\n",
    "            \n",
    "        if dim_red is not None:\n",
    "            X_treino = dim_red.fit_transform(X_treino)\n",
    "            X_teste = dim_red.transform(X_teste)\n",
    "            X_val = dim_red.transform(X_val)\n",
    "            \n",
    "        ad, melhor_comb, _ = selecionar_melhor_modelo(classificador, X_treino, X_val, y_treino, y_val, \n",
    "                                                      n_jobs=n_jobs, cv_folds=param_cv_folds, params=params)\n",
    "        pred = ad.predict(X_teste)\n",
    "\n",
    "        if len(set(y_treino)) > 2:\n",
    "            f1 = f1_score(y_teste, pred, average='weighted')\n",
    "        else:\n",
    "            f1 = f1_score(y_teste, pred)\n",
    "        f1s.append(f1)\n",
    "\n",
    "        print(f'{melhor_comb} -- F1-Score: {f1}')\n",
    "        list_melhor_comb.append(melhor_comb)\n",
    "\n",
    "        list_confusion_matrix.append(confusion_matrix(y_teste, pred))\n",
    "        \n",
    "        pgb.update(1)\n",
    "        \n",
    "    pgb.close()\n",
    "    \n",
    "    return f1s, list_confusion_matrix, list_melhor_comb"
   ]
  },
  {
   "cell_type": "markdown",
   "id": "74dd23c7",
   "metadata": {},
   "source": [
    "# KNN"
   ]
  },
  {
   "cell_type": "code",
   "execution_count": 10,
   "id": "fcfc633d",
   "metadata": {},
   "outputs": [
    {
     "data": {
      "application/vnd.jupyter.widget-view+json": {
       "model_id": "cb8d3b32108546cca48edcc915483770",
       "version_major": 2,
       "version_minor": 0
      },
      "text/plain": [
       "Folds avaliados:   0%|          | 0/10 [00:00<?, ?it/s]"
      ]
     },
     "metadata": {},
     "output_type": "display_data"
    },
    {
     "name": "stdout",
     "output_type": "stream",
     "text": [
      "              precision    recall  f1-score   support\n",
      "\n",
      "          -1       0.52      0.46      0.48       439\n",
      "           1       0.56      0.62      0.59       488\n",
      "\n",
      "    accuracy                           0.54       927\n",
      "   macro avg       0.54      0.54      0.53       927\n",
      "weighted avg       0.54      0.54      0.54       927\n",
      "\n",
      "{1, -1}\n",
      "{'n_neighbors': 25} -- F1-Score: 0.585603112840467\n",
      "              precision    recall  f1-score   support\n",
      "\n",
      "          -1       0.50      0.44      0.47       439\n",
      "           1       0.55      0.61      0.58       488\n",
      "\n",
      "    accuracy                           0.53       927\n",
      "   macro avg       0.53      0.52      0.52       927\n",
      "weighted avg       0.53      0.53      0.53       927\n",
      "\n",
      "{1, -1}\n",
      "{'n_neighbors': 29} -- F1-Score: 0.5791505791505791\n",
      "              precision    recall  f1-score   support\n",
      "\n",
      "          -1       0.52      0.41      0.45       439\n",
      "           1       0.55      0.66      0.60       488\n",
      "\n",
      "    accuracy                           0.54       927\n",
      "   macro avg       0.53      0.53      0.53       927\n",
      "weighted avg       0.54      0.54      0.53       927\n",
      "\n",
      "{1, -1}\n",
      "{'n_neighbors': 29} -- F1-Score: 0.6013071895424837\n",
      "              precision    recall  f1-score   support\n",
      "\n",
      "          -1       0.51      0.41      0.45       439\n",
      "           1       0.55      0.66      0.60       488\n",
      "\n",
      "    accuracy                           0.54       927\n",
      "   macro avg       0.53      0.53      0.53       927\n",
      "weighted avg       0.53      0.54      0.53       927\n",
      "\n",
      "{1, -1}\n",
      "{'n_neighbors': 29} -- F1-Score: 0.598690364826941\n",
      "              precision    recall  f1-score   support\n",
      "\n",
      "          -1       0.51      0.46      0.48       438\n",
      "           1       0.55      0.60      0.57       488\n",
      "\n",
      "    accuracy                           0.53       926\n",
      "   macro avg       0.53      0.53      0.53       926\n",
      "weighted avg       0.53      0.53      0.53       926\n",
      "\n",
      "{1, -1}\n",
      "{'n_neighbors': 29} -- F1-Score: 0.5736738703339882\n",
      "              precision    recall  f1-score   support\n",
      "\n",
      "          -1       0.50      0.45      0.47       438\n",
      "           1       0.55      0.61      0.58       488\n",
      "\n",
      "    accuracy                           0.53       926\n",
      "   macro avg       0.53      0.53      0.52       926\n",
      "weighted avg       0.53      0.53      0.53       926\n",
      "\n",
      "{1, -1}\n",
      "{'n_neighbors': 27} -- F1-Score: 0.5764362220058423\n",
      "              precision    recall  f1-score   support\n",
      "\n",
      "          -1       0.53      0.43      0.48       438\n",
      "           1       0.56      0.66      0.61       488\n",
      "\n",
      "    accuracy                           0.55       926\n",
      "   macro avg       0.55      0.55      0.54       926\n",
      "weighted avg       0.55      0.55      0.55       926\n",
      "\n",
      "{1, -1}\n",
      "{'n_neighbors': 25} -- F1-Score: 0.6101694915254237\n",
      "              precision    recall  f1-score   support\n",
      "\n",
      "          -1       0.51      0.42      0.46       438\n",
      "           1       0.55      0.63      0.59       488\n",
      "\n",
      "    accuracy                           0.53       926\n",
      "   macro avg       0.53      0.53      0.52       926\n",
      "weighted avg       0.53      0.53      0.53       926\n",
      "\n",
      "{1, -1}\n",
      "{'n_neighbors': 25} -- F1-Score: 0.5874524714828897\n",
      "              precision    recall  f1-score   support\n",
      "\n",
      "          -1       0.53      0.42      0.47       439\n",
      "           1       0.56      0.66      0.61       487\n",
      "\n",
      "    accuracy                           0.55       926\n",
      "   macro avg       0.54      0.54      0.54       926\n",
      "weighted avg       0.54      0.55      0.54       926\n",
      "\n",
      "{1, -1}\n",
      "{'n_neighbors': 27} -- F1-Score: 0.6065727699530518\n",
      "              precision    recall  f1-score   support\n",
      "\n",
      "          -1       0.53      0.46      0.49       439\n",
      "           1       0.56      0.63      0.59       487\n",
      "\n",
      "    accuracy                           0.55       926\n",
      "   macro avg       0.55      0.55      0.54       926\n",
      "weighted avg       0.55      0.55      0.55       926\n",
      "\n",
      "{1, -1}\n",
      "{'n_neighbors': 29} -- F1-Score: 0.5939629990262901\n"
     ]
    }
   ],
   "source": [
    "# Avaliando o desempenho do KNN\n",
    "result_classifiers ={}\n",
    "\n",
    "ks = list(range(1,30,2))\n",
    "knn, list_confusion_matrix_knn, list_melhor_comb = do_cv(KNeighborsClassifier, X.values, y, 10, 5, 2, False, {'n_neighbors' : ks})\n",
    "\n",
    "result_classifiers['knn'] = knn"
   ]
  },
  {
   "cell_type": "markdown",
   "id": "0e20a543",
   "metadata": {},
   "source": [
    "# result_classifiers do KNN"
   ]
  },
  {
   "cell_type": "code",
   "execution_count": 41,
   "id": "011ce8f7",
   "metadata": {},
   "outputs": [
    {
     "name": "stdout",
     "output_type": "stream",
     "text": [
      "Resultados: 0.59 +- 0.01, min: 0.57, max: 0.61\n"
     ]
    }
   ],
   "source": [
    "utils.imprimir_estatisticas(knn)"
   ]
  },
  {
   "cell_type": "markdown",
   "id": "fe39822d",
   "metadata": {},
   "source": [
    "Realizo a visualização das somas das matrizes de confusão obtidas ao executar o KNN."
   ]
  },
  {
   "cell_type": "code",
   "execution_count": 37,
   "id": "cf1062c3",
   "metadata": {},
   "outputs": [
    {
     "data": {
      "text/plain": [
       "<sklearn.metrics._plot.confusion_matrix.ConfusionMatrixDisplay at 0x7f9b023061f0>"
      ]
     },
     "execution_count": 37,
     "metadata": {},
     "output_type": "execute_result"
    },
    {
     "data": {
      "image/png": "[encoded data removed]",
      "text/plain": [
       "<Figure size 432x288 with 2 Axes>"
      ]
     },
     "metadata": {
      "needs_background": "light"
     },
     "output_type": "display_data"
    }
   ],
   "source": [
    "reduceMatrix = functools.reduce(lambda x,y :  x + y, list_confusion_matrix_knn)\n",
    "\n",
    "disp = ConfusionMatrixDisplay(confusion_matrix=reduceMatrix)\n",
    "disp.plot()"
   ]
  },
  {
   "cell_type": "markdown",
   "id": "e6e0e9e4",
   "metadata": {},
   "source": [
    "# SVM"
   ]
  },
  {
   "cell_type": "code",
   "execution_count": 16,
   "id": "4255bc09",
   "metadata": {},
   "outputs": [
    {
     "data": {
      "application/vnd.jupyter.widget-view+json": {
       "model_id": "21defb592fda44afb98755ae69aca128",
       "version_major": 2,
       "version_minor": 0
      },
      "text/plain": [
       "Folds avaliados:   0%|          | 0/10 [00:00<?, ?it/s]"
      ]
     },
     "metadata": {},
     "output_type": "display_data"
    },
    {
     "name": "stderr",
     "output_type": "stream",
     "text": [
      "/home/juan_rangel/.local/lib/python3.8/site-packages/sklearn/metrics/_classification.py:1248: UndefinedMetricWarning: Precision and F-score are ill-defined and being set to 0.0 in labels with no predicted samples. Use `zero_division` parameter to control this behavior.\n",
      "  _warn_prf(average, modifier, msg_start, len(result))\n",
      "/home/juan_rangel/.local/lib/python3.8/site-packages/sklearn/metrics/_classification.py:1248: UndefinedMetricWarning: Precision and F-score are ill-defined and being set to 0.0 in labels with no predicted samples. Use `zero_division` parameter to control this behavior.\n",
      "  _warn_prf(average, modifier, msg_start, len(result))\n",
      "/home/juan_rangel/.local/lib/python3.8/site-packages/sklearn/metrics/_classification.py:1248: UndefinedMetricWarning: Precision and F-score are ill-defined and being set to 0.0 in labels with no predicted samples. Use `zero_division` parameter to control this behavior.\n",
      "  _warn_prf(average, modifier, msg_start, len(result))\n"
     ]
    },
    {
     "name": "stdout",
     "output_type": "stream",
     "text": [
      "              precision    recall  f1-score   support\n",
      "\n",
      "          -1       0.00      0.00      0.00       439\n",
      "           1       0.53      1.00      0.69       488\n",
      "\n",
      "    accuracy                           0.53       927\n",
      "   macro avg       0.26      0.50      0.34       927\n",
      "weighted avg       0.28      0.53      0.36       927\n",
      "\n",
      "{1, -1}\n",
      "{'C': 1, 'gamma': 'scale', 'kernel': 'rbf'} -- F1-Score: 0.6897526501766785\n"
     ]
    },
    {
     "name": "stderr",
     "output_type": "stream",
     "text": [
      "/home/juan_rangel/.local/lib/python3.8/site-packages/sklearn/metrics/_classification.py:1248: UndefinedMetricWarning: Precision and F-score are ill-defined and being set to 0.0 in labels with no predicted samples. Use `zero_division` parameter to control this behavior.\n",
      "  _warn_prf(average, modifier, msg_start, len(result))\n",
      "/home/juan_rangel/.local/lib/python3.8/site-packages/sklearn/metrics/_classification.py:1248: UndefinedMetricWarning: Precision and F-score are ill-defined and being set to 0.0 in labels with no predicted samples. Use `zero_division` parameter to control this behavior.\n",
      "  _warn_prf(average, modifier, msg_start, len(result))\n",
      "/home/juan_rangel/.local/lib/python3.8/site-packages/sklearn/metrics/_classification.py:1248: UndefinedMetricWarning: Precision and F-score are ill-defined and being set to 0.0 in labels with no predicted samples. Use `zero_division` parameter to control this behavior.\n",
      "  _warn_prf(average, modifier, msg_start, len(result))\n"
     ]
    },
    {
     "name": "stdout",
     "output_type": "stream",
     "text": [
      "              precision    recall  f1-score   support\n",
      "\n",
      "          -1       0.00      0.00      0.00       439\n",
      "           1       0.53      1.00      0.69       488\n",
      "\n",
      "    accuracy                           0.53       927\n",
      "   macro avg       0.26      0.50      0.34       927\n",
      "weighted avg       0.28      0.53      0.36       927\n",
      "\n",
      "{1, -1}\n",
      "{'C': 1, 'gamma': 'scale', 'kernel': 'rbf'} -- F1-Score: 0.6897526501766785\n"
     ]
    },
    {
     "name": "stderr",
     "output_type": "stream",
     "text": [
      "/home/juan_rangel/.local/lib/python3.8/site-packages/sklearn/metrics/_classification.py:1248: UndefinedMetricWarning: Precision and F-score are ill-defined and being set to 0.0 in labels with no predicted samples. Use `zero_division` parameter to control this behavior.\n",
      "  _warn_prf(average, modifier, msg_start, len(result))\n",
      "/home/juan_rangel/.local/lib/python3.8/site-packages/sklearn/metrics/_classification.py:1248: UndefinedMetricWarning: Precision and F-score are ill-defined and being set to 0.0 in labels with no predicted samples. Use `zero_division` parameter to control this behavior.\n",
      "  _warn_prf(average, modifier, msg_start, len(result))\n",
      "/home/juan_rangel/.local/lib/python3.8/site-packages/sklearn/metrics/_classification.py:1248: UndefinedMetricWarning: Precision and F-score are ill-defined and being set to 0.0 in labels with no predicted samples. Use `zero_division` parameter to control this behavior.\n",
      "  _warn_prf(average, modifier, msg_start, len(result))\n"
     ]
    },
    {
     "name": "stdout",
     "output_type": "stream",
     "text": [
      "              precision    recall  f1-score   support\n",
      "\n",
      "          -1       0.00      0.00      0.00       439\n",
      "           1       0.53      1.00      0.69       488\n",
      "\n",
      "    accuracy                           0.53       927\n",
      "   macro avg       0.26      0.50      0.34       927\n",
      "weighted avg       0.28      0.53      0.36       927\n",
      "\n",
      "{1, -1}\n",
      "{'C': 1, 'gamma': 'scale', 'kernel': 'rbf'} -- F1-Score: 0.6897526501766785\n"
     ]
    },
    {
     "ename": "KeyboardInterrupt",
     "evalue": "",
     "output_type": "error",
     "traceback": [
      "\u001b[0;31m---------------------------------------------------------------------------\u001b[0m",
      "\u001b[0;31mKeyboardInterrupt\u001b[0m                         Traceback (most recent call last)",
      "\u001b[1;32m/home/juan_rangel/Documentos/MachineLearning/Atividade-6/atividade_6.ipynb Cell 22'\u001b[0m in \u001b[0;36m<cell line: 2>\u001b[0;34m()\u001b[0m\n\u001b[1;32m      <a href='vscode-notebook-cell://wsl%2Bubuntu/home/juan_rangel/Documentos/MachineLearning/Atividade-6/atividade_6.ipynb#ch0000048vscode-remote?line=0'>1</a>\u001b[0m \u001b[39m# Avaliando o desempenho do SVM\u001b[39;00m\n\u001b[0;32m----> <a href='vscode-notebook-cell://wsl%2Bubuntu/home/juan_rangel/Documentos/MachineLearning/Atividade-6/atividade_6.ipynb#ch0000048vscode-remote?line=1'>2</a>\u001b[0m svm, list_confusion_matrix_svm, list_melhor_comb \u001b[39m=\u001b[39m do_cv(SVC, X\u001b[39m.\u001b[39;49mvalues, y, \u001b[39m10\u001b[39;49m, \u001b[39m5\u001b[39;49m, \u001b[39m2\u001b[39;49m, \u001b[39mFalse\u001b[39;49;00m, {\u001b[39m'\u001b[39;49m\u001b[39mgamma\u001b[39;49m\u001b[39m'\u001b[39;49m : [\u001b[39m'\u001b[39;49m\u001b[39mauto\u001b[39;49m\u001b[39m'\u001b[39;49m, \u001b[39m'\u001b[39;49m\u001b[39mscale\u001b[39;49m\u001b[39m'\u001b[39;49m, \u001b[39m2e-2\u001b[39;49m, \u001b[39m2e-3\u001b[39;49m, \u001b[39m2e-4\u001b[39;49m],\n\u001b[1;32m      <a href='vscode-notebook-cell://wsl%2Bubuntu/home/juan_rangel/Documentos/MachineLearning/Atividade-6/atividade_6.ipynb#ch0000048vscode-remote?line=2'>3</a>\u001b[0m                 \u001b[39m'\u001b[39;49m\u001b[39mC\u001b[39;49m\u001b[39m'\u001b[39;49m : [\u001b[39m1\u001b[39;49m, \u001b[39m10\u001b[39;49m, \u001b[39m100\u001b[39;49m, \u001b[39m1000\u001b[39;49m], \u001b[39m'\u001b[39;49m\u001b[39mkernel\u001b[39;49m\u001b[39m'\u001b[39;49m: [\u001b[39m'\u001b[39;49m\u001b[39mrbf\u001b[39;49m\u001b[39m'\u001b[39;49m]})\n\u001b[1;32m      <a href='vscode-notebook-cell://wsl%2Bubuntu/home/juan_rangel/Documentos/MachineLearning/Atividade-6/atividade_6.ipynb#ch0000048vscode-remote?line=4'>5</a>\u001b[0m resultados[\u001b[39m'\u001b[39m\u001b[39msvm\u001b[39m\u001b[39m'\u001b[39m] \u001b[39m=\u001b[39m svm\n",
      "\u001b[1;32m/home/juan_rangel/Documentos/MachineLearning/Atividade-6/atividade_6.ipynb Cell 17'\u001b[0m in \u001b[0;36mdo_cv\u001b[0;34m(classificador, X, y, cv_splits, param_cv_folds, n_jobs, scale, params)\u001b[0m\n\u001b[1;32m     <a href='vscode-notebook-cell://wsl%2Bubuntu/home/juan_rangel/Documentos/MachineLearning/Atividade-6/atividade_6.ipynb#ch0000015vscode-remote?line=25'>26</a>\u001b[0m     X_teste \u001b[39m=\u001b[39m ss\u001b[39m.\u001b[39mtransform(X_teste)\n\u001b[1;32m     <a href='vscode-notebook-cell://wsl%2Bubuntu/home/juan_rangel/Documentos/MachineLearning/Atividade-6/atividade_6.ipynb#ch0000015vscode-remote?line=26'>27</a>\u001b[0m     X_val \u001b[39m=\u001b[39m ss\u001b[39m.\u001b[39mtransform(X_val)        \n\u001b[0;32m---> <a href='vscode-notebook-cell://wsl%2Bubuntu/home/juan_rangel/Documentos/MachineLearning/Atividade-6/atividade_6.ipynb#ch0000015vscode-remote?line=28'>29</a>\u001b[0m modelo, melhor_comb, _ \u001b[39m=\u001b[39m selecionar_melhor_modelo(classificador, X_treino, X_val, y_treino, y_val, \n\u001b[1;32m     <a href='vscode-notebook-cell://wsl%2Bubuntu/home/juan_rangel/Documentos/MachineLearning/Atividade-6/atividade_6.ipynb#ch0000015vscode-remote?line=29'>30</a>\u001b[0m                                               n_jobs\u001b[39m=\u001b[39;49mn_jobs, cv_folds\u001b[39m=\u001b[39;49mparam_cv_folds, params\u001b[39m=\u001b[39;49mparams)\n\u001b[1;32m     <a href='vscode-notebook-cell://wsl%2Bubuntu/home/juan_rangel/Documentos/MachineLearning/Atividade-6/atividade_6.ipynb#ch0000015vscode-remote?line=30'>31</a>\u001b[0m pred \u001b[39m=\u001b[39m modelo\u001b[39m.\u001b[39mpredict(X_teste)\n\u001b[1;32m     <a href='vscode-notebook-cell://wsl%2Bubuntu/home/juan_rangel/Documentos/MachineLearning/Atividade-6/atividade_6.ipynb#ch0000015vscode-remote?line=31'>32</a>\u001b[0m predictions\u001b[39m.\u001b[39mappend(pred)\n",
      "\u001b[1;32m/home/juan_rangel/Documentos/MachineLearning/Atividade-6/atividade_6.ipynb Cell 14'\u001b[0m in \u001b[0;36mselecionar_melhor_modelo\u001b[0;34m(classificador, X_treino, X_val, y_treino, y_val, n_jobs, cv_folds, params)\u001b[0m\n\u001b[1;32m     <a href='vscode-notebook-cell://wsl%2Bubuntu/home/juan_rangel/Documentos/MachineLearning/Atividade-6/atividade_6.ipynb#ch0000013vscode-remote?line=19'>20</a>\u001b[0m clf \u001b[39m=\u001b[39m GridSearchCV(classificador(), params, cv\u001b[39m=\u001b[39mcv_folds, n_jobs\u001b[39m=\u001b[39mn_jobs, scoring\u001b[39m=\u001b[39mscore_fn)\n\u001b[1;32m     <a href='vscode-notebook-cell://wsl%2Bubuntu/home/juan_rangel/Documentos/MachineLearning/Atividade-6/atividade_6.ipynb#ch0000013vscode-remote?line=20'>21</a>\u001b[0m \u001b[39m#Passar todos os dados (Treino e Validação) para realizar a seleção dos parâmetros.\u001b[39;00m\n\u001b[0;32m---> <a href='vscode-notebook-cell://wsl%2Bubuntu/home/juan_rangel/Documentos/MachineLearning/Atividade-6/atividade_6.ipynb#ch0000013vscode-remote?line=21'>22</a>\u001b[0m clf\u001b[39m.\u001b[39;49mfit(np\u001b[39m.\u001b[39;49mvstack((X_treino, X_val)), [\u001b[39m*\u001b[39;49my_treino, \u001b[39m*\u001b[39;49my_val])\n\u001b[1;32m     <a href='vscode-notebook-cell://wsl%2Bubuntu/home/juan_rangel/Documentos/MachineLearning/Atividade-6/atividade_6.ipynb#ch0000013vscode-remote?line=23'>24</a>\u001b[0m melhor_comb \u001b[39m=\u001b[39m clf\u001b[39m.\u001b[39mbest_params_\n\u001b[1;32m     <a href='vscode-notebook-cell://wsl%2Bubuntu/home/juan_rangel/Documentos/MachineLearning/Atividade-6/atividade_6.ipynb#ch0000013vscode-remote?line=24'>25</a>\u001b[0m melhor_val \u001b[39m=\u001b[39m clf\u001b[39m.\u001b[39mbest_score_\n",
      "File \u001b[0;32m~/.local/lib/python3.8/site-packages/sklearn/utils/validation.py:63\u001b[0m, in \u001b[0;36m_deprecate_positional_args.<locals>._inner_deprecate_positional_args.<locals>.inner_f\u001b[0;34m(*args, **kwargs)\u001b[0m\n\u001b[1;32m     61\u001b[0m extra_args \u001b[39m=\u001b[39m \u001b[39mlen\u001b[39m(args) \u001b[39m-\u001b[39m \u001b[39mlen\u001b[39m(all_args)\n\u001b[1;32m     62\u001b[0m \u001b[39mif\u001b[39;00m extra_args \u001b[39m<\u001b[39m\u001b[39m=\u001b[39m \u001b[39m0\u001b[39m:\n\u001b[0;32m---> 63\u001b[0m     \u001b[39mreturn\u001b[39;00m f(\u001b[39m*\u001b[39;49margs, \u001b[39m*\u001b[39;49m\u001b[39m*\u001b[39;49mkwargs)\n\u001b[1;32m     65\u001b[0m \u001b[39m# extra_args > 0\u001b[39;00m\n\u001b[1;32m     66\u001b[0m args_msg \u001b[39m=\u001b[39m [\u001b[39m'\u001b[39m\u001b[39m{}\u001b[39;00m\u001b[39m=\u001b[39m\u001b[39m{}\u001b[39;00m\u001b[39m'\u001b[39m\u001b[39m.\u001b[39mformat(name, arg)\n\u001b[1;32m     67\u001b[0m             \u001b[39mfor\u001b[39;00m name, arg \u001b[39min\u001b[39;00m \u001b[39mzip\u001b[39m(kwonly_args[:extra_args],\n\u001b[1;32m     68\u001b[0m                                  args[\u001b[39m-\u001b[39mextra_args:])]\n",
      "File \u001b[0;32m~/.local/lib/python3.8/site-packages/sklearn/model_selection/_search.py:841\u001b[0m, in \u001b[0;36mBaseSearchCV.fit\u001b[0;34m(self, X, y, groups, **fit_params)\u001b[0m\n\u001b[1;32m    835\u001b[0m     results \u001b[39m=\u001b[39m \u001b[39mself\u001b[39m\u001b[39m.\u001b[39m_format_results(\n\u001b[1;32m    836\u001b[0m         all_candidate_params, n_splits, all_out,\n\u001b[1;32m    837\u001b[0m         all_more_results)\n\u001b[1;32m    839\u001b[0m     \u001b[39mreturn\u001b[39;00m results\n\u001b[0;32m--> 841\u001b[0m \u001b[39mself\u001b[39;49m\u001b[39m.\u001b[39;49m_run_search(evaluate_candidates)\n\u001b[1;32m    843\u001b[0m \u001b[39m# multimetric is determined here because in the case of a callable\u001b[39;00m\n\u001b[1;32m    844\u001b[0m \u001b[39m# self.scoring the return type is only known after calling\u001b[39;00m\n\u001b[1;32m    845\u001b[0m first_test_score \u001b[39m=\u001b[39m all_out[\u001b[39m0\u001b[39m][\u001b[39m'\u001b[39m\u001b[39mtest_scores\u001b[39m\u001b[39m'\u001b[39m]\n",
      "File \u001b[0;32m~/.local/lib/python3.8/site-packages/sklearn/model_selection/_search.py:1296\u001b[0m, in \u001b[0;36mGridSearchCV._run_search\u001b[0;34m(self, evaluate_candidates)\u001b[0m\n\u001b[1;32m   1294\u001b[0m \u001b[39mdef\u001b[39;00m \u001b[39m_run_search\u001b[39m(\u001b[39mself\u001b[39m, evaluate_candidates):\n\u001b[1;32m   1295\u001b[0m     \u001b[39m\"\"\"Search all candidates in param_grid\"\"\"\u001b[39;00m\n\u001b[0;32m-> 1296\u001b[0m     evaluate_candidates(ParameterGrid(\u001b[39mself\u001b[39;49m\u001b[39m.\u001b[39;49mparam_grid))\n",
      "File \u001b[0;32m~/.local/lib/python3.8/site-packages/sklearn/model_selection/_search.py:795\u001b[0m, in \u001b[0;36mBaseSearchCV.fit.<locals>.evaluate_candidates\u001b[0;34m(candidate_params, cv, more_results)\u001b[0m\n\u001b[1;32m    790\u001b[0m \u001b[39mif\u001b[39;00m \u001b[39mself\u001b[39m\u001b[39m.\u001b[39mverbose \u001b[39m>\u001b[39m \u001b[39m0\u001b[39m:\n\u001b[1;32m    791\u001b[0m     \u001b[39mprint\u001b[39m(\u001b[39m\"\u001b[39m\u001b[39mFitting \u001b[39m\u001b[39m{0}\u001b[39;00m\u001b[39m folds for each of \u001b[39m\u001b[39m{1}\u001b[39;00m\u001b[39m candidates,\u001b[39m\u001b[39m\"\u001b[39m\n\u001b[1;32m    792\u001b[0m           \u001b[39m\"\u001b[39m\u001b[39m totalling \u001b[39m\u001b[39m{2}\u001b[39;00m\u001b[39m fits\u001b[39m\u001b[39m\"\u001b[39m\u001b[39m.\u001b[39mformat(\n\u001b[1;32m    793\u001b[0m               n_splits, n_candidates, n_candidates \u001b[39m*\u001b[39m n_splits))\n\u001b[0;32m--> 795\u001b[0m out \u001b[39m=\u001b[39m parallel(delayed(_fit_and_score)(clone(base_estimator),\n\u001b[1;32m    796\u001b[0m                                        X, y,\n\u001b[1;32m    797\u001b[0m                                        train\u001b[39m=\u001b[39;49mtrain, test\u001b[39m=\u001b[39;49mtest,\n\u001b[1;32m    798\u001b[0m                                        parameters\u001b[39m=\u001b[39;49mparameters,\n\u001b[1;32m    799\u001b[0m                                        split_progress\u001b[39m=\u001b[39;49m(\n\u001b[1;32m    800\u001b[0m                                            split_idx,\n\u001b[1;32m    801\u001b[0m                                            n_splits),\n\u001b[1;32m    802\u001b[0m                                        candidate_progress\u001b[39m=\u001b[39;49m(\n\u001b[1;32m    803\u001b[0m                                            cand_idx,\n\u001b[1;32m    804\u001b[0m                                            n_candidates),\n\u001b[1;32m    805\u001b[0m                                        \u001b[39m*\u001b[39;49m\u001b[39m*\u001b[39;49mfit_and_score_kwargs)\n\u001b[1;32m    806\u001b[0m                \u001b[39mfor\u001b[39;49;00m (cand_idx, parameters),\n\u001b[1;32m    807\u001b[0m                    (split_idx, (train, test)) \u001b[39min\u001b[39;49;00m product(\n\u001b[1;32m    808\u001b[0m                    \u001b[39menumerate\u001b[39;49m(candidate_params),\n\u001b[1;32m    809\u001b[0m                    \u001b[39menumerate\u001b[39;49m(cv\u001b[39m.\u001b[39;49msplit(X, y, groups))))\n\u001b[1;32m    811\u001b[0m \u001b[39mif\u001b[39;00m \u001b[39mlen\u001b[39m(out) \u001b[39m<\u001b[39m \u001b[39m1\u001b[39m:\n\u001b[1;32m    812\u001b[0m     \u001b[39mraise\u001b[39;00m \u001b[39mValueError\u001b[39;00m(\u001b[39m'\u001b[39m\u001b[39mNo fits were performed. \u001b[39m\u001b[39m'\u001b[39m\n\u001b[1;32m    813\u001b[0m                      \u001b[39m'\u001b[39m\u001b[39mWas the CV iterator empty? \u001b[39m\u001b[39m'\u001b[39m\n\u001b[1;32m    814\u001b[0m                      \u001b[39m'\u001b[39m\u001b[39mWere there no candidates?\u001b[39m\u001b[39m'\u001b[39m)\n",
      "File \u001b[0;32m~/.local/lib/python3.8/site-packages/joblib/parallel.py:1054\u001b[0m, in \u001b[0;36mParallel.__call__\u001b[0;34m(self, iterable)\u001b[0m\n\u001b[1;32m   1051\u001b[0m     \u001b[39mself\u001b[39m\u001b[39m.\u001b[39m_iterating \u001b[39m=\u001b[39m \u001b[39mFalse\u001b[39;00m\n\u001b[1;32m   1053\u001b[0m \u001b[39mwith\u001b[39;00m \u001b[39mself\u001b[39m\u001b[39m.\u001b[39m_backend\u001b[39m.\u001b[39mretrieval_context():\n\u001b[0;32m-> 1054\u001b[0m     \u001b[39mself\u001b[39;49m\u001b[39m.\u001b[39;49mretrieve()\n\u001b[1;32m   1055\u001b[0m \u001b[39m# Make sure that we get a last message telling us we are done\u001b[39;00m\n\u001b[1;32m   1056\u001b[0m elapsed_time \u001b[39m=\u001b[39m time\u001b[39m.\u001b[39mtime() \u001b[39m-\u001b[39m \u001b[39mself\u001b[39m\u001b[39m.\u001b[39m_start_time\n",
      "File \u001b[0;32m~/.local/lib/python3.8/site-packages/joblib/parallel.py:933\u001b[0m, in \u001b[0;36mParallel.retrieve\u001b[0;34m(self)\u001b[0m\n\u001b[1;32m    931\u001b[0m \u001b[39mtry\u001b[39;00m:\n\u001b[1;32m    932\u001b[0m     \u001b[39mif\u001b[39;00m \u001b[39mgetattr\u001b[39m(\u001b[39mself\u001b[39m\u001b[39m.\u001b[39m_backend, \u001b[39m'\u001b[39m\u001b[39msupports_timeout\u001b[39m\u001b[39m'\u001b[39m, \u001b[39mFalse\u001b[39;00m):\n\u001b[0;32m--> 933\u001b[0m         \u001b[39mself\u001b[39m\u001b[39m.\u001b[39m_output\u001b[39m.\u001b[39mextend(job\u001b[39m.\u001b[39;49mget(timeout\u001b[39m=\u001b[39;49m\u001b[39mself\u001b[39;49m\u001b[39m.\u001b[39;49mtimeout))\n\u001b[1;32m    934\u001b[0m     \u001b[39melse\u001b[39;00m:\n\u001b[1;32m    935\u001b[0m         \u001b[39mself\u001b[39m\u001b[39m.\u001b[39m_output\u001b[39m.\u001b[39mextend(job\u001b[39m.\u001b[39mget())\n",
      "File \u001b[0;32m~/.local/lib/python3.8/site-packages/joblib/_parallel_backends.py:542\u001b[0m, in \u001b[0;36mLokyBackend.wrap_future_result\u001b[0;34m(future, timeout)\u001b[0m\n\u001b[1;32m    539\u001b[0m \u001b[39m\"\"\"Wrapper for Future.result to implement the same behaviour as\u001b[39;00m\n\u001b[1;32m    540\u001b[0m \u001b[39mAsyncResults.get from multiprocessing.\"\"\"\u001b[39;00m\n\u001b[1;32m    541\u001b[0m \u001b[39mtry\u001b[39;00m:\n\u001b[0;32m--> 542\u001b[0m     \u001b[39mreturn\u001b[39;00m future\u001b[39m.\u001b[39;49mresult(timeout\u001b[39m=\u001b[39;49mtimeout)\n\u001b[1;32m    543\u001b[0m \u001b[39mexcept\u001b[39;00m CfTimeoutError \u001b[39mas\u001b[39;00m e:\n\u001b[1;32m    544\u001b[0m     \u001b[39mraise\u001b[39;00m \u001b[39mTimeoutError\u001b[39;00m \u001b[39mfrom\u001b[39;00m \u001b[39me\u001b[39;00m\n",
      "File \u001b[0;32m/usr/lib/python3.8/concurrent/futures/_base.py:439\u001b[0m, in \u001b[0;36mFuture.result\u001b[0;34m(self, timeout)\u001b[0m\n\u001b[1;32m    436\u001b[0m \u001b[39melif\u001b[39;00m \u001b[39mself\u001b[39m\u001b[39m.\u001b[39m_state \u001b[39m==\u001b[39m FINISHED:\n\u001b[1;32m    437\u001b[0m     \u001b[39mreturn\u001b[39;00m \u001b[39mself\u001b[39m\u001b[39m.\u001b[39m__get_result()\n\u001b[0;32m--> 439\u001b[0m \u001b[39mself\u001b[39;49m\u001b[39m.\u001b[39;49m_condition\u001b[39m.\u001b[39;49mwait(timeout)\n\u001b[1;32m    441\u001b[0m \u001b[39mif\u001b[39;00m \u001b[39mself\u001b[39m\u001b[39m.\u001b[39m_state \u001b[39min\u001b[39;00m [CANCELLED, CANCELLED_AND_NOTIFIED]:\n\u001b[1;32m    442\u001b[0m     \u001b[39mraise\u001b[39;00m CancelledError()\n",
      "File \u001b[0;32m/usr/lib/python3.8/threading.py:302\u001b[0m, in \u001b[0;36mCondition.wait\u001b[0;34m(self, timeout)\u001b[0m\n\u001b[1;32m    300\u001b[0m \u001b[39mtry\u001b[39;00m:    \u001b[39m# restore state no matter what (e.g., KeyboardInterrupt)\u001b[39;00m\n\u001b[1;32m    301\u001b[0m     \u001b[39mif\u001b[39;00m timeout \u001b[39mis\u001b[39;00m \u001b[39mNone\u001b[39;00m:\n\u001b[0;32m--> 302\u001b[0m         waiter\u001b[39m.\u001b[39;49macquire()\n\u001b[1;32m    303\u001b[0m         gotit \u001b[39m=\u001b[39m \u001b[39mTrue\u001b[39;00m\n\u001b[1;32m    304\u001b[0m     \u001b[39melse\u001b[39;00m:\n",
      "\u001b[0;31mKeyboardInterrupt\u001b[0m: "
     ]
    }
   ],
   "source": [
    "# Avaliando o desempenho do SVM\n",
    "svm, list_confusion_matrix_svm, list_melhor_comb = do_cv(SVC, X.values, y, 10, 5, 2, False, {'gamma' : ['auto', 'scale'],\n",
    "                'C' : [1, 10, 100, 1000], 'kernel': ['rbf']})\n",
    "\n",
    "result_classifiers['svm'] = svm"
   ]
  },
  {
   "cell_type": "markdown",
   "id": "27313044",
   "metadata": {},
   "source": [
    "# result_classifiers SVM"
   ]
  },
  {
   "cell_type": "code",
   "execution_count": null,
   "id": "4e9f302d",
   "metadata": {},
   "outputs": [],
   "source": [
    "utils.imprimir_estatisticas(svm)"
   ]
  },
  {
   "cell_type": "markdown",
   "id": "0c3cb14f",
   "metadata": {},
   "source": [
    "Realizo a visualização das somas das matrizes de confusão obtidas ao executar o SVM."
   ]
  },
  {
   "cell_type": "code",
   "execution_count": 38,
   "id": "0c29c9a8",
   "metadata": {},
   "outputs": [
    {
     "ename": "NameError",
     "evalue": "name 'list_confusion_matrix_svm' is not defined",
     "output_type": "error",
     "traceback": [
      "\u001b[0;31m---------------------------------------------------------------------------\u001b[0m",
      "\u001b[0;31mNameError\u001b[0m                                 Traceback (most recent call last)",
      "\u001b[1;32m/home/juan_rangel/Documentos/MachineLearning/Atividade-6/atividade_6.ipynb Cell 23'\u001b[0m in \u001b[0;36m<cell line: 1>\u001b[0;34m()\u001b[0m\n\u001b[0;32m----> <a href='vscode-notebook-cell://wsl%2Bubuntu/home/juan_rangel/Documentos/MachineLearning/Atividade-6/atividade_6.ipynb#ch0000061vscode-remote?line=0'>1</a>\u001b[0m reduce_matrix_svm \u001b[39m=\u001b[39m functools\u001b[39m.\u001b[39mreduce(\u001b[39mlambda\u001b[39;00m x,y :  x \u001b[39m+\u001b[39m y, list_confusion_matrix_svm)\n\u001b[1;32m      <a href='vscode-notebook-cell://wsl%2Bubuntu/home/juan_rangel/Documentos/MachineLearning/Atividade-6/atividade_6.ipynb#ch0000061vscode-remote?line=2'>3</a>\u001b[0m disp_svm \u001b[39m=\u001b[39m ConfusionMatrixDisplay(confusion_matrix\u001b[39m=\u001b[39mreduce_matrix_svm)\n\u001b[1;32m      <a href='vscode-notebook-cell://wsl%2Bubuntu/home/juan_rangel/Documentos/MachineLearning/Atividade-6/atividade_6.ipynb#ch0000061vscode-remote?line=3'>4</a>\u001b[0m disp_svm\u001b[39m.\u001b[39mplot()\n",
      "\u001b[0;31mNameError\u001b[0m: name 'list_confusion_matrix_svm' is not defined"
     ]
    }
   ],
   "source": [
    "reduce_matrix_svm = functools.reduce(lambda x,y :  x + y, list_confusion_matrix_svm)\n",
    "\n",
    "disp_svm = ConfusionMatrixDisplay(confusion_matrix=reduce_matrix_svm)\n",
    "disp_svm.plot()"
   ]
  },
  {
   "cell_type": "markdown",
   "id": "60cf8fde",
   "metadata": {},
   "source": [
    "# Random Forest"
   ]
  },
  {
   "cell_type": "code",
   "execution_count": 15,
   "id": "0696df23",
   "metadata": {},
   "outputs": [
    {
     "data": {
      "application/vnd.jupyter.widget-view+json": {
       "model_id": "2d49e5b5a7b44869afdd24f8f382914a",
       "version_major": 2,
       "version_minor": 0
      },
      "text/plain": [
       "Folds avaliados:   0%|          | 0/10 [00:00<?, ?it/s]"
      ]
     },
     "metadata": {},
     "output_type": "display_data"
    },
    {
     "name": "stdout",
     "output_type": "stream",
     "text": [
      "              precision    recall  f1-score   support\n",
      "\n",
      "          -1       0.49      0.48      0.48       439\n",
      "           1       0.54      0.56      0.55       488\n",
      "\n",
      "    accuracy                           0.52       927\n",
      "   macro avg       0.52      0.52      0.52       927\n",
      "weighted avg       0.52      0.52      0.52       927\n",
      "\n",
      "{1, -1}\n",
      "{'n_estimators': 250} -- F1-Score: 0.5509586276488396\n",
      "              precision    recall  f1-score   support\n",
      "\n",
      "          -1       0.47      0.42      0.44       439\n",
      "           1       0.52      0.57      0.54       488\n",
      "\n",
      "    accuracy                           0.50       927\n",
      "   macro avg       0.50      0.50      0.49       927\n",
      "weighted avg       0.50      0.50      0.50       927\n",
      "\n",
      "{1, -1}\n",
      "{'n_estimators': 700} -- F1-Score: 0.5442043222003929\n",
      "              precision    recall  f1-score   support\n",
      "\n",
      "          -1       0.49      0.46      0.48       439\n",
      "           1       0.54      0.57      0.56       488\n",
      "\n",
      "    accuracy                           0.52       927\n",
      "   macro avg       0.52      0.52      0.52       927\n",
      "weighted avg       0.52      0.52      0.52       927\n",
      "\n",
      "{1, -1}\n",
      "{'n_estimators': 700} -- F1-Score: 0.5568862275449101\n",
      "              precision    recall  f1-score   support\n",
      "\n",
      "          -1       0.50      0.50      0.50       439\n",
      "           1       0.55      0.56      0.55       488\n",
      "\n",
      "    accuracy                           0.53       927\n",
      "   macro avg       0.53      0.53      0.53       927\n",
      "weighted avg       0.53      0.53      0.53       927\n",
      "\n",
      "{1, -1}\n",
      "{'n_estimators': 700} -- F1-Score: 0.5541922290388548\n",
      "              precision    recall  f1-score   support\n",
      "\n",
      "          -1       0.50      0.53      0.52       438\n",
      "           1       0.56      0.53      0.54       488\n",
      "\n",
      "    accuracy                           0.53       926\n",
      "   macro avg       0.53      0.53      0.53       926\n",
      "weighted avg       0.53      0.53      0.53       926\n",
      "\n",
      "{1, -1}\n",
      "{'n_estimators': 500} -- F1-Score: 0.5445026178010471\n",
      "              precision    recall  f1-score   support\n",
      "\n",
      "          -1       0.49      0.47      0.48       438\n",
      "           1       0.54      0.56      0.55       488\n",
      "\n",
      "    accuracy                           0.52       926\n",
      "   macro avg       0.52      0.52      0.52       926\n",
      "weighted avg       0.52      0.52      0.52       926\n",
      "\n",
      "{1, -1}\n",
      "{'n_estimators': 700} -- F1-Score: 0.5538771399798591\n",
      "              precision    recall  f1-score   support\n",
      "\n",
      "          -1       0.47      0.47      0.47       438\n",
      "           1       0.52      0.52      0.52       488\n",
      "\n",
      "    accuracy                           0.50       926\n",
      "   macro avg       0.49      0.49      0.49       926\n",
      "weighted avg       0.50      0.50      0.50       926\n",
      "\n",
      "{1, -1}\n",
      "{'n_estimators': 100} -- F1-Score: 0.5220061412487206\n",
      "              precision    recall  f1-score   support\n",
      "\n",
      "          -1       0.47      0.45      0.46       438\n",
      "           1       0.52      0.54      0.53       488\n",
      "\n",
      "    accuracy                           0.50       926\n",
      "   macro avg       0.50      0.50      0.50       926\n",
      "weighted avg       0.50      0.50      0.50       926\n",
      "\n",
      "{1, -1}\n",
      "{'n_estimators': 250} -- F1-Score: 0.5326633165829147\n",
      "              precision    recall  f1-score   support\n",
      "\n",
      "          -1       0.47      0.45      0.46       439\n",
      "           1       0.52      0.54      0.53       487\n",
      "\n",
      "    accuracy                           0.50       926\n",
      "   macro avg       0.50      0.50      0.50       926\n",
      "weighted avg       0.50      0.50      0.50       926\n",
      "\n",
      "{1, -1}\n",
      "{'n_estimators': 700} -- F1-Score: 0.5317220543806646\n",
      "              precision    recall  f1-score   support\n",
      "\n",
      "          -1       0.45      0.43      0.44       439\n",
      "           1       0.51      0.53      0.52       487\n",
      "\n",
      "    accuracy                           0.48       926\n",
      "   macro avg       0.48      0.48      0.48       926\n",
      "weighted avg       0.48      0.48      0.48       926\n",
      "\n",
      "{1, -1}\n",
      "{'n_estimators': 100} -- F1-Score: 0.5171026156941649\n"
     ]
    }
   ],
   "source": [
    "# Avaliando o desempenho do Random Forest\n",
    "random_forest, list_confusion_matrix_rf, list_melhor_comb = do_cv(RandomForestClassifier, X_pca_df.values, y, 10, 5, 2, False, {'n_estimators' : [100, 250, 500, 700]})\n",
    "result_classifiers['randomFor'] = random_forest"
   ]
  },
  {
   "cell_type": "code",
   "execution_count": 40,
   "id": "c25241b3",
   "metadata": {},
   "outputs": [
    {
     "name": "stdout",
     "output_type": "stream",
     "text": [
      "Resultados: 0.54 +- 0.01, min: 0.52, max: 0.56\n"
     ]
    }
   ],
   "source": [
    "utils.imprimir_estatisticas(random_forest)"
   ]
  },
  {
   "cell_type": "markdown",
   "id": "ad781beb",
   "metadata": {},
   "source": [
    "Realizo a visualização das somas das matrizes de confusão obtidas ao executar o Random Forest."
   ]
  },
  {
   "cell_type": "code",
   "execution_count": 39,
   "id": "3c396190",
   "metadata": {},
   "outputs": [
    {
     "data": {
      "text/plain": [
       "<sklearn.metrics._plot.confusion_matrix.ConfusionMatrixDisplay at 0x7f9b01f67a60>"
      ]
     },
     "execution_count": 39,
     "metadata": {},
     "output_type": "execute_result"
    },
    {
     "data": {
      "image/png": "[encoded data removed]",
      "text/plain": [
       "<Figure size 432x288 with 2 Axes>"
      ]
     },
     "metadata": {
      "needs_background": "light"
     },
     "output_type": "display_data"
    }
   ],
   "source": [
    "reduce_matrix_rf = functools.reduce(lambda x,y :  x + y, list_confusion_matrix_rf)\n",
    "\n",
    "disp_rf = ConfusionMatrixDisplay(confusion_matrix=reduce_matrix_rf)\n",
    "disp_rf.plot()"
   ]
  },
  {
   "cell_type": "markdown",
   "id": "5dddef83",
   "metadata": {},
   "source": [
    "# Testando KNN, SVM e Random Forest com PCA (2, 8, 16, 32 e 64 dimensões)"
   ]
  },
  {
   "cell_type": "markdown",
   "id": "e4dc41d4",
   "metadata": {},
   "source": [
    "Testa para todos os classificador utilizando diferentes valores para o tamanho da dimensão no PCA. Neste caso serão testados 5 valores de dimensões diferentes, sendo eles: 2 dimensões, 8, 16, 32 e 64 dimensões."
   ]
  },
  {
   "cell_type": "code",
   "execution_count": 36,
   "id": "e65adc21",
   "metadata": {},
   "outputs": [
    {
     "name": "stdout",
     "output_type": "stream",
     "text": [
      "2\n"
     ]
    },
    {
     "data": {
      "application/vnd.jupyter.widget-view+json": {
       "model_id": "68520ec793f7416fb543dd0d2a9cee09",
       "version_major": 2,
       "version_minor": 0
      },
      "text/plain": [
       "Folds avaliados:   0%|          | 0/10 [00:00<?, ?it/s]"
      ]
     },
     "metadata": {},
     "output_type": "display_data"
    },
    {
     "ename": "KeyboardInterrupt",
     "evalue": "",
     "output_type": "error",
     "traceback": [
      "\u001b[0;31m---------------------------------------------------------------------------\u001b[0m",
      "\u001b[0;31mKeyboardInterrupt\u001b[0m                         Traceback (most recent call last)",
      "\u001b[1;32m/home/juan_rangel/Documentos/MachineLearning/Atividade-6/atividade_6.ipynb Cell 26'\u001b[0m in \u001b[0;36m<cell line: 11>\u001b[0;34m()\u001b[0m\n\u001b[1;32m     <a href='vscode-notebook-cell://wsl%2Bubuntu/home/juan_rangel/Documentos/MachineLearning/Atividade-6/atividade_6.ipynb#ch0000052vscode-remote?line=12'>13</a>\u001b[0m \u001b[39mprint\u001b[39m(dimension)\n\u001b[1;32m     <a href='vscode-notebook-cell://wsl%2Bubuntu/home/juan_rangel/Documentos/MachineLearning/Atividade-6/atividade_6.ipynb#ch0000052vscode-remote?line=13'>14</a>\u001b[0m \u001b[39mfor\u001b[39;00m name_classifier, classifier_class, scale, params \u001b[39min\u001b[39;00m classifiers:\n\u001b[0;32m---> <a href='vscode-notebook-cell://wsl%2Bubuntu/home/juan_rangel/Documentos/MachineLearning/Atividade-6/atividade_6.ipynb#ch0000052vscode-remote?line=14'>15</a>\u001b[0m     result \u001b[39m=\u001b[39m do_cv(classifier_class, X\u001b[39m.\u001b[39;49mvalues, y, \u001b[39m10\u001b[39;49m, \u001b[39m5\u001b[39;49m, scale, pca, params)\n\u001b[1;32m     <a href='vscode-notebook-cell://wsl%2Bubuntu/home/juan_rangel/Documentos/MachineLearning/Atividade-6/atividade_6.ipynb#ch0000052vscode-remote?line=15'>16</a>\u001b[0m     resultados[name_classifier \u001b[39m+\u001b[39m \u001b[39m'\u001b[39m\u001b[39m_\u001b[39m\u001b[39m'\u001b[39m \u001b[39m+\u001b[39m \u001b[39mstr\u001b[39m(dimension)] \u001b[39m=\u001b[39m result\n",
      "\u001b[1;32m/home/juan_rangel/Documentos/MachineLearning/Atividade-6/atividade_6.ipynb Cell 17'\u001b[0m in \u001b[0;36mdo_cv\u001b[0;34m(classificador, X, y, cv_splits, param_cv_folds, n_jobs, scale, params)\u001b[0m\n\u001b[1;32m     <a href='vscode-notebook-cell://wsl%2Bubuntu/home/juan_rangel/Documentos/MachineLearning/Atividade-6/atividade_6.ipynb#ch0000015vscode-remote?line=25'>26</a>\u001b[0m     X_teste \u001b[39m=\u001b[39m ss\u001b[39m.\u001b[39mtransform(X_teste)\n\u001b[1;32m     <a href='vscode-notebook-cell://wsl%2Bubuntu/home/juan_rangel/Documentos/MachineLearning/Atividade-6/atividade_6.ipynb#ch0000015vscode-remote?line=26'>27</a>\u001b[0m     X_val \u001b[39m=\u001b[39m ss\u001b[39m.\u001b[39mtransform(X_val)        \n\u001b[0;32m---> <a href='vscode-notebook-cell://wsl%2Bubuntu/home/juan_rangel/Documentos/MachineLearning/Atividade-6/atividade_6.ipynb#ch0000015vscode-remote?line=28'>29</a>\u001b[0m modelo, melhor_comb, _ \u001b[39m=\u001b[39m selecionar_melhor_modelo(classificador, X_treino, X_val, y_treino, y_val, \n\u001b[1;32m     <a href='vscode-notebook-cell://wsl%2Bubuntu/home/juan_rangel/Documentos/MachineLearning/Atividade-6/atividade_6.ipynb#ch0000015vscode-remote?line=29'>30</a>\u001b[0m                                               n_jobs\u001b[39m=\u001b[39;49mn_jobs, cv_folds\u001b[39m=\u001b[39;49mparam_cv_folds, params\u001b[39m=\u001b[39;49mparams)\n\u001b[1;32m     <a href='vscode-notebook-cell://wsl%2Bubuntu/home/juan_rangel/Documentos/MachineLearning/Atividade-6/atividade_6.ipynb#ch0000015vscode-remote?line=30'>31</a>\u001b[0m pred \u001b[39m=\u001b[39m modelo\u001b[39m.\u001b[39mpredict(X_teste)\n\u001b[1;32m     <a href='vscode-notebook-cell://wsl%2Bubuntu/home/juan_rangel/Documentos/MachineLearning/Atividade-6/atividade_6.ipynb#ch0000015vscode-remote?line=31'>32</a>\u001b[0m predictions\u001b[39m.\u001b[39mappend(pred)\n",
      "\u001b[1;32m/home/juan_rangel/Documentos/MachineLearning/Atividade-6/atividade_6.ipynb Cell 14'\u001b[0m in \u001b[0;36mselecionar_melhor_modelo\u001b[0;34m(classificador, X_treino, X_val, y_treino, y_val, n_jobs, cv_folds, params)\u001b[0m\n\u001b[1;32m     <a href='vscode-notebook-cell://wsl%2Bubuntu/home/juan_rangel/Documentos/MachineLearning/Atividade-6/atividade_6.ipynb#ch0000013vscode-remote?line=19'>20</a>\u001b[0m clf \u001b[39m=\u001b[39m GridSearchCV(classificador(), params, cv\u001b[39m=\u001b[39mcv_folds, n_jobs\u001b[39m=\u001b[39mn_jobs, scoring\u001b[39m=\u001b[39mscore_fn)\n\u001b[1;32m     <a href='vscode-notebook-cell://wsl%2Bubuntu/home/juan_rangel/Documentos/MachineLearning/Atividade-6/atividade_6.ipynb#ch0000013vscode-remote?line=20'>21</a>\u001b[0m \u001b[39m#Passar todos os dados (Treino e Validação) para realizar a seleção dos parâmetros.\u001b[39;00m\n\u001b[0;32m---> <a href='vscode-notebook-cell://wsl%2Bubuntu/home/juan_rangel/Documentos/MachineLearning/Atividade-6/atividade_6.ipynb#ch0000013vscode-remote?line=21'>22</a>\u001b[0m clf\u001b[39m.\u001b[39;49mfit(np\u001b[39m.\u001b[39;49mvstack((X_treino, X_val)), [\u001b[39m*\u001b[39;49my_treino, \u001b[39m*\u001b[39;49my_val])\n\u001b[1;32m     <a href='vscode-notebook-cell://wsl%2Bubuntu/home/juan_rangel/Documentos/MachineLearning/Atividade-6/atividade_6.ipynb#ch0000013vscode-remote?line=23'>24</a>\u001b[0m melhor_comb \u001b[39m=\u001b[39m clf\u001b[39m.\u001b[39mbest_params_\n\u001b[1;32m     <a href='vscode-notebook-cell://wsl%2Bubuntu/home/juan_rangel/Documentos/MachineLearning/Atividade-6/atividade_6.ipynb#ch0000013vscode-remote?line=24'>25</a>\u001b[0m melhor_val \u001b[39m=\u001b[39m clf\u001b[39m.\u001b[39mbest_score_\n",
      "File \u001b[0;32m~/.local/lib/python3.8/site-packages/sklearn/utils/validation.py:63\u001b[0m, in \u001b[0;36m_deprecate_positional_args.<locals>._inner_deprecate_positional_args.<locals>.inner_f\u001b[0;34m(*args, **kwargs)\u001b[0m\n\u001b[1;32m     61\u001b[0m extra_args \u001b[39m=\u001b[39m \u001b[39mlen\u001b[39m(args) \u001b[39m-\u001b[39m \u001b[39mlen\u001b[39m(all_args)\n\u001b[1;32m     62\u001b[0m \u001b[39mif\u001b[39;00m extra_args \u001b[39m<\u001b[39m\u001b[39m=\u001b[39m \u001b[39m0\u001b[39m:\n\u001b[0;32m---> 63\u001b[0m     \u001b[39mreturn\u001b[39;00m f(\u001b[39m*\u001b[39;49margs, \u001b[39m*\u001b[39;49m\u001b[39m*\u001b[39;49mkwargs)\n\u001b[1;32m     65\u001b[0m \u001b[39m# extra_args > 0\u001b[39;00m\n\u001b[1;32m     66\u001b[0m args_msg \u001b[39m=\u001b[39m [\u001b[39m'\u001b[39m\u001b[39m{}\u001b[39;00m\u001b[39m=\u001b[39m\u001b[39m{}\u001b[39;00m\u001b[39m'\u001b[39m\u001b[39m.\u001b[39mformat(name, arg)\n\u001b[1;32m     67\u001b[0m             \u001b[39mfor\u001b[39;00m name, arg \u001b[39min\u001b[39;00m \u001b[39mzip\u001b[39m(kwonly_args[:extra_args],\n\u001b[1;32m     68\u001b[0m                                  args[\u001b[39m-\u001b[39mextra_args:])]\n",
      "File \u001b[0;32m~/.local/lib/python3.8/site-packages/sklearn/model_selection/_search.py:841\u001b[0m, in \u001b[0;36mBaseSearchCV.fit\u001b[0;34m(self, X, y, groups, **fit_params)\u001b[0m\n\u001b[1;32m    835\u001b[0m     results \u001b[39m=\u001b[39m \u001b[39mself\u001b[39m\u001b[39m.\u001b[39m_format_results(\n\u001b[1;32m    836\u001b[0m         all_candidate_params, n_splits, all_out,\n\u001b[1;32m    837\u001b[0m         all_more_results)\n\u001b[1;32m    839\u001b[0m     \u001b[39mreturn\u001b[39;00m results\n\u001b[0;32m--> 841\u001b[0m \u001b[39mself\u001b[39;49m\u001b[39m.\u001b[39;49m_run_search(evaluate_candidates)\n\u001b[1;32m    843\u001b[0m \u001b[39m# multimetric is determined here because in the case of a callable\u001b[39;00m\n\u001b[1;32m    844\u001b[0m \u001b[39m# self.scoring the return type is only known after calling\u001b[39;00m\n\u001b[1;32m    845\u001b[0m first_test_score \u001b[39m=\u001b[39m all_out[\u001b[39m0\u001b[39m][\u001b[39m'\u001b[39m\u001b[39mtest_scores\u001b[39m\u001b[39m'\u001b[39m]\n",
      "File \u001b[0;32m~/.local/lib/python3.8/site-packages/sklearn/model_selection/_search.py:1296\u001b[0m, in \u001b[0;36mGridSearchCV._run_search\u001b[0;34m(self, evaluate_candidates)\u001b[0m\n\u001b[1;32m   1294\u001b[0m \u001b[39mdef\u001b[39;00m \u001b[39m_run_search\u001b[39m(\u001b[39mself\u001b[39m, evaluate_candidates):\n\u001b[1;32m   1295\u001b[0m     \u001b[39m\"\"\"Search all candidates in param_grid\"\"\"\u001b[39;00m\n\u001b[0;32m-> 1296\u001b[0m     evaluate_candidates(ParameterGrid(\u001b[39mself\u001b[39;49m\u001b[39m.\u001b[39;49mparam_grid))\n",
      "File \u001b[0;32m~/.local/lib/python3.8/site-packages/sklearn/model_selection/_search.py:795\u001b[0m, in \u001b[0;36mBaseSearchCV.fit.<locals>.evaluate_candidates\u001b[0;34m(candidate_params, cv, more_results)\u001b[0m\n\u001b[1;32m    790\u001b[0m \u001b[39mif\u001b[39;00m \u001b[39mself\u001b[39m\u001b[39m.\u001b[39mverbose \u001b[39m>\u001b[39m \u001b[39m0\u001b[39m:\n\u001b[1;32m    791\u001b[0m     \u001b[39mprint\u001b[39m(\u001b[39m\"\u001b[39m\u001b[39mFitting \u001b[39m\u001b[39m{0}\u001b[39;00m\u001b[39m folds for each of \u001b[39m\u001b[39m{1}\u001b[39;00m\u001b[39m candidates,\u001b[39m\u001b[39m\"\u001b[39m\n\u001b[1;32m    792\u001b[0m           \u001b[39m\"\u001b[39m\u001b[39m totalling \u001b[39m\u001b[39m{2}\u001b[39;00m\u001b[39m fits\u001b[39m\u001b[39m\"\u001b[39m\u001b[39m.\u001b[39mformat(\n\u001b[1;32m    793\u001b[0m               n_splits, n_candidates, n_candidates \u001b[39m*\u001b[39m n_splits))\n\u001b[0;32m--> 795\u001b[0m out \u001b[39m=\u001b[39m parallel(delayed(_fit_and_score)(clone(base_estimator),\n\u001b[1;32m    796\u001b[0m                                        X, y,\n\u001b[1;32m    797\u001b[0m                                        train\u001b[39m=\u001b[39;49mtrain, test\u001b[39m=\u001b[39;49mtest,\n\u001b[1;32m    798\u001b[0m                                        parameters\u001b[39m=\u001b[39;49mparameters,\n\u001b[1;32m    799\u001b[0m                                        split_progress\u001b[39m=\u001b[39;49m(\n\u001b[1;32m    800\u001b[0m                                            split_idx,\n\u001b[1;32m    801\u001b[0m                                            n_splits),\n\u001b[1;32m    802\u001b[0m                                        candidate_progress\u001b[39m=\u001b[39;49m(\n\u001b[1;32m    803\u001b[0m                                            cand_idx,\n\u001b[1;32m    804\u001b[0m                                            n_candidates),\n\u001b[1;32m    805\u001b[0m                                        \u001b[39m*\u001b[39;49m\u001b[39m*\u001b[39;49mfit_and_score_kwargs)\n\u001b[1;32m    806\u001b[0m                \u001b[39mfor\u001b[39;49;00m (cand_idx, parameters),\n\u001b[1;32m    807\u001b[0m                    (split_idx, (train, test)) \u001b[39min\u001b[39;49;00m product(\n\u001b[1;32m    808\u001b[0m                    \u001b[39menumerate\u001b[39;49m(candidate_params),\n\u001b[1;32m    809\u001b[0m                    \u001b[39menumerate\u001b[39;49m(cv\u001b[39m.\u001b[39;49msplit(X, y, groups))))\n\u001b[1;32m    811\u001b[0m \u001b[39mif\u001b[39;00m \u001b[39mlen\u001b[39m(out) \u001b[39m<\u001b[39m \u001b[39m1\u001b[39m:\n\u001b[1;32m    812\u001b[0m     \u001b[39mraise\u001b[39;00m \u001b[39mValueError\u001b[39;00m(\u001b[39m'\u001b[39m\u001b[39mNo fits were performed. \u001b[39m\u001b[39m'\u001b[39m\n\u001b[1;32m    813\u001b[0m                      \u001b[39m'\u001b[39m\u001b[39mWas the CV iterator empty? \u001b[39m\u001b[39m'\u001b[39m\n\u001b[1;32m    814\u001b[0m                      \u001b[39m'\u001b[39m\u001b[39mWere there no candidates?\u001b[39m\u001b[39m'\u001b[39m)\n",
      "File \u001b[0;32m~/.local/lib/python3.8/site-packages/joblib/parallel.py:1041\u001b[0m, in \u001b[0;36mParallel.__call__\u001b[0;34m(self, iterable)\u001b[0m\n\u001b[1;32m   1032\u001b[0m \u001b[39mtry\u001b[39;00m:\n\u001b[1;32m   1033\u001b[0m     \u001b[39m# Only set self._iterating to True if at least a batch\u001b[39;00m\n\u001b[1;32m   1034\u001b[0m     \u001b[39m# was dispatched. In particular this covers the edge\u001b[39;00m\n\u001b[0;32m   (...)\u001b[0m\n\u001b[1;32m   1038\u001b[0m     \u001b[39m# was very quick and its callback already dispatched all the\u001b[39;00m\n\u001b[1;32m   1039\u001b[0m     \u001b[39m# remaining jobs.\u001b[39;00m\n\u001b[1;32m   1040\u001b[0m     \u001b[39mself\u001b[39m\u001b[39m.\u001b[39m_iterating \u001b[39m=\u001b[39m \u001b[39mFalse\u001b[39;00m\n\u001b[0;32m-> 1041\u001b[0m     \u001b[39mif\u001b[39;00m \u001b[39mself\u001b[39;49m\u001b[39m.\u001b[39;49mdispatch_one_batch(iterator):\n\u001b[1;32m   1042\u001b[0m         \u001b[39mself\u001b[39m\u001b[39m.\u001b[39m_iterating \u001b[39m=\u001b[39m \u001b[39mself\u001b[39m\u001b[39m.\u001b[39m_original_iterator \u001b[39mis\u001b[39;00m \u001b[39mnot\u001b[39;00m \u001b[39mNone\u001b[39;00m\n\u001b[1;32m   1044\u001b[0m     \u001b[39mwhile\u001b[39;00m \u001b[39mself\u001b[39m\u001b[39m.\u001b[39mdispatch_one_batch(iterator):\n",
      "File \u001b[0;32m~/.local/lib/python3.8/site-packages/joblib/parallel.py:859\u001b[0m, in \u001b[0;36mParallel.dispatch_one_batch\u001b[0;34m(self, iterator)\u001b[0m\n\u001b[1;32m    857\u001b[0m     \u001b[39mreturn\u001b[39;00m \u001b[39mFalse\u001b[39;00m\n\u001b[1;32m    858\u001b[0m \u001b[39melse\u001b[39;00m:\n\u001b[0;32m--> 859\u001b[0m     \u001b[39mself\u001b[39;49m\u001b[39m.\u001b[39;49m_dispatch(tasks)\n\u001b[1;32m    860\u001b[0m     \u001b[39mreturn\u001b[39;00m \u001b[39mTrue\u001b[39;00m\n",
      "File \u001b[0;32m~/.local/lib/python3.8/site-packages/joblib/parallel.py:777\u001b[0m, in \u001b[0;36mParallel._dispatch\u001b[0;34m(self, batch)\u001b[0m\n\u001b[1;32m    775\u001b[0m \u001b[39mwith\u001b[39;00m \u001b[39mself\u001b[39m\u001b[39m.\u001b[39m_lock:\n\u001b[1;32m    776\u001b[0m     job_idx \u001b[39m=\u001b[39m \u001b[39mlen\u001b[39m(\u001b[39mself\u001b[39m\u001b[39m.\u001b[39m_jobs)\n\u001b[0;32m--> 777\u001b[0m     job \u001b[39m=\u001b[39m \u001b[39mself\u001b[39;49m\u001b[39m.\u001b[39;49m_backend\u001b[39m.\u001b[39;49mapply_async(batch, callback\u001b[39m=\u001b[39;49mcb)\n\u001b[1;32m    778\u001b[0m     \u001b[39m# A job can complete so quickly than its callback is\u001b[39;00m\n\u001b[1;32m    779\u001b[0m     \u001b[39m# called before we get here, causing self._jobs to\u001b[39;00m\n\u001b[1;32m    780\u001b[0m     \u001b[39m# grow. To ensure correct results ordering, .insert is\u001b[39;00m\n\u001b[1;32m    781\u001b[0m     \u001b[39m# used (rather than .append) in the following line\u001b[39;00m\n\u001b[1;32m    782\u001b[0m     \u001b[39mself\u001b[39m\u001b[39m.\u001b[39m_jobs\u001b[39m.\u001b[39minsert(job_idx, job)\n",
      "File \u001b[0;32m~/.local/lib/python3.8/site-packages/joblib/_parallel_backends.py:208\u001b[0m, in \u001b[0;36mSequentialBackend.apply_async\u001b[0;34m(self, func, callback)\u001b[0m\n\u001b[1;32m    206\u001b[0m \u001b[39mdef\u001b[39;00m \u001b[39mapply_async\u001b[39m(\u001b[39mself\u001b[39m, func, callback\u001b[39m=\u001b[39m\u001b[39mNone\u001b[39;00m):\n\u001b[1;32m    207\u001b[0m     \u001b[39m\"\"\"Schedule a func to be run\"\"\"\u001b[39;00m\n\u001b[0;32m--> 208\u001b[0m     result \u001b[39m=\u001b[39m ImmediateResult(func)\n\u001b[1;32m    209\u001b[0m     \u001b[39mif\u001b[39;00m callback:\n\u001b[1;32m    210\u001b[0m         callback(result)\n",
      "File \u001b[0;32m~/.local/lib/python3.8/site-packages/joblib/_parallel_backends.py:572\u001b[0m, in \u001b[0;36mImmediateResult.__init__\u001b[0;34m(self, batch)\u001b[0m\n\u001b[1;32m    569\u001b[0m \u001b[39mdef\u001b[39;00m \u001b[39m__init__\u001b[39m(\u001b[39mself\u001b[39m, batch):\n\u001b[1;32m    570\u001b[0m     \u001b[39m# Don't delay the application, to avoid keeping the input\u001b[39;00m\n\u001b[1;32m    571\u001b[0m     \u001b[39m# arguments in memory\u001b[39;00m\n\u001b[0;32m--> 572\u001b[0m     \u001b[39mself\u001b[39m\u001b[39m.\u001b[39mresults \u001b[39m=\u001b[39m batch()\n",
      "File \u001b[0;32m~/.local/lib/python3.8/site-packages/joblib/parallel.py:262\u001b[0m, in \u001b[0;36mBatchedCalls.__call__\u001b[0;34m(self)\u001b[0m\n\u001b[1;32m    258\u001b[0m \u001b[39mdef\u001b[39;00m \u001b[39m__call__\u001b[39m(\u001b[39mself\u001b[39m):\n\u001b[1;32m    259\u001b[0m     \u001b[39m# Set the default nested backend to self._backend but do not set the\u001b[39;00m\n\u001b[1;32m    260\u001b[0m     \u001b[39m# change the default number of processes to -1\u001b[39;00m\n\u001b[1;32m    261\u001b[0m     \u001b[39mwith\u001b[39;00m parallel_backend(\u001b[39mself\u001b[39m\u001b[39m.\u001b[39m_backend, n_jobs\u001b[39m=\u001b[39m\u001b[39mself\u001b[39m\u001b[39m.\u001b[39m_n_jobs):\n\u001b[0;32m--> 262\u001b[0m         \u001b[39mreturn\u001b[39;00m [func(\u001b[39m*\u001b[39margs, \u001b[39m*\u001b[39m\u001b[39m*\u001b[39mkwargs)\n\u001b[1;32m    263\u001b[0m                 \u001b[39mfor\u001b[39;00m func, args, kwargs \u001b[39min\u001b[39;00m \u001b[39mself\u001b[39m\u001b[39m.\u001b[39mitems]\n",
      "File \u001b[0;32m~/.local/lib/python3.8/site-packages/joblib/parallel.py:262\u001b[0m, in \u001b[0;36m<listcomp>\u001b[0;34m(.0)\u001b[0m\n\u001b[1;32m    258\u001b[0m \u001b[39mdef\u001b[39;00m \u001b[39m__call__\u001b[39m(\u001b[39mself\u001b[39m):\n\u001b[1;32m    259\u001b[0m     \u001b[39m# Set the default nested backend to self._backend but do not set the\u001b[39;00m\n\u001b[1;32m    260\u001b[0m     \u001b[39m# change the default number of processes to -1\u001b[39;00m\n\u001b[1;32m    261\u001b[0m     \u001b[39mwith\u001b[39;00m parallel_backend(\u001b[39mself\u001b[39m\u001b[39m.\u001b[39m_backend, n_jobs\u001b[39m=\u001b[39m\u001b[39mself\u001b[39m\u001b[39m.\u001b[39m_n_jobs):\n\u001b[0;32m--> 262\u001b[0m         \u001b[39mreturn\u001b[39;00m [func(\u001b[39m*\u001b[39;49margs, \u001b[39m*\u001b[39;49m\u001b[39m*\u001b[39;49mkwargs)\n\u001b[1;32m    263\u001b[0m                 \u001b[39mfor\u001b[39;00m func, args, kwargs \u001b[39min\u001b[39;00m \u001b[39mself\u001b[39m\u001b[39m.\u001b[39mitems]\n",
      "File \u001b[0;32m~/.local/lib/python3.8/site-packages/sklearn/utils/fixes.py:222\u001b[0m, in \u001b[0;36m_FuncWrapper.__call__\u001b[0;34m(self, *args, **kwargs)\u001b[0m\n\u001b[1;32m    220\u001b[0m \u001b[39mdef\u001b[39;00m \u001b[39m__call__\u001b[39m(\u001b[39mself\u001b[39m, \u001b[39m*\u001b[39margs, \u001b[39m*\u001b[39m\u001b[39m*\u001b[39mkwargs):\n\u001b[1;32m    221\u001b[0m     \u001b[39mwith\u001b[39;00m config_context(\u001b[39m*\u001b[39m\u001b[39m*\u001b[39m\u001b[39mself\u001b[39m\u001b[39m.\u001b[39mconfig):\n\u001b[0;32m--> 222\u001b[0m         \u001b[39mreturn\u001b[39;00m \u001b[39mself\u001b[39;49m\u001b[39m.\u001b[39;49mfunction(\u001b[39m*\u001b[39;49margs, \u001b[39m*\u001b[39;49m\u001b[39m*\u001b[39;49mkwargs)\n",
      "File \u001b[0;32m~/.local/lib/python3.8/site-packages/sklearn/model_selection/_validation.py:590\u001b[0m, in \u001b[0;36m_fit_and_score\u001b[0;34m(estimator, X, y, scorer, train, test, verbose, parameters, fit_params, return_train_score, return_parameters, return_n_test_samples, return_times, return_estimator, split_progress, candidate_progress, error_score)\u001b[0m\n\u001b[1;32m    586\u001b[0m     estimator \u001b[39m=\u001b[39m estimator\u001b[39m.\u001b[39mset_params(\u001b[39m*\u001b[39m\u001b[39m*\u001b[39mcloned_parameters)\n\u001b[1;32m    588\u001b[0m start_time \u001b[39m=\u001b[39m time\u001b[39m.\u001b[39mtime()\n\u001b[0;32m--> 590\u001b[0m X_train, y_train \u001b[39m=\u001b[39m _safe_split(estimator, X, y, train)\n\u001b[1;32m    591\u001b[0m X_test, y_test \u001b[39m=\u001b[39m _safe_split(estimator, X, y, test, train)\n\u001b[1;32m    593\u001b[0m result \u001b[39m=\u001b[39m {}\n",
      "File \u001b[0;32m~/.local/lib/python3.8/site-packages/sklearn/utils/metaestimators.py:211\u001b[0m, in \u001b[0;36m_safe_split\u001b[0;34m(estimator, X, y, indices, train_indices)\u001b[0m\n\u001b[1;32m    209\u001b[0m         X_subset \u001b[39m=\u001b[39m X[np\u001b[39m.\u001b[39mix_(indices, train_indices)]\n\u001b[1;32m    210\u001b[0m \u001b[39melse\u001b[39;00m:\n\u001b[0;32m--> 211\u001b[0m     X_subset \u001b[39m=\u001b[39m _safe_indexing(X, indices)\n\u001b[1;32m    213\u001b[0m \u001b[39mif\u001b[39;00m y \u001b[39mis\u001b[39;00m \u001b[39mnot\u001b[39;00m \u001b[39mNone\u001b[39;00m:\n\u001b[1;32m    214\u001b[0m     y_subset \u001b[39m=\u001b[39m _safe_indexing(y, indices)\n",
      "File \u001b[0;32m~/.local/lib/python3.8/site-packages/sklearn/utils/__init__.py:344\u001b[0m, in \u001b[0;36m_safe_indexing\u001b[0;34m(X, indices, axis)\u001b[0m\n\u001b[1;32m    342\u001b[0m     \u001b[39mreturn\u001b[39;00m _pandas_indexing(X, indices, indices_dtype, axis\u001b[39m=\u001b[39maxis)\n\u001b[1;32m    343\u001b[0m \u001b[39melif\u001b[39;00m \u001b[39mhasattr\u001b[39m(X, \u001b[39m\"\u001b[39m\u001b[39mshape\u001b[39m\u001b[39m\"\u001b[39m):\n\u001b[0;32m--> 344\u001b[0m     \u001b[39mreturn\u001b[39;00m _array_indexing(X, indices, indices_dtype, axis\u001b[39m=\u001b[39;49maxis)\n\u001b[1;32m    345\u001b[0m \u001b[39melse\u001b[39;00m:\n\u001b[1;32m    346\u001b[0m     \u001b[39mreturn\u001b[39;00m _list_indexing(X, indices, indices_dtype)\n",
      "File \u001b[0;32m~/.local/lib/python3.8/site-packages/sklearn/utils/__init__.py:179\u001b[0m, in \u001b[0;36m_array_indexing\u001b[0;34m(array, key, key_dtype, axis)\u001b[0m\n\u001b[1;32m    177\u001b[0m \u001b[39mif\u001b[39;00m \u001b[39misinstance\u001b[39m(key, \u001b[39mtuple\u001b[39m):\n\u001b[1;32m    178\u001b[0m     key \u001b[39m=\u001b[39m \u001b[39mlist\u001b[39m(key)\n\u001b[0;32m--> 179\u001b[0m \u001b[39mreturn\u001b[39;00m array[key] \u001b[39mif\u001b[39;00m axis \u001b[39m==\u001b[39m \u001b[39m0\u001b[39m \u001b[39melse\u001b[39;00m array[:, key]\n",
      "\u001b[0;31mKeyboardInterrupt\u001b[0m: "
     ]
    }
   ],
   "source": [
    "qtd_dimensions_pca = [2,8,16,32,64]\n",
    "\n",
    "knn_classifier = ('knn', KNeighborsClassifier, True, {'n_neighbors' : range(1,30,2)})\n",
    "\n",
    "svm_classifier = ('svm', SVC, True, {'C' : [1, 10, 100, 1000], 'gamma' : ['auto', 'scale']})\n",
    "\n",
    "random_forest = ('rf', RandomForestClassifier, False, {'criterion' : ['gini', 'entropy'], 'random_state' : [1]})\n",
    "\n",
    "classifiers = [knn_classifier, svm_classifier, random_forest]\n",
    "\n",
    "for dimension in qtd_dimensions_pca:\n",
    "    pca = PCA(n_components=dimension)\n",
    "    print(dimension)\n",
    "    for name_classifier, classifier_class, scale, params in classifiers:\n",
    "        result = do_cv(classifier_class, X.values, y, 10, 5, scale, pca, params)\n",
    "        result_classifiers[name_classifier + '_' + str(dimension)] = result\n"
   ]
  },
  {
   "cell_type": "markdown",
   "id": "4312431b",
   "metadata": {},
   "source": [
    "# Resultados de todos os testes\n",
    "Imprime os resultados de todos os testes realizados."
   ]
  },
  {
   "cell_type": "code",
   "execution_count": null,
   "id": "9a0e0691",
   "metadata": {},
   "outputs": [],
   "source": [
    "for result in sorted(result_classifiers):\n",
    "    print(result.rjust(10, end= ' - '))\n",
    "    utils.imprimir_estatisticas(result_classifiers[result])"
   ]
  },
  {
   "cell_type": "markdown",
   "id": "efe0c98d",
   "metadata": {},
   "source": [
    "# Teste-T\n",
    "Realiza o teste-t entre todos os resultados obtidos com e sem redução de dimensionalidade."
   ]
  },
  {
   "cell_type": "code",
   "execution_count": null,
   "id": "d9ebd637",
   "metadata": {},
   "outputs": [],
   "source": [
    "utils.print_t_tests(result_classifiers, cols=['knn', 'rf', 'svm'])"
   ]
  },
  {
   "cell_type": "markdown",
   "id": "294ea503",
   "metadata": {},
   "source": [
    "# Discussão dos result_classifiers"
   ]
  },
  {
   "cell_type": "markdown",
   "id": "18acbf4a",
   "metadata": {},
   "source": [
    "OBS: Resultados ainda serão adicionados"
   ]
  }
 ],
 "metadata": {
  "kernelspec": {
   "display_name": "Python 3.8.10 64-bit",
   "language": "python",
   "name": "python3"
  },
  "language_info": {
   "codemirror_mode": {
    "name": "ipython",
    "version": 3
   },
   "file_extension": ".py",
   "mimetype": "text/x-python",
   "name": "python",
   "nbconvert_exporter": "python",
   "pygments_lexer": "ipython3",
   "version": "3.8.10"
  },
  "vscode": {
   "interpreter": {
    "hash": "916dbcbb3f70747c44a77c7bcd40155683ae19c65e1c03b4aa3499c5328201f1"
   }
  }
 },
 "nbformat": 4,
 "nbformat_minor": 5
}
