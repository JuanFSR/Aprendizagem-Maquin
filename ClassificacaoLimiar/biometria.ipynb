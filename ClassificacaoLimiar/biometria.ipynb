{
 "cells": [
  {
   "cell_type": "code",
   "execution_count": 3,
   "id": "f7372cb8-22f0-4bd2-a55e-abb5a0d2b027",
   "metadata": {},
   "outputs": [
    {
     "name": "stderr",
     "output_type": "stream",
     "text": [
      "Matplotlib is building the font cache; this may take a moment.\n"
     ]
    }
   ],
   "source": [
    "import numpy as np\n",
    "import pandas as pd\n",
    "import matplotlib.pyplot as plt\n",
    "import seaborn as sns\n",
    "\n",
    "%matplotlib inline"
   ]
  },
  {
   "cell_type": "code",
   "execution_count": 6,
   "id": "38b8b1a7-9d5a-44da-9bc2-5fac50b68dbb",
   "metadata": {},
   "outputs": [
    {
     "data": {
      "text/html": [
       "<div>\n",
       "<style scoped>\n",
       "    .dataframe tbody tr th:only-of-type {\n",
       "        vertical-align: middle;\n",
       "    }\n",
       "\n",
       "    .dataframe tbody tr th {\n",
       "        vertical-align: top;\n",
       "    }\n",
       "\n",
       "    .dataframe thead th {\n",
       "        text-align: right;\n",
       "    }\n",
       "</style>\n",
       "<table border=\"1\" class=\"dataframe\">\n",
       "  <thead>\n",
       "    <tr style=\"text-align: right;\">\n",
       "      <th></th>\n",
       "      <th>Esporte</th>\n",
       "      <th>Altura (m)</th>\n",
       "      <th>Peso (kg)</th>\n",
       "    </tr>\n",
       "  </thead>\n",
       "  <tbody>\n",
       "    <tr>\n",
       "      <th>0</th>\n",
       "      <td>V</td>\n",
       "      <td>1.90</td>\n",
       "      <td>76</td>\n",
       "    </tr>\n",
       "    <tr>\n",
       "      <th>1</th>\n",
       "      <td>V</td>\n",
       "      <td>1.98</td>\n",
       "      <td>70</td>\n",
       "    </tr>\n",
       "    <tr>\n",
       "      <th>2</th>\n",
       "      <td>V</td>\n",
       "      <td>2.04</td>\n",
       "      <td>101</td>\n",
       "    </tr>\n",
       "    <tr>\n",
       "      <th>3</th>\n",
       "      <td>V</td>\n",
       "      <td>1.88</td>\n",
       "      <td>77</td>\n",
       "    </tr>\n",
       "    <tr>\n",
       "      <th>4</th>\n",
       "      <td>V</td>\n",
       "      <td>2.14</td>\n",
       "      <td>109</td>\n",
       "    </tr>\n",
       "  </tbody>\n",
       "</table>\n",
       "</div>"
      ],
      "text/plain": [
       "  Esporte  Altura (m)  Peso (kg)\n",
       "0       V        1.90         76\n",
       "1       V        1.98         70\n",
       "2       V        2.04        101\n",
       "3       V        1.88         77\n",
       "4       V        2.14        109"
      ]
     },
     "execution_count": 6,
     "metadata": {},
     "output_type": "execute_result"
    }
   ],
   "source": [
    "df = pd.read_csv(\"biometria.csv\")\n",
    "df.head()"
   ]
  },
  {
   "cell_type": "code",
   "execution_count": 7,
   "id": "8077349a-682b-48e5-a20a-ab6f1552bb62",
   "metadata": {},
   "outputs": [
    {
     "data": {
      "text/html": [
       "<div>\n",
       "<style scoped>\n",
       "    .dataframe tbody tr th:only-of-type {\n",
       "        vertical-align: middle;\n",
       "    }\n",
       "\n",
       "    .dataframe tbody tr th {\n",
       "        vertical-align: top;\n",
       "    }\n",
       "\n",
       "    .dataframe thead tr th {\n",
       "        text-align: left;\n",
       "    }\n",
       "\n",
       "    .dataframe thead tr:last-of-type th {\n",
       "        text-align: right;\n",
       "    }\n",
       "</style>\n",
       "<table border=\"1\" class=\"dataframe\">\n",
       "  <thead>\n",
       "    <tr>\n",
       "      <th></th>\n",
       "      <th colspan=\"8\" halign=\"left\">Altura (m)</th>\n",
       "      <th colspan=\"8\" halign=\"left\">Peso (kg)</th>\n",
       "    </tr>\n",
       "    <tr>\n",
       "      <th></th>\n",
       "      <th>count</th>\n",
       "      <th>mean</th>\n",
       "      <th>std</th>\n",
       "      <th>min</th>\n",
       "      <th>25%</th>\n",
       "      <th>50%</th>\n",
       "      <th>75%</th>\n",
       "      <th>max</th>\n",
       "      <th>count</th>\n",
       "      <th>mean</th>\n",
       "      <th>std</th>\n",
       "      <th>min</th>\n",
       "      <th>25%</th>\n",
       "      <th>50%</th>\n",
       "      <th>75%</th>\n",
       "      <th>max</th>\n",
       "    </tr>\n",
       "    <tr>\n",
       "      <th>Esporte</th>\n",
       "      <th></th>\n",
       "      <th></th>\n",
       "      <th></th>\n",
       "      <th></th>\n",
       "      <th></th>\n",
       "      <th></th>\n",
       "      <th></th>\n",
       "      <th></th>\n",
       "      <th></th>\n",
       "      <th></th>\n",
       "      <th></th>\n",
       "      <th></th>\n",
       "      <th></th>\n",
       "      <th></th>\n",
       "      <th></th>\n",
       "      <th></th>\n",
       "    </tr>\n",
       "  </thead>\n",
       "  <tbody>\n",
       "    <tr>\n",
       "      <th>F</th>\n",
       "      <td>23.0</td>\n",
       "      <td>1.813478</td>\n",
       "      <td>0.070878</td>\n",
       "      <td>1.63</td>\n",
       "      <td>1.765</td>\n",
       "      <td>1.81</td>\n",
       "      <td>1.8700</td>\n",
       "      <td>1.93</td>\n",
       "      <td>23.0</td>\n",
       "      <td>75.000000</td>\n",
       "      <td>7.537784</td>\n",
       "      <td>60.0</td>\n",
       "      <td>69.50</td>\n",
       "      <td>76.0</td>\n",
       "      <td>79.5</td>\n",
       "      <td>88.0</td>\n",
       "    </tr>\n",
       "    <tr>\n",
       "      <th>V</th>\n",
       "      <td>22.0</td>\n",
       "      <td>1.986818</td>\n",
       "      <td>0.081497</td>\n",
       "      <td>1.85</td>\n",
       "      <td>1.925</td>\n",
       "      <td>1.98</td>\n",
       "      <td>2.0475</td>\n",
       "      <td>2.14</td>\n",
       "      <td>22.0</td>\n",
       "      <td>86.863636</td>\n",
       "      <td>10.273848</td>\n",
       "      <td>70.0</td>\n",
       "      <td>78.25</td>\n",
       "      <td>85.5</td>\n",
       "      <td>93.0</td>\n",
       "      <td>109.0</td>\n",
       "    </tr>\n",
       "  </tbody>\n",
       "</table>\n",
       "</div>"
      ],
      "text/plain": [
       "        Altura (m)                                                       \\\n",
       "             count      mean       std   min    25%   50%     75%   max   \n",
       "Esporte                                                                   \n",
       "F             23.0  1.813478  0.070878  1.63  1.765  1.81  1.8700  1.93   \n",
       "V             22.0  1.986818  0.081497  1.85  1.925  1.98  2.0475  2.14   \n",
       "\n",
       "        Peso (kg)                                                        \n",
       "            count       mean        std   min    25%   50%   75%    max  \n",
       "Esporte                                                                  \n",
       "F            23.0  75.000000   7.537784  60.0  69.50  76.0  79.5   88.0  \n",
       "V            22.0  86.863636  10.273848  70.0  78.25  85.5  93.0  109.0  "
      ]
     },
     "execution_count": 7,
     "metadata": {},
     "output_type": "execute_result"
    }
   ],
   "source": [
    "df.groupby(\"Esporte\").describe()"
   ]
  },
  {
   "cell_type": "code",
   "execution_count": 8,
   "id": "05b8438c-b04c-42ba-94f9-7225bb753944",
   "metadata": {},
   "outputs": [
    {
     "data": {
      "text/plain": [
       "<AxesSubplot:xlabel='Altura (m)', ylabel='Count'>"
      ]
     },
     "execution_count": 8,
     "metadata": {},
     "output_type": "execute_result"
    },
    {
     "data": {
      "image/png": "[encoded data removed]",
      "text/plain": [
       "<Figure size 432x288 with 1 Axes>"
      ]
     },
     "metadata": {
      "needs_background": "light"
     },
     "output_type": "display_data"
    }
   ],
   "source": [
    "sns.histplot(data=df, bins=10, x='Altura (m)', hue='Esporte')"
   ]
  },
  {
   "cell_type": "code",
   "execution_count": 9,
   "id": "d2548c47-5a72-4687-9b42-6e757340fa62",
   "metadata": {},
   "outputs": [
    {
     "data": {
      "text/plain": [
       "<AxesSubplot:xlabel='Peso (kg)', ylabel='Count'>"
      ]
     },
     "execution_count": 9,
     "metadata": {},
     "output_type": "execute_result"
    },
    {
     "data": {
      "image/png": "[encoded data removed]",
      "text/plain": [
       "<Figure size 432x288 with 1 Axes>"
      ]
     },
     "metadata": {
      "needs_background": "light"
     },
     "output_type": "display_data"
    }
   ],
   "source": [
    "sns.histplot(data=df, bins=10, x='Peso (kg)', hue='Esporte')"
   ]
  },
  {
   "cell_type": "code",
   "execution_count": 16,
   "id": "1566c6f8-a02c-448d-8897-d92c983bb092",
   "metadata": {},
   "outputs": [
    {
     "data": {
      "image/png": "[encoded data removed]",
      "text/plain": [
       "<Figure size 432x288 with 2 Axes>"
      ]
     },
     "metadata": {
      "needs_background": "light"
     },
     "output_type": "display_data"
    }
   ],
   "source": [
    "fig, axes = plt.subplots(nrows=1, ncols=2)\n",
    "\n",
    "for idx, esport in enumerate([\"Peso (kg)\", \"Altura (m)\"]):\n",
    "    sns.histplot(data=df, bins=10, x='Peso (kg)', hue='Esporte', ax=axes[idx])"
   ]
  },
  {
   "cell_type": "code",
   "execution_count": 11,
   "id": "3e3d4993-0121-4093-aa4a-2d03d2953012",
   "metadata": {},
   "outputs": [
    {
     "name": "stdout",
     "output_type": "stream",
     "text": [
      "0 a\n",
      "1 b\n",
      "2 c\n"
     ]
    }
   ],
   "source": [
    "l = ['a','b','c']\n",
    "for idx, letra in enumerate(l):\n",
    "    print(idx, letra)"
   ]
  },
  {
   "cell_type": "code",
   "execution_count": 20,
   "id": "c20056da-35a1-4fc0-9fa1-aea4c84b935e",
   "metadata": {},
   "outputs": [
    {
     "data": {
      "text/plain": [
       "<matplotlib.lines.Line2D at 0x7fbdcec840d0>"
      ]
     },
     "execution_count": 20,
     "metadata": {},
     "output_type": "execute_result"
    },
    {
     "data": {
      "image/png": "[encoded data removed]",
      "text/plain": [
       "<Figure size 432x288 with 1 Axes>"
      ]
     },
     "metadata": {
      "needs_background": "light"
     },
     "output_type": "display_data"
    }
   ],
   "source": [
    "sns.scatterplot(data=df, x='Peso (kg)', y='Altura (m)', hue='Esporte')\n",
    "plt.axhline(1.9, color='red', label='limiar')"
   ]
  },
  {
   "cell_type": "code",
   "execution_count": 39,
   "id": "70d67874-3a92-486b-9301-765b3739e7b7",
   "metadata": {},
   "outputs": [],
   "source": [
    "def classificador_limiar(limiar, dados, coluna, rotulos=[\"F\", \"V\"]):\n",
    "    predicoes = []\n",
    "    for idx, dado in dados.iterrows():\n",
    "        if dado[coluna] < limiar:\n",
    "            predicoes.append(rotulos[0])\n",
    "        else:\n",
    "            \n",
    "            predicoes.append(rotulos[1])\n",
    "    return pd.DataFrame(predicoes, columns=['Esporte'])"
   ]
  },
  {
   "cell_type": "code",
   "execution_count": 43,
   "id": "481d15df-751f-4f9c-881a-31c962c71e13",
   "metadata": {},
   "outputs": [],
   "source": [
    "pred = classificador_limiar(1.9, df[['Altura (m)', 'Peso (kg)']], 'Altura (m)')"
   ]
  },
  {
   "cell_type": "code",
   "execution_count": 45,
   "id": "36094922-2b6d-4a6c-b51f-cc5574d47ad5",
   "metadata": {},
   "outputs": [],
   "source": [
    "# for gab, p in zip(df['Esporte'].values, pred.values):\n",
    "#     print(gab, p)"
   ]
  },
  {
   "cell_type": "code",
   "execution_count": 47,
   "id": "e85e785e-0f9a-4a06-837c-825d400b5e51",
   "metadata": {},
   "outputs": [],
   "source": [
    "def comparar_resultados(predicoes, gabarito, rotulo):\n",
    "    predicoes = predicoes.values\n",
    "    gabarito = gabarito.values\n",
    "    acertos = 0\n",
    "    erros = 0\n",
    "    \n",
    "    for gab, pred in zip(gabarito, predicoes):\n",
    "        if gab == rotulo:\n",
    "            if gab == pred:\n",
    "                acertos+=1\n",
    "            else:\n",
    "                erros+=1\n",
    "    return acertos, erros"
   ]
  },
  {
   "cell_type": "code",
   "execution_count": 53,
   "id": "b07eed72-0ccd-41b5-a0e8-61b15ec43aa1",
   "metadata": {},
   "outputs": [
    {
     "data": {
      "text/plain": [
       "((21, 2), (20, 2))"
      ]
     },
     "execution_count": 53,
     "metadata": {},
     "output_type": "execute_result"
    }
   ],
   "source": [
    "res_futebol = comparar_resultados(pred['Esporte'], df['Esporte'], 'F')\n",
    "res_volei = comparar_resultados(pred['Esporte'], df['Esporte'], 'V')\n",
    "\n",
    "res_futebol, res_volei"
   ]
  },
  {
   "cell_type": "code",
   "execution_count": 55,
   "id": "8a03017f-6ef8-4a47-882d-809bde3be90c",
   "metadata": {},
   "outputs": [],
   "source": [
    "def acuracia(acertos, total_instacias):\n",
    "        return acertos/total_instacias"
   ]
  },
  {
   "cell_type": "code",
   "execution_count": 56,
   "id": "76616169-cfc4-477b-b7c8-c91259561bfc",
   "metadata": {},
   "outputs": [
    {
     "name": "stdout",
     "output_type": "stream",
     "text": [
      "0.9130434782608695\n"
     ]
    }
   ],
   "source": [
    "print(acuracia(res_futebol[0], res_futebol[0] + res_futebol[1]))"
   ]
  },
  {
   "cell_type": "code",
   "execution_count": 57,
   "id": "3c442a4b-c298-4666-86e4-8d58fb62035b",
   "metadata": {},
   "outputs": [
    {
     "name": "stdout",
     "output_type": "stream",
     "text": [
      "0.9090909090909091\n"
     ]
    }
   ],
   "source": [
    "print(acuracia(res_volei[0], res_volei[0] + res_volei[1]))"
   ]
  },
  {
   "cell_type": "code",
   "execution_count": 60,
   "id": "a23a6d1c-7306-4292-9533-f6e0b67d3752",
   "metadata": {},
   "outputs": [
    {
     "name": "stdout",
     "output_type": "stream",
     "text": [
      "0.91\n"
     ]
    }
   ],
   "source": [
    "print(\"%.2f\" % acuracia(res_volei[0]+res_futebol[0], len(pred)))"
   ]
  },
  {
   "cell_type": "code",
   "execution_count": 61,
   "id": "749be2f2-a8ad-408f-aa40-3227c2eb6b9b",
   "metadata": {},
   "outputs": [
    {
     "data": {
      "text/plain": [
       "0.9111111111111111"
      ]
     },
     "execution_count": 61,
     "metadata": {},
     "output_type": "execute_result"
    }
   ],
   "source": [
    "from sklearn.metrics import accuracy_score\n",
    "accuracy_score(df['Esporte'], pred['Esporte'])"
   ]
  },
  {
   "cell_type": "code",
   "execution_count": 63,
   "id": "7680d750-c7c6-4685-8acc-023414374ecd",
   "metadata": {},
   "outputs": [
    {
     "name": "stdout",
     "output_type": "stream",
     "text": [
      "Melhor limiar: 1.89, Melhor acuráracia: 0.91\n"
     ]
    }
   ],
   "source": [
    "n_limiares = 100\n",
    "limiares = np.linspace(1.7, 2.2, n_limiares)\n",
    "acuracias = []\n",
    "\n",
    "melhor_limiar = limiares[0]\n",
    "melhor_acuracia = 0\n",
    "\n",
    "for limiar in limiares:\n",
    "    predicoes = classificador_limiar(limiar, df, 'Altura (m)')\n",
    "    \n",
    "    acuracia = accuracy_score(df['Esporte'], predicoes['Esporte'])\n",
    "    acuracias.append(acuracia)\n",
    "    \n",
    "    if acuracia > melhor_acuracia:\n",
    "        melhor_acuracia = acuracia\n",
    "        melhor_limiar = limiar\n",
    "print(\"Melhor limiar: %.2f, Melhor acuráracia: %.2f\" % (melhor_limiar, melhor_acuracia))"
   ]
  },
  {
   "cell_type": "code",
   "execution_count": 64,
   "id": "6d1b1365-e71e-454a-a9c2-3597ca5c86c2",
   "metadata": {},
   "outputs": [
    {
     "data": {
      "text/plain": [
       "Text(0, 0.5, 'Acurárica')"
      ]
     },
     "execution_count": 64,
     "metadata": {},
     "output_type": "execute_result"
    },
    {
     "data": {
      "image/png": "[encoded data removed]",
      "text/plain": [
       "<Figure size 432x288 with 1 Axes>"
      ]
     },
     "metadata": {
      "needs_background": "light"
     },
     "output_type": "display_data"
    }
   ],
   "source": [
    "fig, axes = plt.subplots()\n",
    "axes.plot(limiares, acuracias)\n",
    "axes.axvline(melhor_limiar, color='red')\n",
    "axes.set_xlabel(\"Limiar\")\n",
    "axes.set_ylabel(\"Acurárica\")"
   ]
  },
  {
   "cell_type": "code",
   "execution_count": null,
   "id": "dfa335df-b336-4604-a8c9-5ec889d74172",
   "metadata": {},
   "outputs": [],
   "source": []
  }
 ],
 "metadata": {
  "kernelspec": {
   "display_name": "Python 3 (ipykernel)",
   "language": "python",
   "name": "python3"
  },
  "language_info": {
   "codemirror_mode": {
    "name": "ipython",
    "version": 3
   },
   "file_extension": ".py",
   "mimetype": "text/x-python",
   "name": "python",
   "nbconvert_exporter": "python",
   "pygments_lexer": "ipython3",
   "version": "3.9.2"
  }
 },
 "nbformat": 4,
 "nbformat_minor": 5
}
